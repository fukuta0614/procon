{
 "cells": [
  {
   "cell_type": "markdown",
   "metadata": {},
   "source": [
    "##  コイン問題\n",
    "\n",
    "m枚のコインでnを作る\n",
    "0からnまでの数字を作るために、j枚目までを使ったときの最小枚数を保持 <br>\n",
    "j+1枚目を使ってもいいとき、最小枚数はj+1枚目を使うか使わないかのどちらか"
   ]
  },
  {
   "cell_type": "code",
   "execution_count": null,
   "metadata": {
    "collapsed": true
   },
   "outputs": [],
   "source": [
    "n, m = [int(_) for _ in input().split()]\n",
    "c = [int(_) for _ in input().split()]\n",
    "\n",
    "dp = [float('inf') for j in range(n)]\n",
    "dp[0] = 0\n",
    "\n",
    "for i in range(m):\n",
    "    for j in range(c[i], n):\n",
    "        dp[j] = min(dp[j], dp[j-c[i]] + 1)\n",
    "\n",
    "print(dp[-1])"
   ]
  },
  {
   "cell_type": "markdown",
   "metadata": {},
   "source": [
    "## 0-1ナップザック\n",
    "価値v, 重さwの品物がn個あり、容量Wの制限で最大の組み合わせ <br>\n",
    "品物iまでを選んだときの、重さ制限1 ~ Wまでの最大の組み合わせを考える <br>\n",
    "i+1を使っていいとき、使わないか、i+1の重さを引いた容量での最大値にi+1の価値を足したものかどちらか"
   ]
  },
  {
   "cell_type": "code",
   "execution_count": null,
   "metadata": {
    "collapsed": true
   },
   "outputs": [],
   "source": [
    "N, W = [int(_) for _ in input().split()]\n",
    "w = [[int(_) for _ in input().split()] for i in range(N)]\n",
    "\n",
    "dp = [[0 for i in range(W+1)] for j in range(N+1)]\n",
    "\n",
    "for i in range(1, N+1):\n",
    "    for j in range(1, W+1):\n",
    "        if j < w[i-1][1]:\n",
    "            dp[i][j] = dp[i-1][j]\n",
    "        else:\n",
    "            dp[i][j] = max(dp[i-1][j], dp[i-1][j - w[i-1][1]] + w[i-1][0])\n",
    "\n",
    "print(dp[-1][-1])"
   ]
  },
  {
   "cell_type": "markdown",
   "metadata": {},
   "source": [
    "## 最大正方形問題\n",
    "汚れたタイルときれいなタイルのあるマス目において、一番大きなきれいな正方形 <br>"
   ]
  },
  {
   "cell_type": "code",
   "execution_count": null,
   "metadata": {
    "collapsed": true
   },
   "outputs": [],
   "source": [
    "H, W = [int(_) for _ in input().split()]\n",
    "c = [[int(_) for _ in input().split()] for i in range(H)]\n",
    "\n",
    "dp = [[0 for i in range(W+1)] for j in range(H+1)]\n",
    "\n",
    "res = 0\n",
    "for h in range(H):\n",
    "    for w in range(W):\n",
    "        if c[h][w] == 1:\n",
    "            dp[h][w] = 0\n",
    "        else:\n",
    "            dp[h][w] = min(dp[h-1][w], dp[h][w-1], dp[h-1][w-1]) + 1\n",
    "            res = max(res, dp[h][w])\n",
    "print(res**2)"
   ]
  },
  {
   "cell_type": "markdown",
   "metadata": {},
   "source": [
    "## 最大長方形問題\n",
    "\n",
    "これは難しい\n",
    "i行毎に、ヒストグラム(その行より上にいくつきれいなますがあるか）を作成し、スタックを使って逐一長方形の面積を計算していく"
   ]
  },
  {
   "cell_type": "code",
   "execution_count": null,
   "metadata": {
    "collapsed": true
   },
   "outputs": [],
   "source": [
    "H, W = [int(_) for _ in input().split()]\n",
    "c = [[int(_) for _ in input().split()] for i in range(H)]\n",
    "\n",
    "T = [[0 for i in range(W)] for j in range(H+1)]\n",
    "for i in range(H):\n",
    "    for j in range(W):\n",
    "        T[i][j] = 0 if c[i][j] else T[i-1][j] + 1\n",
    "\n",
    "S = []\n",
    "res = 0\n",
    "for i in range(H):\n",
    "    for j in range(W):\n",
    "        if len(S) == 0:\n",
    "            S.append((j, T[i][j]))\n",
    "        elif T[i][j] > S[-1][1]:\n",
    "            S.append((j, T[i][j]))\n",
    "        elif T[i][j] == S[-1][1]:\n",
    "            continue\n",
    "        elif T[i][j] < S[-1][1]:\n",
    "            while True:\n",
    "                l, h = S.pop()\n",
    "                res = max(res, (j-l)*h)\n",
    "                if len(S) == 0:\n",
    "                    break\n",
    "                if T[i][j] > S[-1][1]:\n",
    "                    break\n",
    "            S.append((l, T[i][j]))\n",
    "print(res)"
   ]
  },
  {
   "cell_type": "markdown",
   "metadata": {},
   "source": [
    "## レーベンシュタイン距離"
   ]
  },
  {
   "cell_type": "code",
   "execution_count": null,
   "metadata": {
    "collapsed": true
   },
   "outputs": [],
   "source": [
    "s1 = input()\n",
    "s2 = input()\n",
    "\n",
    "dist = [[float('inf') for j in range(len(s2)+1)] for i in range(len(s1)+1)]\n",
    "\n",
    "for i in range(len(s1)):\n",
    "    dist[i][0] = i\n",
    "for j in range(len(s2)):\n",
    "    dist[0][j] = j\n",
    "\n",
    "for i in range(1, len(s1)+1):\n",
    "    for j in range(1, len(s2)+1):\n",
    "        cost = 0 if s1[i-1] == s2[j-1] else 1\n",
    "        dist[i][j] = min(dist[i - 1][j] + 1, dist[i][j - 1] + 1, dist[i - 1][j - 1] + cost)\n",
    "\n",
    "print(dist[-1][-1])"
   ]
  },
  {
   "cell_type": "markdown",
   "metadata": {},
   "source": [
    "## 最長増加部分列"
   ]
  },
  {
   "cell_type": "code",
   "execution_count": null,
   "metadata": {
    "collapsed": true
   },
   "outputs": [],
   "source": [
    "import bisect\n",
    "\n",
    "N = int(input())\n",
    "T = [int(input()) for i in range(N)]\n",
    "\n",
    "L = [0]\n",
    "\n",
    "for i in range(N):\n",
    "    if T[i] > L[-1]:\n",
    "        L.append(T[i])\n",
    "    else:\n",
    "\n",
    "        j = bisect.bisect_left(L, T[i])\n",
    "        L[j] = T[i]\n",
    "\n",
    "print(N - len(L) + 1)"
   ]
  },
  {
   "cell_type": "markdown",
   "metadata": {},
   "source": [
    "## 最長共通部分列"
   ]
  },
  {
   "cell_type": "code",
   "execution_count": null,
   "metadata": {
    "collapsed": true
   },
   "outputs": [],
   "source": [
    "q = int(input())\n",
    "xy = [[input() for _ in range(2)] for _ in range(q)]\n",
    "\n",
    "for x, y in xy:\n",
    "    dp = [[0 for j in range(len(y)+1)] for i in range(len(x)+1)]\n",
    "\n",
    "    for i in range(1, len(x)+1):\n",
    "        for j in range(1, len(y)+1):\n",
    "            if x[i-1] == y[j-1]:\n",
    "                dp[i][j] = dp[i-1][j-1] + 1\n",
    "            else:\n",
    "                dp[i][j] = max(dp[i][j-1], dp[i-1][j])\n",
    "    print(dp[-1][-1])"
   ]
  },
  {
   "cell_type": "markdown",
   "metadata": {},
   "source": [
    "## 連鎖行列積"
   ]
  },
  {
   "cell_type": "code",
   "execution_count": null,
   "metadata": {
    "collapsed": true
   },
   "outputs": [],
   "source": [
    "n = int(input())\n",
    "M = [[int(_) for _ in input().split()] for _ in range(n)]\n",
    "\n",
    "dp = [[0 for i in range(n)] for i in range(n)]\n",
    "\n",
    "for m in range(1, n):\n",
    "    for i in range(0, n-m):\n",
    "        opt = float('inf')\n",
    "        for k in range(i, i+m):\n",
    "            opt = min(opt, dp[i][k] + dp[k + 1][i+m] + M[i][0] * M[k][1] * M[i+m][1])\n",
    "        dp[i][i+m] = opt\n",
    "\n",
    "print(dp[0][-1])"
   ]
  }
 ],
 "metadata": {
  "kernelspec": {
   "display_name": "Python 3",
   "language": "python",
   "name": "python3"
  },
  "language_info": {
   "codemirror_mode": {
    "name": "ipython",
    "version": 3.0
   },
   "file_extension": ".py",
   "mimetype": "text/x-python",
   "name": "python",
   "nbconvert_exporter": "python",
   "pygments_lexer": "ipython3",
   "version": "3.5.1"
  }
 },
 "nbformat": 4,
 "nbformat_minor": 0
}