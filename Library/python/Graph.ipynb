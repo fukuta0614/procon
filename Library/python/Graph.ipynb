{
 "cells": [
  {
   "cell_type": "markdown",
   "metadata": {},
   "source": [
    "## 深さ優先探索\n"
   ]
  },
  {
   "cell_type": "code",
   "execution_count": 21,
   "metadata": {},
   "outputs": [
    {
     "name": "stdout",
     "output_type": "stream",
     "text": [
      "1 [1, 12]\n",
      "2 [2, 11]\n",
      "3 [3, 8]\n",
      "4 [9, 10]\n",
      "5 [4, 7]\n",
      "6 [5, 6]\n"
     ]
    }
   ],
   "source": [
    "from collections import defaultdict\n",
    "\n",
    "n = 6\n",
    "adj = {1: [2, 3], 2: [3, 4], 3: [5], 4: [6], 5: [6], 6: []}\n",
    "\n",
    "t = 0\n",
    "res = defaultdict(list)\n",
    "def dfs_wrapper(start_node=1):\n",
    "    \n",
    "    def dfs(node):\n",
    "        global t\n",
    "        t += 1\n",
    "        visited.append(node)\n",
    "        res[node].append(t)\n",
    "        for edge in adj[node]:\n",
    "            if not edge in res:\n",
    "                dfs(edge)\n",
    "        t += 1\n",
    "        res[node].append(t)\n",
    "\n",
    "    dfs(start_node)\n",
    "    return res\n",
    "\n",
    "res = dfs_wrapper()\n",
    "for k in res:\n",
    "    print(k, res[k])"
   ]
  },
  {
   "cell_type": "markdown",
   "metadata": {},
   "source": [
    "## 幅優先探索"
   ]
  },
  {
   "cell_type": "code",
   "execution_count": 31,
   "metadata": {},
   "outputs": [
    {
     "name": "stdout",
     "output_type": "stream",
     "text": [
      "1 [1, 2]\n",
      "2 [3, 4]\n",
      "3 [5, 6]\n",
      "4 [7, 8]\n",
      "5 [9, 10]\n",
      "6 [11, 12]\n"
     ]
    }
   ],
   "source": [
    "import queue\n",
    "\n",
    "n = 6\n",
    "adj = {1: [2, 3], 2: [3, 4], 3: [5], 4: [6], 5: [6], 6: []}\n",
    "\n",
    "t = 0\n",
    "res = defaultdict(list)\n",
    "q = queue.Queue()\n",
    "q.put(1)\n",
    "while not q.empty():\n",
    "    node = q.get()\n",
    "    if node in res:\n",
    "        continue\n",
    "    t += 1\n",
    "    res[node].append(t)\n",
    "    for edge in adj[node]:\n",
    "        if not edge in res:\n",
    "            q.put(edge)\n",
    "    t += 1\n",
    "    res[node].append(t)\n",
    "    \n",
    "for k in res:\n",
    "    print(k, res[k])"
   ]
  },
  {
   "cell_type": "markdown",
   "metadata": {},
   "source": [
    "## トポロジカルソート"
   ]
  },
  {
   "cell_type": "code",
   "execution_count": null,
   "metadata": {
    "collapsed": true
   },
   "outputs": [],
   "source": [
    "import queue\n",
    "\n",
    "V, E = [int(_) for _ in input().split()]\n",
    "adj = [[] for _ in range(V)]\n",
    "adj_in = [[] for _ in range(V)]\n",
    "for i in range(E):\n",
    "    u, v = [int(_) for _ in input().split()]\n",
    "    adj[u].append(v)\n",
    "    adj_in[v].append(u)\n",
    "\n",
    "q = queue.Queue()\n",
    "\n",
    "for v in range(V):\n",
    "    if len(adj_in[v]) == 0:\n",
    "        q.put(v)\n",
    "\n",
    "ans = []\n",
    "while not q.empty():\n",
    "    u = q.get()\n",
    "    ans.append(u)\n",
    "    for v in adj[u]:\n",
    "        adj_in[v].remove(u)\n",
    "        if len(adj_in[v]) == 0:\n",
    "            q.put(v)\n",
    "\n",
    "print(ans)"
   ]
  },
  {
   "cell_type": "markdown",
   "metadata": {},
   "source": [
    "## 最小kr全域木 (Prim法)"
   ]
  },
  {
   "cell_type": "code",
   "execution_count": null,
   "metadata": {
    "collapsed": true
   },
   "outputs": [],
   "source": [
    "import heapq\n",
    "\n",
    "V, E = [int(_) for _ in input().split()]\n",
    "uvl = [[int(_) for _ in input().split()] for i in range(E)]\n",
    "\n",
    "adj = [[0] * V for _ in range(V)]\n",
    "for i, j, l in uvl:\n",
    "    adj[i][j] = l\n",
    "    adj[j][i] = l\n",
    "\n",
    "dist = [float('inf')] * V\n",
    "prev = [-1] * V\n",
    "q = [(0, 0)]\n",
    "\n",
    "T = []\n",
    "while len(T) < V:\n",
    "    cost, u = heapq.heappop(q)\n",
    "    T.append(u)\n",
    "\n",
    "    for v in range(V):\n",
    "        if adj[u][v] > 0 and not v in T:\n",
    "            tmp = adj[u][v]\n",
    "            if tmp < dist[v]:\n",
    "                dist[v] = tmp\n",
    "                prev[v] = u\n",
    "                heapq.heappush(q, (tmp, v))\n",
    "ans = 0\n",
    "for v in range(V):\n",
    "    if prev[v] != -1:\n",
    "        ans += adj[v][prev[v]]\n",
    "\n",
    "print(ans)"
   ]
  },
  {
   "cell_type": "markdown",
   "metadata": {},
   "source": [
    "## 単一始点最短経路 (ダイクストラ法)"
   ]
  },
  {
   "cell_type": "code",
   "execution_count": null,
   "metadata": {
    "collapsed": true
   },
   "outputs": [],
   "source": [
    "import heapq\n",
    "\n",
    "V, E = [int(_) for _ in input().split()]\n",
    "uvl = [[int(_) for _ in input().split()] for i in range(E)]\n",
    "\n",
    "adj = [[0] * V for _ in range(V)]\n",
    "for i, j, l in uvl:\n",
    "    adj[i][j] = l\n",
    "    adj[j][i] = l\n",
    "\n",
    "dist = [float('inf')] * V\n",
    "prev = [-1] * V\n",
    "q = [(0, 0)]\n",
    "\n",
    "T = []\n",
    "while len(T) < V:\n",
    "    cost, u = heapq.heappop(q)\n",
    "    \n",
    "    if cost < dist[u]:\n",
    "        continue\n",
    "        \n",
    "    for v in range(V):\n",
    "        if adj[u][v] > 0:\n",
    "            tmp = cost + adj[u][v]\n",
    "            if tmp < dist[v]:\n",
    "                dist[v] = tmp\n",
    "                prev[v] = u\n",
    "                heapq.heappush(q, (tmp, v))\n",
    "ans = 0\n",
    "v = goal\n",
    "while v != start:\n",
    "    ans += adj[v][prev[v]]\n",
    "\n",
    "print(ans)"
   ]
  },
  {
   "cell_type": "markdown",
   "metadata": {},
   "source": [
    "## 単一始点最短経路 (ベルマンフォード法)\n"
   ]
  },
  {
   "cell_type": "code",
   "execution_count": null,
   "metadata": {
    "collapsed": true
   },
   "outputs": [],
   "source": []
  },
  {
   "cell_type": "markdown",
   "metadata": {},
   "source": [
    "## 全点対最短経路 (ワーシャルフロイド法）"
   ]
  },
  {
   "cell_type": "code",
   "execution_count": 53,
   "metadata": {},
   "outputs": [],
   "source": [
    "N, M = [int(_) for _ in input().split()]\n",
    "uvl = [[int(_) for _ in input().split()] for i in range(M)]\n",
    "\n",
    "dist = [[float('inf')] * N for _ in range(N)]\n",
    "for i, j, l in uvl:\n",
    "    dist[i-1][j-1] = l\n",
    "    dist[j-1][i-1] = l\n",
    "\n",
    "for k in range(1, N):\n",
    "    for i in range(1, N):\n",
    "        for j in range(1, N):\n",
    "            dist[i][j] = min(dist[i][j], dist[i][k] + dist[k][j])"
   ]
  },
  {
   "cell_type": "code",
   "execution_count": 4,
   "metadata": {},
   "outputs": [
    {
     "data": {
      "text/plain": [
       "362880"
      ]
     },
     "execution_count": 4,
     "metadata": {},
     "output_type": "execute_result"
    }
   ],
   "source": [
    "from functools import reduce\n",
    "reduce(lambda x, y: x*y, list(range(1,10)))"
   ]
  },
  {
   "cell_type": "code",
   "execution_count": null,
   "metadata": {
    "collapsed": true
   },
   "outputs": [],
   "source": []
  }
 ],
 "metadata": {
  "kernelspec": {
   "display_name": "Python 3",
   "language": "python",
   "name": "python3"
  },
  "language_info": {
   "codemirror_mode": {
    "name": "ipython",
    "version": 3
   },
   "file_extension": ".py",
   "mimetype": "text/x-python",
   "name": "python",
   "nbconvert_exporter": "python",
   "pygments_lexer": "ipython3",
   "version": "3.6.4"
  }
 },
 "nbformat": 4,
 "nbformat_minor": 1
}
