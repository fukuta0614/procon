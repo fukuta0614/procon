{
 "cells": [
  {
   "cell_type": "code",
   "execution_count": 10,
   "id": "e6d5e4b5",
   "metadata": {},
   "outputs": [],
   "source": [
    "import math"
   ]
  },
  {
   "cell_type": "code",
   "execution_count": null,
   "id": "7aed096d",
   "metadata": {},
   "outputs": [],
   "source": []
  },
  {
   "cell_type": "code",
   "execution_count": null,
   "id": "27188172",
   "metadata": {},
   "outputs": [],
   "source": []
  },
  {
   "cell_type": "markdown",
   "id": "0a06e6e8",
   "metadata": {},
   "source": [
    "## CoughingFox"
   ]
  },
  {
   "cell_type": "code",
   "execution_count": 1,
   "id": "1205940d",
   "metadata": {},
   "outputs": [],
   "source": [
    "with open(\"CoughingFox/output.txt\") as f:\n",
    "    s = f.read()"
   ]
  },
  {
   "cell_type": "code",
   "execution_count": 9,
   "id": "8972c31c",
   "metadata": {},
   "outputs": [],
   "source": [
    "output = [int(x) for x in s.split('=')[1][3:-2].split(', ')]"
   ]
  },
  {
   "cell_type": "code",
   "execution_count": 25,
   "id": "01111024",
   "metadata": {},
   "outputs": [],
   "source": [
    "flag = [0] * len(output)\n",
    "for n in output:\n",
    "    for i in range(len(output)):\n",
    "        a = n - i\n",
    "        b = int(math.sqrt(a))\n",
    "        if b * b == a and flag[i] == 0:\n",
    "            flag[i] = b - i\n",
    "            break"
   ]
  },
  {
   "cell_type": "code",
   "execution_count": 26,
   "id": "6b0ba90e",
   "metadata": {},
   "outputs": [
    {
     "data": {
      "text/plain": [
       "'ctf4b{Hey,Fox?YouCanNotTearThat\\x0fouseDown,CanYou\\x00}'"
      ]
     },
     "execution_count": 26,
     "metadata": {},
     "output_type": "execute_result"
    }
   ],
   "source": [
    "''.join([chr(x) for x in flag])"
   ]
  },
  {
   "cell_type": "code",
   "execution_count": 24,
   "id": "225a7ce5",
   "metadata": {},
   "outputs": [
    {
     "data": {
      "text/plain": [
       "'ctf4b{Hey,Fox?YouCanNotTearThatHouseDown,CanYou\\x00}'"
      ]
     },
     "execution_count": 24,
     "metadata": {},
     "output_type": "execute_result"
    }
   ],
   "source": [
    "''.join([chr(x) for x in flag])"
   ]
  },
  {
   "cell_type": "code",
   "execution_count": null,
   "id": "c37ba485",
   "metadata": {},
   "outputs": [],
   "source": []
  }
 ],
 "metadata": {
  "kernelspec": {
   "display_name": "Python 3 (ipykernel)",
   "language": "python",
   "name": "python3"
  },
  "language_info": {
   "codemirror_mode": {
    "name": "ipython",
    "version": 3
   },
   "file_extension": ".py",
   "mimetype": "text/x-python",
   "name": "python",
   "nbconvert_exporter": "python",
   "pygments_lexer": "ipython3",
   "version": "3.9.7"
  }
 },
 "nbformat": 4,
 "nbformat_minor": 5
}
