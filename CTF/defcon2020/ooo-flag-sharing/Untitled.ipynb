{
 "cells": [
  {
   "cell_type": "code",
   "execution_count": 12,
   "metadata": {},
   "outputs": [],
   "source": [
    "import socket\n",
    " \n",
    "class Netcat:\n",
    "\n",
    "    \"\"\" Python 'netcat like' module \"\"\"\n",
    "\n",
    "    def __init__(self, ip, port):\n",
    "\n",
    "        self.buff = \"\"\n",
    "        self.socket = socket.socket(socket.AF_INET, socket.SOCK_STREAM)\n",
    "        self.socket.connect((ip, port))\n",
    "\n",
    "    def read(self, length = 1024):\n",
    "\n",
    "        \"\"\" Read 1024 bytes off the socket \"\"\"\n",
    "\n",
    "        return self.socket.recv(length)\n",
    " \n",
    "    def read_until(self, data):\n",
    "\n",
    "        \"\"\" Read data into the buffer until we have data \"\"\"\n",
    "\n",
    "        while not data in self.buff:\n",
    "            self.buff += self.socket.recv(1024)\n",
    " \n",
    "        pos = self.buff.find(data)\n",
    "        rval = self.buff[:pos + len(data)]\n",
    "        self.buff = self.buff[pos + len(data):]\n",
    " \n",
    "        return rval\n",
    " \n",
    "    def write(self, data):\n",
    "\n",
    "        self.socket.send(data)\n",
    "    \n",
    "    def close(self):\n",
    "\n",
    "        self.socket.close()"
   ]
  },
  {
   "cell_type": "code",
   "execution_count": 39,
   "metadata": {},
   "outputs": [],
   "source": []
  },
  {
   "cell_type": "code",
   "execution_count": 11,
   "metadata": {},
   "outputs": [
    {
     "name": "stdout",
     "output_type": "stream",
     "text": [
      "asdf1234\n"
     ]
    }
   ],
   "source": [
    "while True:\n",
    "    q = nc.read_until('\\n')\n",
    "    print(q)\n",
    "    ans = str(eval(q.strip('\\ufeff').strip('\\n')))\n",
    "    print(ans)\n",
    "    nc.write(str(ans + '\\n').encode('utf-8'))"
   ]
  },
  {
   "cell_type": "code",
   "execution_count": 40,
   "metadata": {},
   "outputs": [
    {
     "data": {
      "text/plain": [
       "\"Welcome to the...\\n\\n                 ___   ___   ___      _____ _             \\n                / _ \\\\ / _ \\\\ / _ \\\\    |  ___| | __ _  __ _ \\n               | | | | | | | | | |   | |_  | |/ _` |/ _` |\\n               | |_| | |_| | |_| |   |  _| | | (_| | (_| |\\n                \\\\___/ \\\\___/ \\\\___/    |_|   |_|\\\\__,_|\\\\__, |\\n                                                    |___/ \\n ____  _                _                 ____                  _          \\n/ ___|| |__   __ _ _ __(_)_ __   __ _    / ___|  ___ _ ____   _(_) ___ ___ \\n\\\\___ \\\\| '_ \\\\ / _` | '__| | '_ \\\\ / _` |   \\\\___ \\\\ / _ \\\\ '__\\\\ \\\\ / / |/ __/ _ \\\\\\n ___) | | | | (_| | |  | | | | | (_| |    ___) |  __/ |   \\\\ V /| | (_|  __/\\n|____/|_| |_|\\\\__,_|_|  |_|_| |_|\\\\__, |   |____/ \\\\___|_|    \\\\_/ |_|\\\\___\\\\___|\\n                                |___/                                      \\n\\nOOO has finally solved the flag sharing problem by making it quick and easy for\\naspiring cheaters to share flags by utilizing a secure and exciting secret\\nsharing scheme! OOO reserves the right to withhold flag shares where deemed\\nappropriate.\\n\\nUsername: \""
      ]
     },
     "execution_count": 40,
     "metadata": {},
     "output_type": "execute_result"
    }
   ],
   "source": []
  },
  {
   "cell_type": "code",
   "execution_count": 70,
   "metadata": {},
   "outputs": [
    {
     "name": "stdout",
     "output_type": "stream",
     "text": [
      "Welcome to the...\n",
      "\n",
      "                 ___   ___   ___      _____ _             \n",
      "                / _ \\ / _ \\ / _ \\    |  ___| | __ _  __ _ \n",
      "               | | | | | | | | | |   | |_  | |/ _` |/ _` |\n",
      "               | |_| | |_| | |_| |   |  _| | | (_| | (_| |\n",
      "                \\___/ \\___/ \\___/    |_|   |_|\\__,_|\\__, |\n",
      "                                                    |___/ \n",
      " ____  _                _                 ____                  _          \n",
      "/ ___|| |__   __ _ _ __(_)_ __   __ _    / ___|  ___ _ ____   _(_) ___ ___ \n",
      "\\___ \\| '_ \\ / _` | '__| | '_ \\ / _` |   \\___ \\ / _ \\ '__\\ \\ / / |/ __/ _ \\\n",
      " ___) | | | | (_| | |  | | | | | (_| |    ___) |  __/ |   \\ V /| | (_|  __/\n",
      "|____/|_| |_|\\__,_|_|  |_|_| |_|\\__, |   |____/ \\___|_|    \\_/ |_|\\___\\___|\n",
      "                                |___/                                      \n",
      "\n",
      "OOO has finally solved the flag sharing problem by making it quick and easy for\n",
      "aspiring cheaters to share flags by utilizing a secure and exciting secret\n",
      "sharing scheme! OOO reserves the right to withhold flag shares where deemed\n",
      "appropriate.\n",
      "\n",
      "Username: \n",
      "What do, fukuta?\n",
      "1 <- Share useless flag.\n",
      "2 <- Redeem useless flag.\n",
      "3 <- Store scoring flag.\n",
      "4 <- Retrieve scoring flag.\n",
      "0 <- Done.\n",
      "Choice: \n",
      "Enter secret to share: \n",
      "Your secret's ID is: aa6574\n",
      "Number of shares to make: \n",
      "Your shares are: [(61, 132597682400931415026914018558543552458193746341086464136818126502438613699978785), (59, 92095774970224931726744409547446359259606150244794057355673793333621332322572216), (76, 89969685916035083391373300552958054601300590652198639344571210064128083029650256), (30, 79164005315646698284877452814404581657968601012980630227423403489338587235302378)]\n",
      "\n"
     ]
    },
    {
     "data": {
      "text/plain": [
       "[61,\n",
       " 132597682400931415026914018558543552458193746341086464136818126502438613699978785L,\n",
       " 59,\n",
       " 92095774970224931726744409547446359259606150244794057355673793333621332322572216L,\n",
       " 76,\n",
       " 89969685916035083391373300552958054601300590652198639344571210064128083029650256L,\n",
       " 30,\n",
       " 79164005315646698284877452814404581657968601012980630227423403489338587235302378L]"
      ]
     },
     "execution_count": 70,
     "metadata": {},
     "output_type": "execute_result"
    }
   ],
   "source": [
    "nc = Netcat('ooo-flag-sharing.challenges.ooo', 5000)\n",
    "\n",
    "q = nc.read_until('Username: ')\n",
    "print(q)\n",
    "\n",
    "s = 'fukuta'\n",
    "nc.write(str(s + '\\n').encode('utf-8'))\n",
    "\n",
    "q = nc.read_until('Choice: ')\n",
    "print(q)\n",
    "\n",
    "s = '1'\n",
    "nc.write(str(s + '\\n').encode('utf-8'))\n",
    "\n",
    "q = nc.read_until('Enter secret to share: ')\n",
    "print(q)\n",
    "\n",
    "s = 'aasdfasdfasdfasdf'\n",
    "nc.write(str(s + '\\n').encode('utf-8'))\n",
    "\n",
    "q = nc.read_until('Number of shares to make: ')\n",
    "print(q)\n",
    "\n",
    "s = '5'\n",
    "nc.write(str(s + '\\n').encode('utf-8'))\n",
    "\n",
    "q = nc.read_until('\\n')\n",
    "print(q)\n",
    "\n",
    "shares = q[17:-1].replace(')', '').replace('(', '').replace(']', '').replace('[', '').split(\",\")\n",
    "shares = [int(s.lstrip()) for s in shares]\n",
    "shares"
   ]
  },
  {
   "cell_type": "code",
   "execution_count": null,
   "metadata": {},
   "outputs": [],
   "source": [
    "re.search(r'')"
   ]
  },
  {
   "cell_type": "code",
   "execution_count": 67,
   "metadata": {},
   "outputs": [
    {
     "data": {
      "text/plain": [
       "[89,\n",
       " 78543616619636732885774366664440932904775966614389548436664402871683856418300602L,\n",
       " 27,\n",
       " 39906177749745758955547646555430030839090153860387558661821547899306032675639255L,\n",
       " 30,\n",
       " 43450351166837390836464266980953902601645265936473531066202889304440450466112742L,\n",
       " 11,\n",
       " 128956051243511094865296385129272947900019241462390886685116358787610225797071558L]"
      ]
     },
     "execution_count": 67,
     "metadata": {},
     "output_type": "execute_result"
    }
   ],
   "source": []
  },
  {
   "cell_type": "code",
   "execution_count": 52,
   "metadata": {},
   "outputs": [
    {
     "data": {
      "text/plain": [
       "16"
      ]
     },
     "execution_count": 52,
     "metadata": {},
     "output_type": "execute_result"
    }
   ],
   "source": [
    "len('Your shares are:')"
   ]
  },
  {
   "cell_type": "code",
   "execution_count": 44,
   "metadata": {},
   "outputs": [
    {
     "data": {
      "text/plain": [
       "'Enter secret to share: '"
      ]
     },
     "execution_count": 44,
     "metadata": {},
     "output_type": "execute_result"
    }
   ],
   "source": []
  },
  {
   "cell_type": "code",
   "execution_count": 45,
   "metadata": {},
   "outputs": [],
   "source": []
  },
  {
   "cell_type": "code",
   "execution_count": 46,
   "metadata": {},
   "outputs": [
    {
     "data": {
      "text/plain": [
       "\"Your secret's ID is: d8578e\\nNumber of shares to make: \""
      ]
     },
     "execution_count": 46,
     "metadata": {},
     "output_type": "execute_result"
    }
   ],
   "source": []
  },
  {
   "cell_type": "code",
   "execution_count": 73,
   "metadata": {},
   "outputs": [],
   "source": [
    "key = b\"abcdefg\""
   ]
  },
  {
   "cell_type": "code",
   "execution_count": 74,
   "metadata": {},
   "outputs": [
    {
     "ename": "AttributeError",
     "evalue": "type object 'int' has no attribute 'from_bytes'",
     "output_type": "error",
     "traceback": [
      "\u001b[0;31m---------------------------------------------------------------------------\u001b[0m",
      "\u001b[0;31mAttributeError\u001b[0m                            Traceback (most recent call last)",
      "\u001b[0;32m<ipython-input-74-e76c3ebbc844>\u001b[0m in \u001b[0;36m<module>\u001b[0;34m()\u001b[0m\n\u001b[0;32m----> 1\u001b[0;31m \u001b[0mx\u001b[0m \u001b[0;34m=\u001b[0m \u001b[0;34m[\u001b[0m \u001b[0mint\u001b[0m\u001b[0;34m.\u001b[0m\u001b[0mfrom_bytes\u001b[0m\u001b[0;34m(\u001b[0m\u001b[0mkey\u001b[0m\u001b[0;34m,\u001b[0m \u001b[0mbyteorder\u001b[0m\u001b[0;34m=\u001b[0m\u001b[0;34m'little'\u001b[0m\u001b[0;34m)\u001b[0m \u001b[0;34m]\u001b[0m\u001b[0;34m\u001b[0m\u001b[0m\n\u001b[0m",
      "\u001b[0;31mAttributeError\u001b[0m: type object 'int' has no attribute 'from_bytes'"
     ]
    }
   ],
   "source": [
    "x = [ int.from_bytes(key, byteorder='little') ]"
   ]
  },
  {
   "cell_type": "code",
   "execution_count": 75,
   "metadata": {},
   "outputs": [
    {
     "ename": "NameError",
     "evalue": "name 'from_bytes' is not defined",
     "output_type": "error",
     "traceback": [
      "\u001b[0;31m---------------------------------------------------------------------------\u001b[0m",
      "\u001b[0;31mNameError\u001b[0m                                 Traceback (most recent call last)",
      "\u001b[0;32m<ipython-input-75-e60754bcb43a>\u001b[0m in \u001b[0;36m<module>\u001b[0;34m()\u001b[0m\n\u001b[0;32m----> 1\u001b[0;31m \u001b[0mfrom_bytes\u001b[0m\u001b[0;34m\u001b[0m\u001b[0m\n\u001b[0m",
      "\u001b[0;31mNameError\u001b[0m: name 'from_bytes' is not defined"
     ]
    }
   ],
   "source": [
    "from_bytes"
   ]
  },
  {
   "cell_type": "code",
   "execution_count": 4,
   "metadata": {},
   "outputs": [
    {
     "ename": "ValueError",
     "evalue": "pow() 2nd argument cannot be negative when 3rd argument specified",
     "output_type": "error",
     "traceback": [
      "\u001b[0;31m---------------------------------------------------------------------------\u001b[0m",
      "\u001b[0;31mValueError\u001b[0m                                Traceback (most recent call last)",
      "\u001b[0;32m<ipython-input-4-ac1a1a05e267>\u001b[0m in \u001b[0;36m<module>\u001b[0;34m()\u001b[0m\n\u001b[0;32m----> 1\u001b[0;31m \u001b[0mpow\u001b[0m\u001b[0;34m(\u001b[0m\u001b[0;36m38\u001b[0m\u001b[0;34m,\u001b[0m \u001b[0;34m-\u001b[0m\u001b[0;36m1\u001b[0m\u001b[0;34m,\u001b[0m \u001b[0;36m97\u001b[0m\u001b[0;34m)\u001b[0m\u001b[0;34m\u001b[0m\u001b[0;34m\u001b[0m\u001b[0m\n\u001b[0m",
      "\u001b[0;31mValueError\u001b[0m: pow() 2nd argument cannot be negative when 3rd argument specified"
     ]
    }
   ],
   "source": [
    "pow(38, -1, 97)"
   ]
  },
  {
   "cell_type": "code",
   "execution_count": null,
   "metadata": {},
   "outputs": [],
   "source": []
  }
 ],
 "metadata": {
  "kernelspec": {
   "display_name": "Python 3",
   "language": "python",
   "name": "python3"
  },
  "language_info": {
   "codemirror_mode": {
    "name": "ipython",
    "version": 3
   },
   "file_extension": ".py",
   "mimetype": "text/x-python",
   "name": "python",
   "nbconvert_exporter": "python",
   "pygments_lexer": "ipython3",
   "version": "3.6.10"
  }
 },
 "nbformat": 4,
 "nbformat_minor": 2
}
