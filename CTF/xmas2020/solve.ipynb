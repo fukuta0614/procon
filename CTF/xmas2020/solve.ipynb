{
 "cells": [
  {
   "cell_type": "code",
   "execution_count": 2,
   "metadata": {},
   "outputs": [],
   "source": [
    "import os\n",
    "import random\n",
    "import numpy as np\n",
    "import matplotlib.pyplot as plt\n",
    "from collections import Counter, defaultdict"
   ]
  },
  {
   "cell_type": "code",
   "execution_count": 358,
   "metadata": {},
   "outputs": [
    {
     "data": {
      "text/plain": [
       "4"
      ]
     },
     "execution_count": 358,
     "metadata": {},
     "output_type": "execute_result"
    }
   ],
   "source": [
    "(187 * 40) % 84"
   ]
  },
  {
   "cell_type": "code",
   "execution_count": 356,
   "metadata": {},
   "outputs": [
    {
     "data": {
      "text/plain": [
       "60"
      ]
     },
     "execution_count": 356,
     "metadata": {},
     "output_type": "execute_result"
    }
   ],
   "source": [
    "(187 - 168) * 40 % 84"
   ]
  },
  {
   "cell_type": "code",
   "execution_count": 349,
   "metadata": {},
   "outputs": [
    {
     "data": {
      "text/plain": [
       "(22512, 0)"
      ]
     },
     "execution_count": 349,
     "metadata": {},
     "output_type": "execute_result"
    }
   ],
   "source": [
    "x = 72 + 561 * 12\n",
    "x, x % 84"
   ]
  },
  {
   "cell_type": "code",
   "execution_count": 359,
   "metadata": {},
   "outputs": [],
   "source": [
    "N = 84\n",
    "S = 72\n",
    "K = 561"
   ]
  },
  {
   "cell_type": "code",
   "execution_count": 360,
   "metadata": {},
   "outputs": [
    {
     "ename": "SyntaxError",
     "evalue": "can't assign to operator (<ipython-input-360-1a22d156d914>, line 1)",
     "output_type": "error",
     "traceback": [
      "\u001b[0;36m  File \u001b[0;32m\"<ipython-input-360-1a22d156d914>\"\u001b[0;36m, line \u001b[0;32m1\u001b[0m\n\u001b[0;31m    K * x = 12\u001b[0m\n\u001b[0m              ^\u001b[0m\n\u001b[0;31mSyntaxError\u001b[0m\u001b[0;31m:\u001b[0m can't assign to operator\n"
     ]
    }
   ],
   "source": [
    "K * x = 12"
   ]
  },
  {
   "cell_type": "code",
   "execution_count": null,
   "metadata": {},
   "outputs": [],
   "source": []
  },
  {
   "cell_type": "code",
   "execution_count": null,
   "metadata": {},
   "outputs": [],
   "source": []
  },
  {
   "cell_type": "markdown",
   "metadata": {},
   "source": [
    "### Scrambled Carol "
   ]
  },
  {
   "cell_type": "code",
   "execution_count": 32,
   "metadata": {},
   "outputs": [],
   "source": [
    "old_sigma = \"0123456789abcdef\"\n",
    "new_sigma = list(old_sigma)\n",
    "random.shuffle(new_sigma)\n",
    "new_sigma = ''.join(new_sigma)"
   ]
  },
  {
   "cell_type": "code",
   "execution_count": 45,
   "metadata": {},
   "outputs": [],
   "source": [
    "input_data = \"abcdefghijklmnopqrstuvwxyz\""
   ]
  },
  {
   "cell_type": "code",
   "execution_count": 46,
   "metadata": {
    "scrolled": true
   },
   "outputs": [],
   "source": [
    "output_data = \"\"\n",
    "\n",
    "for alpha in input_data:\n",
    "    encoded = (bytes(alpha.encode()).hex())\n",
    "    output_data += new_sigma[old_sigma.index(encoded[0])]\n",
    "    output_data += new_sigma[old_sigma.index(encoded[1])]"
   ]
  },
  {
   "cell_type": "code",
   "execution_count": 63,
   "metadata": {},
   "outputs": [],
   "source": [
    "new_sigma = \"62c34e_90__157_a\""
   ]
  },
  {
   "cell_type": "code",
   "execution_count": null,
   "metadata": {},
   "outputs": [],
   "source": [
    "output = \"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\""
   ]
  },
  {
   "cell_type": "code",
   "execution_count": 343,
   "metadata": {},
   "outputs": [],
   "source": [
    "with open(\"Scrambled_Carol/output.txt\") as f:\n",
    "    output = f.read()"
   ]
  },
  {
   "cell_type": "code",
   "execution_count": 344,
   "metadata": {},
   "outputs": [],
   "source": [
    "output2 = []\n",
    "for i in range(len(output)//2):\n",
    "    output2.append(output[2*i: 2*i+2])"
   ]
  },
  {
   "cell_type": "code",
   "execution_count": 345,
   "metadata": {},
   "outputs": [
    {
     "data": {
      "text/plain": [
       "[('0', 645), ('d', 293), ('1', 246), ('3', 49), ('8', 35), ('c', 12), ('4', 4)]"
      ]
     },
     "execution_count": 345,
     "metadata": {},
     "output_type": "execute_result"
    }
   ],
   "source": [
    "c = Counter([c[0] for c in output2])\n",
    "c.most_common()"
   ]
  },
  {
   "cell_type": "code",
   "execution_count": 59,
   "metadata": {},
   "outputs": [
    {
     "data": {
      "text/plain": [
       "[('8', 225),\n",
       " ('c', 132),\n",
       " ('7', 104),\n",
       " ('1', 98),\n",
       " ('3', 90),\n",
       " ('b', 86),\n",
       " ('4', 84),\n",
       " ('2', 83),\n",
       " ('5', 76),\n",
       " ('9', 76),\n",
       " ('e', 68),\n",
       " ('d', 64),\n",
       " ('f', 37),\n",
       " ('0', 30),\n",
       " ('a', 18),\n",
       " ('6', 13)]"
      ]
     },
     "execution_count": 59,
     "metadata": {},
     "output_type": "execute_result"
    }
   ],
   "source": [
    "c = Counter([c[1] for c in output2])\n",
    "c.most_common()"
   ]
  },
  {
   "cell_type": "code",
   "execution_count": 62,
   "metadata": {},
   "outputs": [
    {
     "name": "stdout",
     "output_type": "stream",
     "text": [
      "3 [('3e', 16), ('3b', 9), ('35', 4), ('36', 4), ('31', 4), ('30', 3), ('34', 3), ('37', 2), ('39', 2), ('33', 1), ('32', 1)]\n",
      "1 [('18', 210), ('15', 14), ('12', 13), ('19', 7), ('1d', 2)]\n",
      "0 [('0c', 113), ('0b', 77), ('07', 77), ('02', 69), ('09', 67), ('05', 58), ('0e', 51), ('0d', 37), ('03', 29), ('0a', 18), ('01', 16), ('00', 15), ('04', 11), ('06', 5), ('0f', 2)]\n",
      "d [('d1', 78), ('d4', 67), ('d3', 53), ('d7', 25), ('dd', 24), ('dc', 19), ('d8', 14), ('d0', 12), ('de', 1)]\n",
      "c [('c3', 7), ('c4', 3), ('cd', 1), ('c8', 1)]\n",
      "8 [('8f', 35)]\n",
      "4 [('46', 4)]\n"
     ]
    }
   ],
   "source": [
    "mp = defaultdict(list)\n",
    "for x in output2:\n",
    "    mp[x[0]].append(x)\n",
    "\n",
    "for k, v in mp.items():\n",
    "    c = Counter(v)\n",
    "    print(k, c.most_common())"
   ]
  },
  {
   "cell_type": "code",
   "execution_count": 60,
   "metadata": {
    "scrolled": true
   },
   "outputs": [
    {
     "data": {
      "text/plain": [
       "[('18', 210),\n",
       " ('0c', 113),\n",
       " ('d1', 78),\n",
       " ('0b', 77),\n",
       " ('07', 77),\n",
       " ('02', 69),\n",
       " ('d4', 67),\n",
       " ('09', 67),\n",
       " ('05', 58),\n",
       " ('d3', 53),\n",
       " ('0e', 51),\n",
       " ('0d', 37),\n",
       " ('8f', 35),\n",
       " ('03', 29),\n",
       " ('d7', 25),\n",
       " ('dd', 24),\n",
       " ('dc', 19),\n",
       " ('0a', 18),\n",
       " ('01', 16),\n",
       " ('3e', 16),\n",
       " ('00', 15),\n",
       " ('15', 14),\n",
       " ('d8', 14),\n",
       " ('12', 13),\n",
       " ('d0', 12),\n",
       " ('04', 11),\n",
       " ('3b', 9),\n",
       " ('19', 7),\n",
       " ('c3', 7),\n",
       " ('06', 5),\n",
       " ('35', 4),\n",
       " ('46', 4),\n",
       " ('36', 4),\n",
       " ('31', 4),\n",
       " ('c4', 3),\n",
       " ('30', 3),\n",
       " ('34', 3),\n",
       " ('37', 2),\n",
       " ('1d', 2),\n",
       " ('39', 2),\n",
       " ('0f', 2),\n",
       " ('33', 1),\n",
       " ('cd', 1),\n",
       " ('32', 1),\n",
       " ('c8', 1),\n",
       " ('de', 1)]"
      ]
     },
     "execution_count": 60,
     "metadata": {},
     "output_type": "execute_result"
    }
   ],
   "source": [
    "c = Counter(output2)\n",
    "c.most_common()"
   ]
  },
  {
   "cell_type": "code",
   "execution_count": null,
   "metadata": {},
   "outputs": [],
   "source": [
    "0, 1, 3, 4, 8, c, d\n",
    "6, 2,   ,   , 0,   , 7"
   ]
  },
  {
   "cell_type": "code",
   "execution_count": null,
   "metadata": {},
   "outputs": [],
   "source": [
    "new_sigma = \"0123456789abcdef\"\n",
    "new_sigma = \"62c43ef90__157_a\""
   ]
  },
  {
   "cell_type": "code",
   "execution_count": 99,
   "metadata": {},
   "outputs": [
    {
     "name": "stdout",
     "output_type": "stream",
     "text": [
      "0x0 6\n",
      "0x1 2\n",
      "0x2 e\n",
      "0x3 4\n",
      "0x4 3\n",
      "0x5 c\n",
      "0x6 b\n",
      "0x7 9\n",
      "0x8 0\n",
      "0x9 1\n",
      "0xa d\n",
      "0xb f\n",
      "0xc 5\n",
      "0xd 7\n",
      "0xe 8\n",
      "0xf a\n"
     ]
    }
   ],
   "source": [
    "d = [0]*16\n",
    "\n",
    "# 記号 (SP . , (20, 2e, 2c))\n",
    "# 1 [('18', 210), ('15', 14), ('12', 13), ('19', 7), ('1d', 2)]\n",
    "d[1] = \"2\"\n",
    "d[8] = \"0\"\n",
    "\n",
    "d[5] = \"c\"\n",
    "d[2] = \"e\"\n",
    "\n",
    "# 改行コード (0a)\n",
    "# 8 [('8f', 35)]\n",
    "d[0xf] = \"a\"\n",
    "\n",
    "# alphabet\n",
    "# e, a, i, o, n   h,l (65, 61, 69, 6f, 6e, 68, 6c)\n",
    "# 0 [('0c', 113), ('0b', 77), ('07', 77), ('02', 69), ('09', 67), ('05', 58), ('0e', 51), ('0d', 37), ('03', 29), ('0a', 18), ('01', 16), ('00', 15), ('04', 11), ('06', 5), ('0f', 2)]\n",
    "d[0] = \"6\"\n",
    "\n",
    "d[0xc] = \"5\"\n",
    "d[0xb] = \"f\"\n",
    "d[7] = \"9\"\n",
    "# d[2] = \"f\"\n",
    "# d[9] = \"e\"\n",
    "# d[5] = \"8\"\n",
    "# d[0xe] = \"c\"\n",
    "d[9] = \"1\"\n",
    "d[0xe] = \"8\"\n",
    "\n",
    "# 4 [('46', 4)]\n",
    "# ? -> 3f\n",
    "d[4] = \"3\"\n",
    "d[6] = \"b\"\n",
    "\n",
    "# alphabet\n",
    "# r, t, s, (2, 4, 3)\n",
    "# d [('d1', 78), ('d4', 67), ('d3', 53), ('d7', 25), ('dd', 24), ('dc', 19), ('d8', 14), ('d0', 12), ('de', 1)]\n",
    "d[0xd] = \"7\"\n",
    "# d[1] = \"2\"\n",
    "d[4] = \"3\"\n",
    "d[3] = \"4\"\n",
    "\n",
    "# Alphabet\n",
    "# A (41)\n",
    "# 3 [('3e', 16), ('3b', 9), ('35', 4), ('36', 4), ('31', 4), ('30', 3), ('34', 3), ('37', 2), ('39', 2), ('33', 1), ('32', 1)]\n",
    "# d[0xe] = \"1\"\n",
    "\n",
    "# c [('c3', 7), ('c4', 3), ('cd', 1), ('c8', 1)]\n",
    "# P,Q,R,S,T,U,V,W,X,Y,Z,[,¥,],^,_,\n",
    "d[0xc] = \"5\"\n",
    "d[3] = \"4\"\n",
    "\n",
    "d[0xa] = \"d\"\n",
    "\n",
    "\n",
    "for i in range(len(d)):\n",
    "    print(hex(i), d[i])"
   ]
  },
  {
   "cell_type": "code",
   "execution_count": 101,
   "metadata": {},
   "outputs": [
    {
     "name": "stdout",
     "output_type": "stream",
     "text": [
      "O holy night! The stars are brightly shining,\n",
      "It is the night of our dear Saviour's birth.\n",
      "Long lay the world in sin and error pining,\n",
      "Till He appear'd and the soul felt its worth.\n",
      "A thrill of hope, the weary world rejoices,\n",
      "For yonder breaks a new and glorious morn.\n",
      "\n",
      "Fall on your knees! O hear the angel voices!\n",
      "O night divine, O night when Christ was born;\n",
      "O night divine, O night, O night Divine.\n",
      "\n",
      "Led by the light of Faith serenely beaming,\n",
      "With glowing hearts by His cradle we stand.\n",
      "So led by light of a star sweetly gleaming,\n",
      "Here come the wise men from the Orient land.\n",
      "The King of Kings lay thus in lowly manger;\n",
      "In all our trials born to be our friend.\n",
      "\n",
      "He knows our need, to our weaknesses no stranger,\n",
      "Behold your King! Before Him lowly bend!\n",
      "Behold your King, Before Him lowly bend!\n",
      "\n",
      "Truly He taught us to love one another;\n",
      "His law is love and His gospel is peace.\n",
      "Chains shall He break for the slave is our brother;\n",
      "And in His name all oppression shall cease.\n",
      "Sweet hymns of joy in grateful chorus raise we,\n",
      "Let all within us praise His holy name.\n",
      "\n",
      "Christ is the Lord! O praise His Name forever,\n",
      "His power and glory evermore proclaim.\n",
      "His power and glory evermore proclaim. \n",
      "\n",
      "This carol was encoded to garbage by HTsP gang.\n",
      "The flag is xmaswasneverasgoodasitisthisyear\n",
      "\n"
     ]
    }
   ],
   "source": [
    "res = []\n",
    "for i in range(len(output)//2):\n",
    "    res.append(output[2*i: 2*i+2])\n",
    "    \n",
    "ans = \"\"\n",
    "for x in res:\n",
    "    a = d[old_sigma.index(x[0])]\n",
    "    b = d[old_sigma.index(x[1])]\n",
    "    if a == \"_\" or b == \"_\":\n",
    "        ans += \"_\"\n",
    "    else:\n",
    "        ans += chr(int(a + b, 16))\n",
    "print(ans)"
   ]
  },
  {
   "cell_type": "code",
   "execution_count": 271,
   "metadata": {},
   "outputs": [],
   "source": [
    "import os\n",
    "import sys\n",
    "from hashlib import sha256\n",
    "from binascii import unhexlify, hexlify"
   ]
  },
  {
   "cell_type": "code",
   "execution_count": 171,
   "metadata": {},
   "outputs": [],
   "source": [
    "def solve_1(code):\n",
    "    size = 5\n",
    "    for n in range(16 ** 6):\n",
    "        inp = \"{:06x}\".format(n)\n",
    "        sh = sha256(unhexlify(inp)).hexdigest()[-size:]\n",
    "        if sh == code:\n",
    "            return inp"
   ]
  },
  {
   "cell_type": "code",
   "execution_count": 174,
   "metadata": {},
   "outputs": [
    {
     "data": {
      "text/plain": [
       "'1306d9'"
      ]
     },
     "execution_count": 174,
     "metadata": {},
     "output_type": "execute_result"
    }
   ],
   "source": [
    "solve_1(\"3cf3c\")"
   ]
  },
  {
   "cell_type": "code",
   "execution_count": 151,
   "metadata": {},
   "outputs": [
    {
     "data": {
      "text/plain": [
       "'0x7b'"
      ]
     },
     "execution_count": 151,
     "metadata": {},
     "output_type": "execute_result"
    }
   ],
   "source": [
    "hex(123)"
   ]
  },
  {
   "cell_type": "code",
   "execution_count": 177,
   "metadata": {},
   "outputs": [],
   "source": []
  },
  {
   "cell_type": "markdown",
   "metadata": {},
   "source": [
    "### Santa's public key factory "
   ]
  },
  {
   "cell_type": "code",
   "execution_count": 188,
   "metadata": {},
   "outputs": [],
   "source": [
    "def chinese_remainder(pairs):\n",
    "    N = 1\n",
    "    \n",
    "    cnt = 0\n",
    "    for a, n in pairs:\n",
    "        if cnt % 1000 == 0:\n",
    "            print(cnt)\n",
    "        cnt += 1\n",
    "        N *= n\n",
    "\n",
    "    result = 0\n",
    "    cnt = 0\n",
    "    for a, n in pairs:\n",
    "        print(cnt)\n",
    "        cnt += 1\n",
    "        m = N // n\n",
    "        d, r, s = gmpy.gcdext(n, m)\n",
    "        if d != 1:\n",
    "            raise ValueError(\"Input not pairwise co-prime\")\n",
    "        result += a*s*m\n",
    "\n",
    "    return result % N, N\n",
    "\n",
    "def hastads_broadcast_attack(e, pairs):\n",
    "    x, n = chinese_remainder(pairs)\n",
    "    return gmpy.root(x, e)[0]"
   ]
  },
  {
   "cell_type": "code",
   "execution_count": 5,
   "metadata": {
    "scrolled": true
   },
   "outputs": [],
   "source": [
    "# e = 65537\n",
    "# hastads_broadcast_attack(e, pairs)"
   ]
  },
  {
   "cell_type": "code",
   "execution_count": 191,
   "metadata": {},
   "outputs": [],
   "source": [
    "import os\n",
    "from random import SystemRandom\n",
    "from Crypto.Util.number import inverse\n",
    "from gmpy import next_prime\n",
    "\n",
    "class chall:\n",
    "    def __init__(self, size, bits):\n",
    "        self.rnd = SystemRandom()\n",
    "        self.bits = bits\n",
    "        self.size = size\n",
    "        self.exp = self.rnd.sample(range(32, size - 1), bits)\n",
    "\n",
    "    def get_rand_int(self):\n",
    "        res = 2** (self.size - 1)\n",
    "\n",
    "        for i in range(self.bits):\n",
    "            if self.rnd.randint(0, 1) == 1:\n",
    "                res += 2**self.exp[i]\n",
    "\n",
    "        return res\n",
    "\n",
    "    def get_prime(self):\n",
    "        return int(next_prime(self.get_rand_int()))\n",
    "\n",
    "    def get_key(self):\n",
    "        p = self.get_prime()\n",
    "        q = self.get_prime()\n",
    "        e = 0x10001\n",
    "        n = p * q\n",
    "        phi = (p - 1) * (q - 1)\n",
    "        d = inverse(e, phi)\n",
    "\n",
    "        pubkey = (n, e)\n",
    "        privkey = (n, e, d, p, q)\n",
    "\n",
    "        return (pubkey, privkey)\n",
    "\n",
    "    def encrypt(self, pt, pubkey):\n",
    "        n, e = pubkey\n",
    "        return pow(pt, e, n)\n",
    "\n",
    "    def decrypt(self, ct, privkey):\n",
    "        n, e, d, p, q = privkey\n",
    "        return pow(ct, d, n)"
   ]
  },
  {
   "cell_type": "code",
   "execution_count": 192,
   "metadata": {},
   "outputs": [],
   "source": [
    "cipher = chall(1024, 16)\n"
   ]
  },
  {
   "cell_type": "code",
   "execution_count": 193,
   "metadata": {},
   "outputs": [
    {
     "data": {
      "text/plain": [
       "((8079251517827751825178719172167488184611930997729256992156843675047618818342414462568845804104236799825390266858696697012965758972115637917318149380017974801952791581802297709299702681490303939726396815183679751478471383488412926578952697891448215374700712187922930411403082260736568717673608469854870689023306219883218107468783210278425624723725710854946021960216252928233964337961172096664371499575471072857851137371064554237532043975875846883556026104872203758561329967228552133109645702877631309685688622389917800704477798421788286839199780106164018139896637016851401715398466525825274979968314042225617161726449,\n",
       "  65537),\n",
       " (8079251517827751825178719172167488184611930997729256992156843675047618818342414462568845804104236799825390266858696697012965758972115637917318149380017974801952791581802297709299702681490303939726396815183679751478471383488412926578952697891448215374700712187922930411403082260736568717673608469854870689023306219883218107468783210278425624723725710854946021960216252928233964337961172096664371499575471072857851137371064554237532043975875846883556026104872203758561329967228552133109645702877631309685688622389917800704477798421788286839199780106164018139896637016851401715398466525825274979968314042225617161726449,\n",
       "  65537,\n",
       "  1237461689365625109802767643471889869800792885777595582453734482965775023246733240387354840496182751676873636247121434374721917215650651897615691647109578269710272394191547742587399721024759615895960621188241410887603884026682468788616005942206039121889096982504087392917956875250220131956111537305692844903095096065107779881036165650309327523802306914994306876441939267907923631448125761277927139738297581773158247542926305173062203597255372842421675012811439541687268616170517967097397925817891954765081624206093178419460179722906688104768139867638419471951279198212218203956807382081635623604244983131999909343233,\n",
       "  89884656743115795386465259539451237762846048713449765789199464922163737844082699945994043808997291578658304843691248753742301082213933123719026774342995030222691782647956225256524941946576731864950811898585456292194244383728793034754457234425022962900448160372207119346478845201005512383635091451978182558081,\n",
       "  89884656743115795386465259539451237762846048712957753166306920087892348053349805477940022310724765870996770640467421629737378164300948430708755127040135880803419685081967096370537789788677108261148808140791536076343944703517192716361084726150322440069412126728831532422052892869322878209165555722644950614129))"
      ]
     },
     "execution_count": 193,
     "metadata": {},
     "output_type": "execute_result"
    }
   ],
   "source": [
    "cipher.get_key()"
   ]
  },
  {
   "cell_type": "code",
   "execution_count": 220,
   "metadata": {
    "scrolled": true
   },
   "outputs": [],
   "source": [
    "x = defaultdict(int)\n",
    "a = 0\n",
    "for i in range(256):\n",
    "    a += 1\n",
    "    x[cipher.get_prime()] += 1\n",
    "    if a % 1000 == 0:\n",
    "        print(a)"
   ]
  },
  {
   "cell_type": "code",
   "execution_count": 258,
   "metadata": {},
   "outputs": [],
   "source": [
    "cnt = 0\n",
    "def gcd(m,n):\n",
    "    global cnt\n",
    "    cnt += 1\n",
    "    if m % n == 0:\n",
    "        return n\n",
    "    else:\n",
    "        return gcd(n,m%n)"
   ]
  },
  {
   "cell_type": "code",
   "execution_count": 255,
   "metadata": {},
   "outputs": [
    {
     "ename": "KeyboardInterrupt",
     "evalue": "",
     "output_type": "error",
     "traceback": [
      "\u001b[0;31m---------------------------------------------------------------------------\u001b[0m",
      "\u001b[0;31mKeyboardInterrupt\u001b[0m                         Traceback (most recent call last)",
      "\u001b[0;32m<ipython-input-255-c37bb0772caa>\u001b[0m in \u001b[0;36m<module>\u001b[0;34m()\u001b[0m\n\u001b[1;32m     10\u001b[0m \u001b[0mpairs\u001b[0m \u001b[0;34m=\u001b[0m \u001b[0;34m[\u001b[0m\u001b[0;34m]\u001b[0m\u001b[0;34m\u001b[0m\u001b[0;34m\u001b[0m\u001b[0m\n\u001b[1;32m     11\u001b[0m \u001b[0;32mfor\u001b[0m \u001b[0mi\u001b[0m \u001b[0;32min\u001b[0m \u001b[0mrange\u001b[0m\u001b[0;34m(\u001b[0m\u001b[0;36m255\u001b[0m\u001b[0;34m)\u001b[0m\u001b[0;34m:\u001b[0m\u001b[0;34m\u001b[0m\u001b[0;34m\u001b[0m\u001b[0m\n\u001b[0;32m---> 12\u001b[0;31m     \u001b[0mpubkey\u001b[0m\u001b[0;34m,\u001b[0m \u001b[0mprivkey\u001b[0m \u001b[0;34m=\u001b[0m \u001b[0mcipher\u001b[0m\u001b[0;34m.\u001b[0m\u001b[0mget_key\u001b[0m\u001b[0;34m(\u001b[0m\u001b[0;34m)\u001b[0m\u001b[0;34m\u001b[0m\u001b[0;34m\u001b[0m\u001b[0m\n\u001b[0m\u001b[1;32m     13\u001b[0m     \u001b[0mct\u001b[0m \u001b[0;34m=\u001b[0m \u001b[0mhex\u001b[0m\u001b[0;34m(\u001b[0m\u001b[0mcipher\u001b[0m\u001b[0;34m.\u001b[0m\u001b[0mencrypt\u001b[0m\u001b[0;34m(\u001b[0m\u001b[0mmsg\u001b[0m\u001b[0;34m,\u001b[0m \u001b[0mpubkey\u001b[0m\u001b[0;34m)\u001b[0m\u001b[0;34m)\u001b[0m\u001b[0;34m[\u001b[0m\u001b[0;36m2\u001b[0m\u001b[0;34m:\u001b[0m\u001b[0;34m]\u001b[0m\u001b[0;34m\u001b[0m\u001b[0;34m\u001b[0m\u001b[0m\n\u001b[1;32m     14\u001b[0m     \u001b[0mn\u001b[0m\u001b[0;34m,\u001b[0m \u001b[0me\u001b[0m \u001b[0;34m=\u001b[0m \u001b[0mpubkey\u001b[0m\u001b[0;34m\u001b[0m\u001b[0;34m\u001b[0m\u001b[0m\n",
      "\u001b[0;32m<ipython-input-191-4039be49e8f3>\u001b[0m in \u001b[0;36mget_key\u001b[0;34m(self)\u001b[0m\n\u001b[1;32m     25\u001b[0m     \u001b[0;32mdef\u001b[0m \u001b[0mget_key\u001b[0m\u001b[0;34m(\u001b[0m\u001b[0mself\u001b[0m\u001b[0;34m)\u001b[0m\u001b[0;34m:\u001b[0m\u001b[0;34m\u001b[0m\u001b[0;34m\u001b[0m\u001b[0m\n\u001b[1;32m     26\u001b[0m         \u001b[0mp\u001b[0m \u001b[0;34m=\u001b[0m \u001b[0mself\u001b[0m\u001b[0;34m.\u001b[0m\u001b[0mget_prime\u001b[0m\u001b[0;34m(\u001b[0m\u001b[0;34m)\u001b[0m\u001b[0;34m\u001b[0m\u001b[0;34m\u001b[0m\u001b[0m\n\u001b[0;32m---> 27\u001b[0;31m         \u001b[0mq\u001b[0m \u001b[0;34m=\u001b[0m \u001b[0mself\u001b[0m\u001b[0;34m.\u001b[0m\u001b[0mget_prime\u001b[0m\u001b[0;34m(\u001b[0m\u001b[0;34m)\u001b[0m\u001b[0;34m\u001b[0m\u001b[0;34m\u001b[0m\u001b[0m\n\u001b[0m\u001b[1;32m     28\u001b[0m         \u001b[0me\u001b[0m \u001b[0;34m=\u001b[0m \u001b[0;36m0x10001\u001b[0m\u001b[0;34m\u001b[0m\u001b[0;34m\u001b[0m\u001b[0m\n\u001b[1;32m     29\u001b[0m         \u001b[0mn\u001b[0m \u001b[0;34m=\u001b[0m \u001b[0mp\u001b[0m \u001b[0;34m*\u001b[0m \u001b[0mq\u001b[0m\u001b[0;34m\u001b[0m\u001b[0;34m\u001b[0m\u001b[0m\n",
      "\u001b[0;32m<ipython-input-191-4039be49e8f3>\u001b[0m in \u001b[0;36mget_prime\u001b[0;34m(self)\u001b[0m\n\u001b[1;32m     21\u001b[0m \u001b[0;34m\u001b[0m\u001b[0m\n\u001b[1;32m     22\u001b[0m     \u001b[0;32mdef\u001b[0m \u001b[0mget_prime\u001b[0m\u001b[0;34m(\u001b[0m\u001b[0mself\u001b[0m\u001b[0;34m)\u001b[0m\u001b[0;34m:\u001b[0m\u001b[0;34m\u001b[0m\u001b[0;34m\u001b[0m\u001b[0m\n\u001b[0;32m---> 23\u001b[0;31m         \u001b[0;32mreturn\u001b[0m \u001b[0mint\u001b[0m\u001b[0;34m(\u001b[0m\u001b[0mnext_prime\u001b[0m\u001b[0;34m(\u001b[0m\u001b[0mself\u001b[0m\u001b[0;34m.\u001b[0m\u001b[0mget_rand_int\u001b[0m\u001b[0;34m(\u001b[0m\u001b[0;34m)\u001b[0m\u001b[0;34m)\u001b[0m\u001b[0;34m)\u001b[0m\u001b[0;34m\u001b[0m\u001b[0;34m\u001b[0m\u001b[0m\n\u001b[0m\u001b[1;32m     24\u001b[0m \u001b[0;34m\u001b[0m\u001b[0m\n\u001b[1;32m     25\u001b[0m     \u001b[0;32mdef\u001b[0m \u001b[0mget_key\u001b[0m\u001b[0;34m(\u001b[0m\u001b[0mself\u001b[0m\u001b[0;34m)\u001b[0m\u001b[0;34m:\u001b[0m\u001b[0;34m\u001b[0m\u001b[0;34m\u001b[0m\u001b[0m\n",
      "\u001b[0;31mKeyboardInterrupt\u001b[0m: "
     ]
    }
   ],
   "source": [
    "msg = 1234567890\n",
    "pairs = []\n",
    "for i in range(255):\n",
    "    pubkey, privkey = cipher.get_key()\n",
    "    ct = hex(cipher.encrypt(msg, pubkey))[2:]\n",
    "    n, e = pubkey\n",
    "    pairs.append((int(ct, 16), n))"
   ]
  },
  {
   "cell_type": "code",
   "execution_count": 261,
   "metadata": {},
   "outputs": [],
   "source": [
    "import pickle\n",
    "with open(\"Santa's_public_key_factory/test.wb\", \"rb\") as f:\n",
    "    pairs = pickle.load(f)"
   ]
  },
  {
   "cell_type": "code",
   "execution_count": 262,
   "metadata": {},
   "outputs": [
    {
     "data": {
      "text/plain": [
       "255"
      ]
     },
     "execution_count": 262,
     "metadata": {},
     "output_type": "execute_result"
    }
   ],
   "source": [
    "len(pairs)"
   ]
  },
  {
   "cell_type": "code",
   "execution_count": 263,
   "metadata": {
    "scrolled": false
   },
   "outputs": [
    {
     "name": "stdout",
     "output_type": "stream",
     "text": [
      "start\n",
      "found\n",
      "89884656764043697870572043732591143362107718200501081238243142619839729583222318834922584681317338805501334612332434997037109928749213458424583450116259136639579132024780630179579593003358904716476287287110177676756593305116051489912979669138607032994827420624133110445591340759931737201422430120866941502747\n",
      "asdf\n",
      "8079251519708849156316057836881501127738836457098346512272441243559145972656589610379552964478024721082522683518561423358230177837898542450259196283759070918461791690308841006877208836223253363474614244766458979838677349337605354903512675440659176145299236077084769733440607383674269793246479894217876552933252369687898254768172208985833400050685816399793776961336908947562481922573813449146741904227027391043099190310882437003898321396803982925847603225624798163506177989318645405838674450217746396070693065020314022262447280097959549448602416445559701110069676296950790515492775534033480584015352415145462579187121 89884656764043697870572043732591143362107718200501081238243142619839729583222318834922584681317338805501334612332434997037109928749213458424583450116259136639579132024780630179579593003358904716476287287110177676756593305116051489912979669138607032994827420624133110445591340759931737201422430120866941502747 89884656743115795386465259539451236680898848947115328636715040579079714364602636903125516866080277563747908178113410124695365023637413691457435961664478606174538902508458643845948769493722109490900715225590895757290988110701610143742060604452430164568623750328738040507006949736470557699015822214722593227043 7175995711769719538415822004133118400989939578676087560910307227788545204515618371609835330611193966983744227041449264593780286737935428170797989161505951114083050708651260128024205049919214768571300108150442913413940346749805571035193445494923030401420091429987708411791472844403607804215597214434938952747824222466596054991116653854187659337597356613185422062355618261342493124201882756325740669453610161950727153289967713100399376253559581300928584369193932543273033705663342706148331992099423712990579794597985103854328798393082980449335287959020033360498456819572743430579424101595943165072846688392247278909033 65537\n",
      "16252575075890673253\n"
     ]
    }
   ],
   "source": [
    "print(\"start\")\n",
    "\n",
    "for i in range(len(pairs)):\n",
    "    for j in range(len(pairs)):\n",
    "        if (pairs[i][1] == pairs[j][1]):\n",
    "            continue\n",
    "        p = gcd(pairs[i][1], pairs[j][1])\n",
    "        if p == 1:\n",
    "            continue\n",
    "        print(\"found\")\n",
    "        print(p)\n",
    "        print(\"asdf\")\n",
    "        c, n = pairs[i]\n",
    "        q = n // p\n",
    "        d = inverse(e, (p - 1) * (q - 1))\n",
    "        # key = RSA.construct(map(int, (n, e, d)))\n",
    "        # m = key.decrypt(pairs[i][0])\n",
    "        print(n, p, q, d, e)\n",
    "        m = pow(c, d, n)\n",
    "        print(m)\n",
    "        break\n",
    "    else:\n",
    "        continue\n",
    "    break"
   ]
  },
  {
   "cell_type": "markdown",
   "metadata": {},
   "source": [
    "### Bobi's Whacked "
   ]
  },
  {
   "cell_type": "code",
   "execution_count": 269,
   "metadata": {},
   "outputs": [
    {
     "data": {
      "text/plain": [
       "'middlepart'"
      ]
     },
     "execution_count": 269,
     "metadata": {},
     "output_type": "execute_result"
    }
   ],
   "source": [
    "x = \"6D6964646C6570617274\"\n",
    "ans = \"\"\n",
    "for i in range(len(x)//2):\n",
    "    ans += chr(int(x[2*i:2*i+2], 16))\n",
    "ans"
   ]
  },
  {
   "cell_type": "code",
   "execution_count": 265,
   "metadata": {},
   "outputs": [
    {
     "data": {
      "text/plain": [
       "7"
      ]
     },
     "execution_count": 265,
     "metadata": {},
     "output_type": "execute_result"
    }
   ],
   "source": [
    "int(x[2*i:2*i+1], 16)"
   ]
  },
  {
   "cell_type": "code",
   "execution_count": 293,
   "metadata": {},
   "outputs": [],
   "source": [
    "x = b\"abcdef\""
   ]
  },
  {
   "cell_type": "code",
   "execution_count": 294,
   "metadata": {},
   "outputs": [
    {
     "data": {
      "text/plain": [
       "b'\\xab\\xcd\\xef'"
      ]
     },
     "execution_count": 294,
     "metadata": {},
     "output_type": "execute_result"
    }
   ],
   "source": [
    "unhexlify(x)"
   ]
  },
  {
   "cell_type": "markdown",
   "metadata": {},
   "source": [
    "### Slowest Fastest"
   ]
  },
  {
   "cell_type": "code",
   "execution_count": 3,
   "metadata": {},
   "outputs": [],
   "source": [
    "x = np.array([1,3,2])"
   ]
  },
  {
   "cell_type": "code",
   "execution_count": 4,
   "metadata": {},
   "outputs": [
    {
     "data": {
      "text/plain": [
       "array([1, 2, 3])"
      ]
     },
     "execution_count": 4,
     "metadata": {},
     "output_type": "execute_result"
    }
   ],
   "source": [
    "x.sort()\n",
    "x"
   ]
  },
  {
   "cell_type": "markdown",
   "metadata": {},
   "source": [
    "### Too low voltage "
   ]
  },
  {
   "cell_type": "code",
   "execution_count": 19,
   "metadata": {},
   "outputs": [],
   "source": [
    "import os\n",
    "from random import SystemRandom\n",
    "from Crypto.Util.number import inverse\n",
    "from gmpy import next_prime\n",
    "import binascii\n"
   ]
  },
  {
   "cell_type": "code",
   "execution_count": 160,
   "metadata": {},
   "outputs": [],
   "source": [
    "class chall:\n",
    "    def __init__(self, size):\n",
    "        self.rnd = SystemRandom()\n",
    "        self.size = size\n",
    "\n",
    "    def get_key(self):\n",
    "        p = next_prime(self.rnd.getrandbits(self.size // 2))\n",
    "        q = next_prime(self.rnd.getrandbits(self.size // 2))\n",
    "        e = 0x10001\n",
    "\n",
    "        n = p * q\n",
    "        phi = (p - 1) * (q - 1)\n",
    "        \n",
    "        d_p = inverse(e, p - 1)\n",
    "        d_q = inverse(e, q - 1)\n",
    "        inv_q = inverse(q, p)\n",
    "\t\n",
    "        pubkey = (n, e)\n",
    "        privkey = (p, q, d_p, d_q, inv_q)\n",
    "\n",
    "        return (pubkey, privkey)\n",
    "\n",
    "    def sign(self, msg, privkey):\n",
    "        p, q, d_p, d_q, inv_q = privkey\n",
    "        s_p = pow(msg, d_p, p)\n",
    "        s_q = pow(msg, d_q, q)\n",
    "        s = s_q + q * ((inv_q * (s_p - s_q)) % p)\n",
    "        return s\n",
    "\n",
    "    def verify(self, sgn, pubkey, target):\n",
    "        n, e = pubkey\n",
    "        return sgn == pow(target, e, n)"
   ]
  },
  {
   "cell_type": "code",
   "execution_count": 161,
   "metadata": {},
   "outputs": [],
   "source": [
    "cipher = chall(1024)\n",
    "pubkey, privkey = cipher.get_key()"
   ]
  },
  {
   "cell_type": "code",
   "execution_count": 167,
   "metadata": {},
   "outputs": [
    {
     "data": {
      "text/plain": [
       "mpz(6743911546719950128001793908409061104546765074935410759472089141221909277475627760953422533733626698371788455670511726774170731385497551134410329463523630519596421357264633286046364459759878117565191513582272818296935321433600196264261675304776811847170806031205422610159118155461854383101050567192698869130)"
      ]
     },
     "execution_count": 167,
     "metadata": {},
     "output_type": "execute_result"
    }
   ],
   "source": [
    "s = cipher.sign(2, privkey)\n",
    "s"
   ]
  },
  {
   "cell_type": "code",
   "execution_count": 168,
   "metadata": {},
   "outputs": [
    {
     "data": {
      "text/plain": [
       "mpz(2)"
      ]
     },
     "execution_count": 168,
     "metadata": {},
     "output_type": "execute_result"
    }
   ],
   "source": [
    "n, e = pubkey\n",
    "pow(s, e, n)"
   ]
  },
  {
   "cell_type": "code",
   "execution_count": 39,
   "metadata": {},
   "outputs": [
    {
     "data": {
      "text/plain": [
       "(b'\\xb4\\xf9 H\\x16\\xe8\\xa6\\xael\\x1e\\x9e\\xae\\x1c\\xa8\\xa0\\xb4y\\xb1\\x11e\\\\b\\xc7 \\xf0\\x1c\\xfd\\xfcK\\x0e\\x1eA\\xbei\\xaa\\xac)\\x8a\\x00j\\xfe\\x9f+\\xd6\\x92s\\xaeb\\xee\\xe8Fe\\xe8\\xbe\\xaf7f5\\xcc\\xd1\\xc8y\\xee\\xd6',\n",
       " b'b4f9204816e8a6ae6c1e9eae1ca8a0b479b111655c62c720f01cfdfc4b0e1e41be69aaac298a006afe9f2bd69273ae62eee84665e8beaf376635ccd1c879eed6')"
      ]
     },
     "execution_count": 39,
     "metadata": {},
     "output_type": "execute_result"
    }
   ],
   "source": [
    "x = os.urandom(64)\n",
    "x, binascii.hexlify(x)"
   ]
  },
  {
   "cell_type": "code",
   "execution_count": 40,
   "metadata": {},
   "outputs": [
    {
     "data": {
      "text/plain": [
       "mpz(4208501089191734997295921809646151103736258155994999518375950798952211026653184457283784271961051251982558343132610404189346012187867393449759273326913293219482878741423506492188142717873087667745303218386563245352005192890334668227411337573569185961353586349863043929021896811444708029651862096773012901796)"
      ]
     },
     "execution_count": 40,
     "metadata": {},
     "output_type": "execute_result"
    }
   ],
   "source": [
    "msg = int(binascii.hexlify(x), 16)\n",
    "sgn = cipher.sign(msg, privkey)\n",
    "sgn"
   ]
  },
  {
   "cell_type": "code",
   "execution_count": 41,
   "metadata": {},
   "outputs": [
    {
     "data": {
      "text/plain": [
       "True"
      ]
     },
     "execution_count": 41,
     "metadata": {},
     "output_type": "execute_result"
    }
   ],
   "source": [
    "cipher.verify(msg, pubkey, sgn)"
   ]
  },
  {
   "cell_type": "code",
   "execution_count": 87,
   "metadata": {},
   "outputs": [
    {
     "data": {
      "text/plain": [
       "mpz(11490427496374049690306392452906188631776573388289262771374078137420764742715960954726178346219050511475540292219006221887075298380898303712170304943514218664689007720931861856643052715734603784061928241784132569512642559821460798434828772109312139730765987210394188547928366007534491248598901833954920997182)"
      ]
     },
     "execution_count": 87,
     "metadata": {},
     "output_type": "execute_result"
    }
   ],
   "source": [
    "p, q, d_p, d_q, inv_q = privkey\n",
    "n, e = pubkey\n",
    "\n",
    "msg = 100\n",
    "s_p = pow(msg, d_p, p)\n",
    "s_q = pow(msg, d_q, q)\n",
    "s = s_q + q * ((inv_q * (s_p - s_q)) % p)\n",
    "s % n"
   ]
  },
  {
   "cell_type": "code",
   "execution_count": 88,
   "metadata": {},
   "outputs": [
    {
     "data": {
      "text/plain": [
       "mpz(11490427496374049690306392452906188631776573388289262771374078137420764742715960954726178346219050511475540292219006221887075298380898303712170304943514218664689007720931861856643052715734603784061928241784132569512642559821460798434828772109312139730765987210394188547928366007534491248598901833954920997182)"
      ]
     },
     "execution_count": 88,
     "metadata": {},
     "output_type": "execute_result"
    }
   ],
   "source": [
    "phi = (p - 1) * (q - 1)\n",
    "d = inverse(e, phi)\n",
    "    \n",
    "pow(m, d, n)"
   ]
  },
  {
   "cell_type": "code",
   "execution_count": 91,
   "metadata": {},
   "outputs": [
    {
     "data": {
      "text/plain": [
       "mpz(15260937773885942080061820167319455045614557261161176960914857743387800463865871489099412619011863411441976635536918647931319265182170519440580541133850996750591098453845256718310726711622145614642742962204607490704688553298534055755482907605488217034923718009685773912293000571317096058491114772282958618113)"
      ]
     },
     "execution_count": 91,
     "metadata": {},
     "output_type": "execute_result"
    }
   ],
   "source": [
    "d"
   ]
  },
  {
   "cell_type": "code",
   "execution_count": 94,
   "metadata": {},
   "outputs": [],
   "source": [
    "c = int(\"ac08dcb7f85e76fd4617ee255aa15605566274b0ac2ea9e6034f077203351b1ede0862f3ff6e65be7fb635a51bea57f3a9d5a60ed03c9e31b3345e60a9213fda\", 16)"
   ]
  },
  {
   "cell_type": "code",
   "execution_count": 99,
   "metadata": {},
   "outputs": [],
   "source": [
    "n = int(\"7d02cb60469b8bb69721a875fa4de0973a39338f5547b8160d897cd7266d269c7fdc0ff1c709e374f23bab5f81502bc662324a1630cef27aded9260c24367b65de003019901fa3daa4aafca10c99ff2ec477a42ffb70c3160865f0317064dc87929b0757cf5bbbd515fb05490ad0611844b3d40db95015a60f9f9dff6cdfe7\", 16)"
   ]
  },
  {
   "cell_type": "code",
   "execution_count": 102,
   "metadata": {},
   "outputs": [
    {
     "data": {
      "text/plain": [
       "'371be6bb23168fdb6067efa6a7650402144de1d2d59bdf1d9c22c63015cebc01257edfcc9f659e49768e602bb6d45829a6f12d8c036109c4ceba8bd9db4f2b4d6cb30a205093bd397562696e86e6711f8f252ab7147fa95384c5654d0fc0062765ea599bb1d285d2245885cfd83f9c6e7d8147a64c7cb92b5e395e92b810b8'"
      ]
     },
     "execution_count": 102,
     "metadata": {},
     "output_type": "execute_result"
    }
   ],
   "source": [
    "hex(pow(0x1111, e, n))[2:]"
   ]
  },
  {
   "cell_type": "code",
   "execution_count": null,
   "metadata": {},
   "outputs": [],
   "source": []
  },
  {
   "cell_type": "code",
   "execution_count": 79,
   "metadata": {},
   "outputs": [
    {
     "data": {
      "text/plain": [
       "mpz(5443444111014234385596630598525490647141880717309932550733572362803805940649707441712551780954001431676484174492857653168161342148641131229212625281826349)"
      ]
     },
     "execution_count": 79,
     "metadata": {},
     "output_type": "execute_result"
    }
   ],
   "source": [
    "t = q * (((s_p - s_q) * inv_q) % p)\n",
    "t // ((s_p - s_q) % p)"
   ]
  },
  {
   "cell_type": "code",
   "execution_count": 80,
   "metadata": {},
   "outputs": [
    {
     "data": {
      "text/plain": [
       "mpz(-3209178588169666368914609829290621030439036869448820842845876288007069993795204126063463632913341320685267068913942318623851298662228227567015067217627215)"
      ]
     },
     "execution_count": 80,
     "metadata": {},
     "output_type": "execute_result"
    }
   ],
   "source": [
    "(s_p - s_q)"
   ]
  },
  {
   "cell_type": "code",
   "execution_count": null,
   "metadata": {},
   "outputs": [],
   "source": []
  },
  {
   "cell_type": "code",
   "execution_count": 48,
   "metadata": {},
   "outputs": [
    {
     "data": {
      "text/plain": [
       "mpz(100)"
      ]
     },
     "execution_count": 48,
     "metadata": {},
     "output_type": "execute_result"
    }
   ],
   "source": [
    "pow(s, 0x10001, n)"
   ]
  },
  {
   "cell_type": "code",
   "execution_count": 59,
   "metadata": {},
   "outputs": [
    {
     "data": {
      "text/plain": [
       "mpz(4014882333119239921956211127917120798424712830179716857080419799955110024412492100602156145317168790480464721746412544577718078245656432681646374480272624507991866757761410344536626602958416354915988019963692003560590417992073944945207835797561336766462402807686281283655309058111369003599035226677380524912)"
      ]
     },
     "execution_count": 59,
     "metadata": {},
     "output_type": "execute_result"
    }
   ],
   "source": [
    "phi = (p-1) * (q-1)\n",
    "m = 100\n",
    "x = d_p * e * d_q * e\n",
    "\n",
    "pow(100, x, n)"
   ]
  },
  {
   "cell_type": "code",
   "execution_count": 68,
   "metadata": {},
   "outputs": [
    {
     "data": {
      "text/plain": [
       "mpz(4014882333119239921956211127917120798424712830179716857080419799955110024412492100602156145317168790480464721746412544577718078245656432681646374480272624507991866757761410344536626602958416354915988019963692003560590417992073944945207835797561336766462402807686281283655309058111369003599035226677380524912)"
      ]
     },
     "execution_count": 68,
     "metadata": {},
     "output_type": "execute_result"
    }
   ],
   "source": [
    "pow(100, 31735 * (p-1) +38061 * (q-1) + 1, n)"
   ]
  },
  {
   "cell_type": "code",
   "execution_count": 57,
   "metadata": {},
   "outputs": [
    {
     "data": {
      "text/plain": [
       "mpz(9353293180774206812240459727426916387511842898012331886252148175693263354719501433827208920329862257368366559503804269809508681169211522895956824743793039)"
      ]
     },
     "execution_count": 57,
     "metadata": {},
     "output_type": "execute_result"
    }
   ],
   "source": [
    "(p + q - 1) % ((p-1)*(q-1))"
   ]
  },
  {
   "cell_type": "code",
   "execution_count": 64,
   "metadata": {},
   "outputs": [
    {
     "data": {
      "text/plain": [
       "mpz(100)"
      ]
     },
     "execution_count": 64,
     "metadata": {},
     "output_type": "execute_result"
    }
   ],
   "source": [
    "pow(100, 100 * (p-1)*(q-1) + 1, n)"
   ]
  },
  {
   "cell_type": "code",
   "execution_count": 66,
   "metadata": {},
   "outputs": [
    {
     "data": {
      "text/plain": [
       "mpz(31735)"
      ]
     },
     "execution_count": 66,
     "metadata": {},
     "output_type": "execute_result"
    }
   ],
   "source": [
    "(d_p * e - 1) //  (p-1)"
   ]
  },
  {
   "cell_type": "code",
   "execution_count": 67,
   "metadata": {},
   "outputs": [
    {
     "data": {
      "text/plain": [
       "mpz(38061)"
      ]
     },
     "execution_count": 67,
     "metadata": {},
     "output_type": "execute_result"
    }
   ],
   "source": [
    "(d_q * e - 1) //  (q-1)"
   ]
  },
  {
   "cell_type": "code",
   "execution_count": 158,
   "metadata": {},
   "outputs": [],
   "source": [
    "mn = 1e1000\n",
    "for i in range(64):\n",
    "    cipher = chall(1024)\n",
    "    pubkey, privkey = cipher.get_key()\n",
    "    p, q, d_p, d_q, inv_q = privkey\n",
    "    mn = min(mn, p, q)"
   ]
  },
  {
   "cell_type": "code",
   "execution_count": 159,
   "metadata": {},
   "outputs": [
    {
     "data": {
      "text/plain": [
       "mpz(77367665265669786943339036321282469465986901138420732288588160433959166329097792223631176924490239156378397435739755712027843508345096111697378220412881)"
      ]
     },
     "execution_count": 159,
     "metadata": {},
     "output_type": "execute_result"
    }
   ],
   "source": [
    "mn"
   ]
  },
  {
   "cell_type": "code",
   "execution_count": 69,
   "metadata": {},
   "outputs": [
    {
     "ename": "ModuleNotFoundError",
     "evalue": "No module named 'sympy'",
     "output_type": "error",
     "traceback": [
      "\u001b[0;31m---------------------------------------------------------------------------\u001b[0m",
      "\u001b[0;31mModuleNotFoundError\u001b[0m                       Traceback (most recent call last)",
      "\u001b[0;32m<ipython-input-69-5405cee45302>\u001b[0m in \u001b[0;36m<module>\u001b[0;34m()\u001b[0m\n\u001b[0;32m----> 1\u001b[0;31m \u001b[0;32mimport\u001b[0m \u001b[0msympy\u001b[0m \u001b[0;32mas\u001b[0m \u001b[0msp\u001b[0m\u001b[0;34m\u001b[0m\u001b[0;34m\u001b[0m\u001b[0m\n\u001b[0m\u001b[1;32m      2\u001b[0m \u001b[0msp\u001b[0m\u001b[0;34m.\u001b[0m\u001b[0minit_printing\u001b[0m\u001b[0;34m(\u001b[0m\u001b[0;34m)\u001b[0m\u001b[0;34m\u001b[0m\u001b[0;34m\u001b[0m\u001b[0m\n\u001b[1;32m      3\u001b[0m \u001b[0msp\u001b[0m\u001b[0;34m.\u001b[0m\u001b[0mvar\u001b[0m\u001b[0;34m(\u001b[0m\u001b[0;34m'x, y, a, b, c, d, e, f'\u001b[0m\u001b[0;34m)\u001b[0m\u001b[0;34m\u001b[0m\u001b[0;34m\u001b[0m\u001b[0m\n\u001b[1;32m      4\u001b[0m \u001b[0meq1\u001b[0m\u001b[0;34m=\u001b[0m\u001b[0msp\u001b[0m\u001b[0;34m.\u001b[0m\u001b[0mEq\u001b[0m\u001b[0;34m(\u001b[0m\u001b[0ma\u001b[0m\u001b[0;34m*\u001b[0m\u001b[0mx\u001b[0m\u001b[0;34m+\u001b[0m\u001b[0mb\u001b[0m\u001b[0;34m*\u001b[0m\u001b[0my\u001b[0m\u001b[0;34m,\u001b[0m \u001b[0me\u001b[0m\u001b[0;34m)\u001b[0m\u001b[0;34m\u001b[0m\u001b[0;34m\u001b[0m\u001b[0m\n\u001b[1;32m      5\u001b[0m \u001b[0meq2\u001b[0m\u001b[0;34m=\u001b[0m\u001b[0msp\u001b[0m\u001b[0;34m.\u001b[0m\u001b[0mEq\u001b[0m\u001b[0;34m(\u001b[0m\u001b[0mc\u001b[0m\u001b[0;34m*\u001b[0m\u001b[0mx\u001b[0m\u001b[0;34m+\u001b[0m\u001b[0md\u001b[0m\u001b[0;34m*\u001b[0m\u001b[0my\u001b[0m\u001b[0;34m,\u001b[0m \u001b[0mf\u001b[0m\u001b[0;34m)\u001b[0m\u001b[0;34m\u001b[0m\u001b[0;34m\u001b[0m\u001b[0m\n",
      "\u001b[0;31mModuleNotFoundError\u001b[0m: No module named 'sympy'"
     ]
    }
   ],
   "source": [
    "import sympy as sp\n",
    "sp.init_printing()\n",
    "sp.var('x, y, a, b, c, d, e, f')\n",
    "eq1=sp.Eq(a*x+b*y, e)\n",
    "eq2=sp.Eq(c*x+d*y, f)\n",
    "sp.solve ([eq1, eq2], [x, y]) "
   ]
  },
  {
   "cell_type": "code",
   "execution_count": 89,
   "metadata": {},
   "outputs": [
    {
     "data": {
      "text/plain": [
       "4660"
      ]
     },
     "execution_count": 89,
     "metadata": {},
     "output_type": "execute_result"
    }
   ],
   "source": [
    "x = int(\"9b624fee2d7ddc573d36c01ddb85e8e0fbf8d09d4a72413f8e92c4d09f86e739f064787ce1af2c01d3b107d0b9098f86d9210964d216571f4f3d2d46781b89b38121620d7364c3d3aefbd9cd78f366e3a6b35048b27b9d6b02499c00de5ddfb662c727ecadf1894b6aacb36530d03779d8042f3290c661da9581c9db238be76\", 16)\n",
    "n = int(\"1bea1cc379c61fc8b77719ba2525a6fed9e6067e83f582ef9dfb0f105fb515cf7c681e30b5865fa9587a251f7e559121ce7b371988d48de5c0708aceb5186e7f26339f3db25354f72524e392c8b1ddf668a996aecfddaae27ef518fa62bc58ef2f0c08b71d0ab505bfc69e2b64db2cad58f2ac87a797d04535183ff9879ef217\", 16)\n",
    "pow(x, e, n)"
   ]
  },
  {
   "cell_type": "code",
   "execution_count": 90,
   "metadata": {},
   "outputs": [
    {
     "data": {
      "text/plain": [
       "4660"
      ]
     },
     "execution_count": 90,
     "metadata": {},
     "output_type": "execute_result"
    }
   ],
   "source": [
    "0x1234"
   ]
  },
  {
   "cell_type": "markdown",
   "metadata": {},
   "source": [
    "### Santa computing"
   ]
  },
  {
   "cell_type": "code",
   "execution_count": null,
   "metadata": {},
   "outputs": [],
   "source": [
    "# alphabets = \"abcdefghijklmnopqrstuvwxyz\"\n",
    "alphabets = \"ABCDEFGHIJKLMNOPQRSTUVWXYZ\"\n",
    "num = \"0123456789\"\n",
    "char = alphabets + num\n",
    "char\n",
    "\n",
    "\n",
    "n = 2\n",
    "cnt = 0\n",
    "for p in range(36**n):\n",
    "    s = \"\"\n",
    "    x = p\n",
    "    for i in range(n):\n",
    "        idx = x % 36\n",
    "        s += char[idx]\n",
    "        x //= 36\n",
    "#    print(s)\n",
    "\n",
    "    solve_question( s)\n",
    "\n",
    "    \n",
    "n = 4\n",
    "cnt = 0\n",
    "for p in range(36**n):\n",
    "    s = \"\"\n",
    "    x = p\n",
    "    for i in range(n):\n",
    "        idx = x % n\n",
    "        s += char[idx]\n",
    "        x //= n"
   ]
  },
  {
   "cell_type": "markdown",
   "metadata": {},
   "source": [
    "### Santa's ELF holomorphing machine"
   ]
  },
  {
   "cell_type": "code",
   "execution_count": 328,
   "metadata": {},
   "outputs": [],
   "source": [
    "%matplotlib inline\n",
    "import matplotlib.pyplot as plt\n"
   ]
  },
  {
   "cell_type": "code",
   "execution_count": 329,
   "metadata": {},
   "outputs": [],
   "source": [
    "with open(\"data.txt\") as f:\n",
    "    lines = f.read().split(\"\\n\")[:-1]"
   ]
  },
  {
   "cell_type": "code",
   "execution_count": 331,
   "metadata": {},
   "outputs": [],
   "source": [
    "data = []\n",
    "for i in range(len(lines)):\n",
    "    a = float(lines[i].split(\";\")[0].split(\"+\")[0].replace(\"u = \", \"\").replace(\"v = \", \"\").replace(\" * x\", \"\").replace(\" * y\", \"\"))\n",
    "    b = float(lines[i].split(\";\")[0].split(\"+\")[1].replace(\"u = \", \"\").replace(\"v = \", \"\").replace(\" * x\", \"\").replace(\" * y\", \"\"))\n",
    "        \n",
    "    tmp = lines[i].split(\";\")[1].replace(\"z = \", \"\").replace(\" * i\", \"\")\n",
    "    x, y = [float(e) for e in tmp.split(\" + \")]\n",
    "    \n",
    "    if \"u\" in lines[i]:\n",
    "        data.append((0, a, b, x, y))\n",
    "    else:\n",
    "        data.append((1, a, b, x, y))\n",
    "        "
   ]
  },
  {
   "cell_type": "code",
   "execution_count": 330,
   "metadata": {},
   "outputs": [],
   "source": [
    "def mul(A, z):\n",
    "    x = A[0][0] * z[0] + A[0][1] * z[1]\n",
    "    y = A[1][0] * z[0] + A[1][1] * z[1]\n",
    "    return x, y"
   ]
  },
  {
   "cell_type": "code",
   "execution_count": 336,
   "metadata": {},
   "outputs": [
    {
     "data": {
      "text/plain": [
       "18.38"
      ]
     },
     "execution_count": 336,
     "metadata": {},
     "output_type": "execute_result"
    }
   ],
   "source": [
    "max([y for t,a,b,x,y in data])"
   ]
  },
  {
   "cell_type": "code",
   "execution_count": 341,
   "metadata": {},
   "outputs": [
    {
     "data": {
      "image/png": "[encoded data removed]",
      "text/plain": [
       "<Figure size 432x288 with 1 Axes>"
      ]
     },
     "metadata": {},
     "output_type": "display_data"
    }
   ],
   "source": [
    "X = []\n",
    "Y = []\n",
    "for t,a,b,x,y in data:\n",
    "    z = (x, y)\n",
    "    if t == 0:\n",
    "        A = [[a, b], [1, 1]]\n",
    "        w = mul(A, z)\n",
    "        plt.axvline(w[0], ls = \"-.\", color = \"magenta\")\n",
    "    else:\n",
    "        A = [[1, 1], [a, b]]\n",
    "        w = mul(A, z)\n",
    "        plt.axhline(w[1], ls = \"-.\", color = \"cyan\")\n",
    "        \n",
    "#     X.append(w[0])\n",
    "#     Y.append(w[1])\n",
    "\n",
    "# plt.scatter(X, Y)\n",
    "        "
   ]
  },
  {
   "cell_type": "code",
   "execution_count": 338,
   "metadata": {},
   "outputs": [
    {
     "data": {
      "text/plain": [
       "802"
      ]
     },
     "execution_count": 338,
     "metadata": {},
     "output_type": "execute_result"
    }
   ],
   "source": [
    "len(X)"
   ]
  },
  {
   "cell_type": "code",
   "execution_count": null,
   "metadata": {},
   "outputs": [],
   "source": [
    "for "
   ]
  },
  {
   "cell_type": "code",
   "execution_count": null,
   "metadata": {},
   "outputs": [],
   "source": []
  },
  {
   "cell_type": "markdown",
   "metadata": {},
   "source": [
    "### lazer tag"
   ]
  },
  {
   "cell_type": "code",
   "execution_count": 296,
   "metadata": {},
   "outputs": [],
   "source": [
    "pos = [0.2, 0.8]\n",
    "enemy = [0.9, 0.1]\n"
   ]
  },
  {
   "cell_type": "code",
   "execution_count": 305,
   "metadata": {},
   "outputs": [],
   "source": [
    "import math\n",
    "def middle_point(x1, y1, x2, y2):\n",
    "    return (x1+x2)/2, (y1+y2)/2"
   ]
  },
  {
   "cell_type": "code",
   "execution_count": 320,
   "metadata": {},
   "outputs": [
    {
     "name": "stdout",
     "output_type": "stream",
     "text": [
      "-4 -4 -3.8 -3.2 -1.45 -1.55 0.55 0.44999999999999996\n",
      "-4 -3 -2.2 -3.2 -0.6500000000000001 -1.55 0.6500000000000001 0.44999999999999996\n",
      "-4 -2 -1.8 -3.2 -0.45 -1.55 0.44999999999999996 0.44999999999999996\n",
      "-4 -1 -0.2 -3.2 0.35 -1.55 0.35 0.44999999999999996\n",
      "-4 0 0.2 -3.2 0.55 -1.55 0.55 0.44999999999999996\n",
      "-4 1 1.8 -3.2 1.35 -1.55 0.6499999999999999 0.44999999999999996\n",
      "-4 2 2.2 -3.2 1.55 -1.55 0.44999999999999996 0.44999999999999996\n",
      "-4 3 3.8 -3.2 2.35 -1.55 0.3500000000000001 0.44999999999999996\n",
      "-4 4 4.2 -3.2 2.5500000000000003 -1.55 0.5500000000000003 0.44999999999999996\n",
      "-3 -4 -3.8 -2.8 -1.45 -1.3499999999999999 0.55 0.6500000000000001\n",
      "-3 -3 -2.2 -2.8 -0.6500000000000001 -1.3499999999999999 0.6500000000000001 0.6500000000000001\n",
      "-3 -2 -1.8 -2.8 -0.45 -1.3499999999999999 0.44999999999999996 0.6500000000000001\n",
      "-3 -1 -0.2 -2.8 0.35 -1.3499999999999999 0.35 0.6500000000000001\n",
      "-3 0 0.2 -2.8 0.55 -1.3499999999999999 0.55 0.6500000000000001\n",
      "-3 1 1.8 -2.8 1.35 -1.3499999999999999 0.6499999999999999 0.6500000000000001\n",
      "-3 2 2.2 -2.8 1.55 -1.3499999999999999 0.44999999999999996 0.6500000000000001\n",
      "-3 3 3.8 -2.8 2.35 -1.3499999999999999 0.3500000000000001 0.6500000000000001\n",
      "-3 4 4.2 -2.8 2.5500000000000003 -1.3499999999999999 0.5500000000000003 0.6500000000000001\n",
      "-2 -4 -3.8 -1.2 -1.45 -0.5499999999999999 0.55 0.5499999999999999\n",
      "-2 -3 -2.2 -1.2 -0.6500000000000001 -0.5499999999999999 0.6500000000000001 0.5499999999999999\n",
      "-2 -2 -1.8 -1.2 -0.45 -0.5499999999999999 0.44999999999999996 0.5499999999999999\n",
      "-2 -1 -0.2 -1.2 0.35 -0.5499999999999999 0.35 0.5499999999999999\n",
      "-2 0 0.2 -1.2 0.55 -0.5499999999999999 0.55 0.5499999999999999\n",
      "-2 1 1.8 -1.2 1.35 -0.5499999999999999 0.6499999999999999 0.5499999999999999\n",
      "-2 2 2.2 -1.2 1.55 -0.5499999999999999 0.44999999999999996 0.5499999999999999\n",
      "-2 3 3.8 -1.2 2.35 -0.5499999999999999 0.3500000000000001 0.5499999999999999\n",
      "-2 4 4.2 -1.2 2.5500000000000003 -0.5499999999999999 0.5500000000000003 0.5499999999999999\n",
      "-1 -4 -3.8 -0.8 -1.45 -0.35000000000000003 0.55 0.3500000000000001\n",
      "-1 -3 -2.2 -0.8 -0.6500000000000001 -0.35000000000000003 0.6500000000000001 0.3500000000000001\n",
      "-1 -2 -1.8 -0.8 -0.45 -0.35000000000000003 0.44999999999999996 0.3500000000000001\n",
      "-1 -1 -0.2 -0.8 0.35 -0.35000000000000003 0.35 0.3500000000000001\n",
      "-1 0 0.2 -0.8 0.55 -0.35000000000000003 0.55 0.3500000000000001\n",
      "-1 1 1.8 -0.8 1.35 -0.35000000000000003 0.6499999999999999 0.3500000000000001\n",
      "-1 2 2.2 -0.8 1.55 -0.35000000000000003 0.44999999999999996 0.3500000000000001\n",
      "-1 3 3.8 -0.8 2.35 -0.35000000000000003 0.3500000000000001 0.3500000000000001\n",
      "-1 4 4.2 -0.8 2.5500000000000003 -0.35000000000000003 0.5500000000000003 0.3500000000000001\n",
      "0 -4 -3.8 0.8 -1.45 0.45 0.55 0.45\n",
      "0 -3 -2.2 0.8 -0.6500000000000001 0.45 0.6500000000000001 0.45\n",
      "0 -2 -1.8 0.8 -0.45 0.45 0.44999999999999996 0.45\n",
      "0 -1 -0.2 0.8 0.35 0.45 0.35 0.45\n",
      "0 0 0.2 0.8 0.55 0.45 0.55 0.45\n",
      "0 1 1.8 0.8 1.35 0.45 0.6499999999999999 0.45\n",
      "0 2 2.2 0.8 1.55 0.45 0.44999999999999996 0.45\n",
      "0 3 3.8 0.8 2.35 0.45 0.3500000000000001 0.45\n",
      "0 4 4.2 0.8 2.5500000000000003 0.45 0.5500000000000003 0.45\n",
      "1 -4 -3.8 1.2 -1.45 0.65 0.55 0.65\n",
      "1 -3 -2.2 1.2 -0.6500000000000001 0.65 0.6500000000000001 0.65\n",
      "1 -2 -1.8 1.2 -0.45 0.65 0.44999999999999996 0.65\n",
      "1 -1 -0.2 1.2 0.35 0.65 0.35 0.65\n",
      "1 0 0.2 1.2 0.55 0.65 0.55 0.65\n",
      "1 1 1.8 1.2 1.35 0.65 0.6499999999999999 0.65\n",
      "1 2 2.2 1.2 1.55 0.65 0.44999999999999996 0.65\n",
      "1 3 3.8 1.2 2.35 0.65 0.3500000000000001 0.65\n",
      "1 4 4.2 1.2 2.5500000000000003 0.65 0.5500000000000003 0.65\n",
      "2 -4 -3.8 2.8 -1.45 1.45 0.55 0.55\n",
      "2 -3 -2.2 2.8 -0.6500000000000001 1.45 0.6500000000000001 0.55\n",
      "2 -2 -1.8 2.8 -0.45 1.45 0.44999999999999996 0.55\n",
      "2 -1 -0.2 2.8 0.35 1.45 0.35 0.55\n",
      "2 0 0.2 2.8 0.55 1.45 0.55 0.55\n",
      "2 1 1.8 2.8 1.35 1.45 0.6499999999999999 0.55\n",
      "2 2 2.2 2.8 1.55 1.45 0.44999999999999996 0.55\n",
      "2 3 3.8 2.8 2.35 1.45 0.3500000000000001 0.55\n",
      "2 4 4.2 2.8 2.5500000000000003 1.45 0.5500000000000003 0.55\n",
      "3 -4 -3.8 3.2 -1.45 1.6500000000000001 0.55 0.34999999999999987\n",
      "3 -3 -2.2 3.2 -0.6500000000000001 1.6500000000000001 0.6500000000000001 0.34999999999999987\n",
      "3 -2 -1.8 3.2 -0.45 1.6500000000000001 0.44999999999999996 0.34999999999999987\n",
      "3 -1 -0.2 3.2 0.35 1.6500000000000001 0.35 0.34999999999999987\n",
      "3 0 0.2 3.2 0.55 1.6500000000000001 0.55 0.34999999999999987\n",
      "3 1 1.8 3.2 1.35 1.6500000000000001 0.6499999999999999 0.34999999999999987\n",
      "3 2 2.2 3.2 1.55 1.6500000000000001 0.44999999999999996 0.34999999999999987\n",
      "3 3 3.8 3.2 2.35 1.6500000000000001 0.3500000000000001 0.34999999999999987\n",
      "3 4 4.2 3.2 2.5500000000000003 1.6500000000000001 0.5500000000000003 0.34999999999999987\n",
      "4 -4 -3.8 4.8 -1.45 2.4499999999999997 0.55 0.44999999999999973\n",
      "4 -3 -2.2 4.8 -0.6500000000000001 2.4499999999999997 0.6500000000000001 0.44999999999999973\n",
      "4 -2 -1.8 4.8 -0.45 2.4499999999999997 0.44999999999999996 0.44999999999999973\n",
      "4 -1 -0.2 4.8 0.35 2.4499999999999997 0.35 0.44999999999999973\n",
      "4 0 0.2 4.8 0.55 2.4499999999999997 0.55 0.44999999999999973\n",
      "4 1 1.8 4.8 1.35 2.4499999999999997 0.6499999999999999 0.44999999999999973\n",
      "4 2 2.2 4.8 1.55 2.4499999999999997 0.44999999999999996 0.44999999999999973\n",
      "4 3 3.8 4.8 2.35 2.4499999999999997 0.3500000000000001 0.44999999999999973\n",
      "4 4 4.2 4.8 2.5500000000000003 2.4499999999999997 0.5500000000000003 0.44999999999999973\n"
     ]
    }
   ],
   "source": [
    "ans = []\n",
    "k = 4\n",
    "for i in range(-k, k + 1):\n",
    "    for j in range(-k, k + 1):\n",
    "        if abs(i) % 2 == 1:\n",
    "            y = i + 1 - pos[1]\n",
    "        else:\n",
    "            y = i + pos[1]\n",
    "\n",
    "        if abs(j) % 2 == 1:\n",
    "            x = j + 1 - pos[0]\n",
    "        else:\n",
    "            x = j + pos[0]\n",
    "\n",
    "        mx_tmp, my_tmp = middle_point(enemy[0], enemy[1], x, y)\n",
    "\n",
    "        if abs(math.floor(my_tmp)) % 2 == 1:\n",
    "            my = 1 - (my_tmp % 1)\n",
    "        else:\n",
    "            my = (my_tmp % 1)\n",
    "\n",
    "        if abs(math.floor(mx_tmp)) % 2 == 1:\n",
    "            mx = 1 - (mx_tmp % 1)\n",
    "        else:\n",
    "            mx = (mx_tmp % 1)\n",
    "\n",
    "        print(i, j, x, y, mx_tmp, my_tmp, mx, my,)\n",
    "        ans.append((mx, my))\n",
    "\n",
    "final = []\n",
    "valid = [True] * len(ans)\n",
    "for i in range(len(ans)):\n",
    "    if not valid[i]:\n",
    "        continue\n",
    "    final.append(ans[i])\n",
    "    for j in range(i+1, len(ans)):\n",
    "        if abs(ans[i][0] - ans[j][0]) < 1e-6 and abs(ans[i][1] - ans[j][1]) < 1e-6:\n",
    "            valid[j] = False\n"
   ]
  },
  {
   "cell_type": "code",
   "execution_count": 321,
   "metadata": {},
   "outputs": [
    {
     "data": {
      "text/plain": [
       "16"
      ]
     },
     "execution_count": 321,
     "metadata": {},
     "output_type": "execute_result"
    }
   ],
   "source": [
    "len(final)"
   ]
  },
  {
   "cell_type": "code",
   "execution_count": null,
   "metadata": {},
   "outputs": [],
   "source": []
  },
  {
   "cell_type": "code",
   "execution_count": 255,
   "metadata": {},
   "outputs": [
    {
     "data": {
      "text/plain": [
       "[(0.08545755990097717, 0.5434999567258814),\n",
       " (0.9145424400990229, 0.7205021879081706),\n",
       " (0.08545755990097717, 0.7205021879081706),\n",
       " (0.9145424400990229, 0.5434999567258814)]"
      ]
     },
     "execution_count": 255,
     "metadata": {},
     "output_type": "execute_result"
    }
   ],
   "source": [
    "s = solve(pos, enemy)\n",
    "s"
   ]
  },
  {
   "cell_type": "code",
   "execution_count": null,
   "metadata": {},
   "outputs": [],
   "source": []
  }
 ],
 "metadata": {
  "kernelspec": {
   "display_name": "Python 3",
   "language": "python",
   "name": "python3"
  },
  "language_info": {
   "codemirror_mode": {
    "name": "ipython",
    "version": 3
   },
   "file_extension": ".py",
   "mimetype": "text/x-python",
   "name": "python",
   "nbconvert_exporter": "python",
   "pygments_lexer": "ipython3",
   "version": "3.6.10"
  }
 },
 "nbformat": 4,
 "nbformat_minor": 2
}
