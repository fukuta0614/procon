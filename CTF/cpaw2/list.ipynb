{
 "cells": [
  {
   "cell_type": "code",
   "execution_count": 1,
   "metadata": {},
   "outputs": [],
   "source": [
    "import requests\n",
    "from bs4 import BeautifulSoup\n",
    "import os"
   ]
  },
  {
   "cell_type": "code",
   "execution_count": 5,
   "metadata": {},
   "outputs": [],
   "source": [
    "l = [\"01_FragileWeb\",\n",
    "\"02_prankNetwork\",\n",
    "\"03_HTTPS introductionNetwork\",\n",
    "\"04_Illegal Packets...Network\",\n",
    "\"05_an apartmentCrypto\",\n",
    "\"06_easy...? Turing MachineCrypto\",\n",
    "\"07_Secret instructionReverse\",\n",
    "\"08_Exec me revengeReverse\",\n",
    "\"09_Blackboard Of Fake1Pwn\",\n",
    "\"10_Blackboard Of Fake2Pwn\",\n",
    "\"11_ChancePwn\",\n",
    "\"12_Name Editor++Pwn\",\n",
    "\"13_Bad ContainerForensic\",\n",
    "\"14_Trace BehaviorForensic\",\n",
    "\"15_CCpostStego\",\n",
    "\"16_Random ImageStego\",\n",
    "\"17_sumsumsumMisc\",\n",
    "\"18_BrokenBaseMisc\",\n",
    "\"19_Everyone's powerMisc\"]"
   ]
  },
  {
   "cell_type": "code",
   "execution_count": 7,
   "metadata": {},
   "outputs": [
    {
     "name": "stdout",
     "output_type": "stream",
     "text": [
      "01_FragileWeb\n",
      "02_prankNetwork\n",
      "03_HTTPS introductionNetwork\n",
      "04_Illegal Packets...Network\n",
      "05_an apartmentCrypto\n",
      "06_easy...? Turing MachineCrypto\n",
      "07_Secret instructionReverse\n",
      "08_Exec me revengeReverse\n",
      "09_Blackboard Of Fake1Pwn\n",
      "10_Blackboard Of Fake2Pwn\n",
      "11_ChancePwn\n",
      "12_Name Editor++Pwn\n",
      "13_Bad ContainerForensic\n",
      "14_Trace BehaviorForensic\n",
      "15_CCpostStego\n",
      "16_Random ImageStego\n",
      "17_sumsumsumMisc\n",
      "18_BrokenBaseMisc\n",
      "19_Everyone's powerMisc\n"
     ]
    }
   ],
   "source": [
    "for name in l:\n",
    "    print(name)\n",
    "    os.mkdir(name)"
   ]
  },
  {
   "cell_type": "code",
   "execution_count": 10,
   "metadata": {},
   "outputs": [],
   "source": [
    "s = \"\"\"\n",
    "## {}\n",
    "- 概要\n",
    "    - mada\n",
    "- 解法\n",
    "    - mada\n",
    "\n",
    "\"\"\""
   ]
  },
  {
   "cell_type": "code",
   "execution_count": 11,
   "metadata": {},
   "outputs": [],
   "source": [
    "with open(\"感想.md\", 'w') as f:\n",
    "    f.write(\"# cpaw2 感想\\n\\n\")\n",
    "    for name in l:\n",
    "        f.write(s.format(name))\n",
    "        "
   ]
  },
  {
   "cell_type": "code",
   "execution_count": null,
   "metadata": {},
   "outputs": [],
   "source": []
  }
 ],
 "metadata": {
  "kernelspec": {
   "display_name": "Python 3",
   "language": "python",
   "name": "python3"
  },
  "language_info": {
   "codemirror_mode": {
    "name": "ipython",
    "version": 3
   },
   "file_extension": ".py",
   "mimetype": "text/x-python",
   "name": "python",
   "nbconvert_exporter": "python",
   "pygments_lexer": "ipython3",
   "version": "3.6.10"
  }
 },
 "nbformat": 4,
 "nbformat_minor": 2
}
