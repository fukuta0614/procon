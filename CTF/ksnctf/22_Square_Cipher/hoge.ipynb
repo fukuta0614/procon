{
 "cells": [
  {
   "cell_type": "code",
   "execution_count": 50,
   "metadata": {},
   "outputs": [],
   "source": [
    "%matplotlib inline\n",
    "\n",
    "import matplotlib.pyplot as plt\n",
    "\n",
    "from PIL import Image\n",
    "import numpy as np\n",
    "\n",
    "from pyzbar.pyzbar import decode\n",
    "import qrtools\n"
   ]
  },
  {
   "cell_type": "code",
   "execution_count": 22,
   "metadata": {},
   "outputs": [],
   "source": [
    "\n",
    "data = \"\"\"\\\n",
    "oomktvziqtaovmmpxzoqrzsxlpwpgoj\n",
    "uDQEMISYnnVYnvyWRhHsDXnSCXAVVZj\n",
    "tZbknedErdpvAwQWpUiLqOxIqpafvXp\n",
    "dXoAVWcKppbEPuaqmXWjXJwRoRFOoEg\n",
    "pDiRUXlQjKJlslskVpGwtljGyVJPxHv\n",
    "bQsQNKxCsdYMdQPJiBmyrsuOrJQOtXg\n",
    "pMekeinUaMoDXqFzweLKipkBuggnsUv\n",
    "eQFYCJSKfBgHaJgZnZoWmOmAOJLVQHi\n",
    "hljrplajyKNXtwmfOjRwOqcqeeplyzy\n",
    "gkFOltsOyrPgIaerIaSjQQaVMyEhfyd\n",
    "vEaRHbBzfrcwJbCZmHdddLpuEJwspbt\n",
    "sXQGkwpKaTZmWJiZzpbkpHNiToawxKn\n",
    "wJpIKbGhnLjVAJNcxrqkKEJCKCOocSv\n",
    "mTRDNDpFtRUmcHoRELeSqXoGUIIsuYu\n",
    "ajeHaSVlQGLaEprSQarDzTomJdAWfqb\n",
    "zIJLHRBXMvNDegYeaoVRDuWBbdSBtLv\n",
    "xIeKdAYwajGHMgRLDGgDinBiLNBgatb\n",
    "kHepNsCQSJjTRmQrCHYWJqIPOVAUOer\n",
    "rvhmZfmogPglGNuLyAuSivBctlvVfzb\n",
    "qBJdHUkSaTArlgkhtHPyGhXOPkwmkBq\n",
    "rvbzZfwvLtTnhyXVHPlwsuGZQnNiNcm\n",
    "yCMtAVwYVgtZHVNznolGMBETIHFmoWj\n",
    "wfezbysbvOzsAhxSZFFAfOouyHldEYh\n",
    "gNHKKSFUtcUxfRyXHMugYBtAxBwDJZh\n",
    "rHmsozuNeoJqyzMDHsNbUDwzaNLtdxr\n",
    "bVmQMHyNndOWCZLnhrPxZXCYLDTWQre\n",
    "aSiEEJjZtoRpUzgsxsiiGzvnRpKLMrk\n",
    "qTzGCKvNhUhjrmCjAdwQAvkgqHyJZLm\n",
    "sSxzwjxAnWesTszIxirRwcWIXUPtwwa\n",
    "nTDEMTRGyhzdCtkTTDWbxdSjsNYlfXz\n",
    "eawtidzosgaofjxxyfcdoiulemirqap\n",
    "\"\"\"\n"
   ]
  },
  {
   "cell_type": "code",
   "execution_count": 25,
   "metadata": {},
   "outputs": [],
   "source": [
    "lines = data.split(\"\\n\")[:-1]"
   ]
  },
  {
   "cell_type": "code",
   "execution_count": 27,
   "metadata": {},
   "outputs": [],
   "source": [
    "img = np.zeros((31, 31))\n",
    "for i in range(31):\n",
    "    for j in range(31):\n",
    "        img[i][j] = ord(lines[i][j])"
   ]
  },
  {
   "cell_type": "code",
   "execution_count": 32,
   "metadata": {},
   "outputs": [
    {
     "data": {
      "text/plain": [
       "<matplotlib.image.AxesImage at 0x111dcaf98>"
      ]
     },
     "execution_count": 32,
     "metadata": {},
     "output_type": "execute_result"
    },
    {
     "data": {
      "image/png": "[encoded data removed]",
      "text/plain": [
       "<Figure size 432x288 with 1 Axes>"
      ]
     },
     "metadata": {},
     "output_type": "display_data"
    }
   ],
   "source": [
    "plt.imshow(img, cmap='gray')"
   ]
  },
  {
   "cell_type": "code",
   "execution_count": 35,
   "metadata": {},
   "outputs": [
    {
     "data": {
      "text/plain": [
       "False"
      ]
     },
     "execution_count": 35,
     "metadata": {},
     "output_type": "execute_result"
    }
   ],
   "source": [
    "'asdf'.isupper()"
   ]
  },
  {
   "cell_type": "code",
   "execution_count": 39,
   "metadata": {},
   "outputs": [],
   "source": [
    "img = np.zeros((31, 31))\n",
    "for i in range(31):\n",
    "    for j in range(31):\n",
    "        c = lines[i][j]\n",
    "        img[i][j] = 0 if c.isupper() else 255"
   ]
  },
  {
   "cell_type": "code",
   "execution_count": 40,
   "metadata": {},
   "outputs": [
    {
     "data": {
      "text/plain": [
       "<matplotlib.image.AxesImage at 0x111e857f0>"
      ]
     },
     "execution_count": 40,
     "metadata": {},
     "output_type": "execute_result"
    },
    {
     "data": {
      "image/png": "[encoded data removed]",
      "text/plain": [
       "<Figure size 432x288 with 1 Axes>"
      ]
     },
     "metadata": {},
     "output_type": "display_data"
    }
   ],
   "source": [
    "plt.imshow(img, cmap='gray')"
   ]
  },
  {
   "cell_type": "code",
   "execution_count": 45,
   "metadata": {},
   "outputs": [],
   "source": [
    "pimg = Image.fromarray(img.astype(\"uint8\"))"
   ]
  },
  {
   "cell_type": "code",
   "execution_count": 51,
   "metadata": {},
   "outputs": [
    {
     "name": "stdout",
     "output_type": "stream",
     "text": [
      "[Decoded(data=b'FLAG_KC9ABe643Jx8Ckmf', type='QRCODE', rect=Rect(left=1, top=1, width=29, height=29), polygon=[Point(x=1, y=1), Point(x=1, y=30), Point(x=30, y=30), Point(x=30, y=1)])]\n"
     ]
    }
   ],
   "source": [
    "from pyzbar.pyzbar import decode\n",
    "data = decode(pimg)\n",
    "print(data)"
   ]
  },
  {
   "cell_type": "code",
   "execution_count": 49,
   "metadata": {},
   "outputs": [
    {
     "ename": "ImportError",
     "evalue": "cannot import name 'zbar'",
     "output_type": "error",
     "traceback": [
      "\u001b[0;31m---------------------------------------------------------------------------\u001b[0m",
      "\u001b[0;31mImportError\u001b[0m                               Traceback (most recent call last)",
      "\u001b[0;32m<ipython-input-49-6cf154b9e72c>\u001b[0m in \u001b[0;36m<module>\u001b[0;34m()\u001b[0m\n\u001b[0;32m----> 1\u001b[0;31m \u001b[0;32mfrom\u001b[0m \u001b[0mqrtools\u001b[0m \u001b[0;32mimport\u001b[0m \u001b[0mzbar\u001b[0m\u001b[0;34m\u001b[0m\u001b[0m\n\u001b[0m",
      "\u001b[0;31mImportError\u001b[0m: cannot import name 'zbar'"
     ]
    }
   ],
   "source": [
    "from qrtools import zbar"
   ]
  },
  {
   "cell_type": "code",
   "execution_count": null,
   "metadata": {},
   "outputs": [],
   "source": []
  }
 ],
 "metadata": {
  "kernelspec": {
   "display_name": "Python 3",
   "language": "python",
   "name": "python3"
  },
  "language_info": {
   "codemirror_mode": {
    "name": "ipython",
    "version": 3
   },
   "file_extension": ".py",
   "mimetype": "text/x-python",
   "name": "python",
   "nbconvert_exporter": "python",
   "pygments_lexer": "ipython3",
   "version": "3.6.4"
  }
 },
 "nbformat": 4,
 "nbformat_minor": 2
}
