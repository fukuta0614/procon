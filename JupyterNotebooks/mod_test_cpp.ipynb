{
 "cells": [
  {
   "cell_type": "code",
   "execution_count": 1,
   "metadata": {},
   "outputs": [],
   "source": [
    "#include <algorithm>\n",
    "#include <bitset>\n",
    "#include <complex>\n",
    "#include <deque>\n",
    "#include <exception>\n",
    "#include <fstream>\n",
    "#include <functional>\n",
    "#include <iomanip>\n",
    "#include <ios>\n",
    "#include <iosfwd>\n",
    "#include <iostream>\n",
    "#include <istream>\n",
    "#include <iterator>\n",
    "#include <limits>\n",
    "#include <list>\n",
    "#include <locale>\n",
    "#include <map>\n",
    "#include <memory>\n",
    "#include <new>\n",
    "#include <numeric>\n",
    "#include <ostream>\n",
    "#include <queue>\n",
    "#include <set>\n",
    "#include <sstream>\n",
    "#include <stack>\n",
    "#include <stdexcept>\n",
    "#include <streambuf>\n",
    "#include <string>\n",
    "#include <typeinfo>\n",
    "#include <utility>\n",
    "#include <valarray>\n",
    "#include <vector>\n",
    "#include <random>\n",
    "\n",
    "#define REP(i, n) for (int (i) = 0 ; (i) < (int)(n) ; ++(i))\n",
    "#define REPN(i, m, n) for (int (i) = m ; (i) < (int)(n) ; ++(i))\n",
    "#define REP_REV(i, n) for (int (i) = (int)(n) - 1 ; (i) >= 0 ; --(i))\n",
    "#define REPN_REV(i, m, n) for (int (i) = (int)(n) - 1 ; (i) >= m ; --(i))\n",
    "#define ALL(x) x.begin(), x.end()\n",
    "\n",
    "template<class T> void print(const T& x){std::cout << x << \"\\n\";}\n",
    "template<class T, class... A> void print(const T& first, const A&... rest) { std::cout << first << \" \"; print(rest...); }\n",
    "\n",
    "using ll = long long;\n",
    "\n",
    "std::random_device rd;\n",
    "std::mt19937 mt(rd());"
   ]
  },
  {
   "cell_type": "code",
   "execution_count": 2,
   "metadata": {},
   "outputs": [],
   "source": [
    "int euler_phi(int n){\n",
    "    ll res = n;\n",
    "    for (int i = 2; i * i <= n; ++i) {\n",
    "        if (n % i == 0){\n",
    "            res = res / i * (i-1);\n",
    "            for (; n % i == 0; n /= i);\n",
    "        }\n",
    "    }\n",
    "    if (n != 1) res = res / n * (n - 1);\n",
    "    return res;\n",
    "}"
   ]
  },
  {
   "cell_type": "code",
   "execution_count": 3,
   "metadata": {},
   "outputs": [],
   "source": [
    "int mod_pow(ll a,ll b,int mo){ll ans=1;do{if(b&1)ans=1ll*ans*a%mo;a=1ll*a*a%mo;}while(b>>=1);return ans;}"
   ]
  },
  {
   "cell_type": "code",
   "execution_count": 4,
   "metadata": {},
   "outputs": [],
   "source": [
    "ll inv_mod2(ll a, ll mod){\n",
    "    int phi = euler_phi(mod);\n",
    "    return mod_pow(a, phi-1, mod);\n",
    "}"
   ]
  },
  {
   "cell_type": "code",
   "execution_count": 5,
   "metadata": {},
   "outputs": [],
   "source": [
    "ll extgcd(ll a, ll b, ll& x, ll& y) { ll d = a; if(b != 0){ d = extgcd(b, a%b, y, x); y -= (a/b) * x; } else{ x = 1; y = 0; } return d; }"
   ]
  },
  {
   "cell_type": "code",
   "execution_count": 6,
   "metadata": {},
   "outputs": [],
   "source": [
    "ll inv_mod(ll a, ll mod){\n",
    "    ll x, y;\n",
    "    extgcd(a, mod, x, y);\n",
    "    return (mod + x%mod) % mod;\n",
    "}"
   ]
  },
  {
   "cell_type": "code",
   "execution_count": 7,
   "metadata": {},
   "outputs": [],
   "source": [
    "ll gcd(ll a,ll b){return b?gcd(b,a%b):a;}"
   ]
  },
  {
   "cell_type": "code",
   "execution_count": null,
   "metadata": {},
   "outputs": [],
   "source": []
  },
  {
   "cell_type": "code",
   "execution_count": 8,
   "metadata": {},
   "outputs": [],
   "source": [
    "ll a = 0;\n",
    "ll mod = 0;\n",
    "ll d = 0;"
   ]
  },
  {
   "cell_type": "code",
   "execution_count": 9,
   "metadata": {},
   "outputs": [],
   "source": [
    "ll res = 0;\n",
    "ll res2 = 0;"
   ]
  },
  {
   "cell_type": "code",
   "execution_count": 15,
   "metadata": {},
   "outputs": [
    {
     "name": "stdout",
     "output_type": "stream",
     "text": [
      "90020 20052 4\n",
      "1874 7988 1874 2975\n",
      "4 15040\n"
     ]
    }
   ],
   "source": [
    "a = mt() % 100000;\n",
    "mod = mt() % 100000;\n",
    "res = inv_mod(a, mod);\n",
    "res2 = inv_mod2(a, mod);\n",
    "d = gcd(a, mod);\n",
    "print(a, mod, d);\n",
    "print(res, res2, res%(mod/d), res2 % (mod/d));\n",
    "print(a * res % mod, a * res2 % mod);"
   ]
  },
  {
   "cell_type": "code",
   "execution_count": null,
   "metadata": {},
   "outputs": [],
   "source": []
  }
 ],
 "metadata": {
  "kernelspec": {
   "display_name": "C++17",
   "language": "C++17",
   "name": "xeus-cling-cpp17"
  },
  "language_info": {
   "codemirror_mode": "text/x-c++src",
   "file_extension": ".cpp",
   "mimetype": "text/x-c++src",
   "name": "c++",
   "version": "-std=c++17"
  }
 },
 "nbformat": 4,
 "nbformat_minor": 2
}
