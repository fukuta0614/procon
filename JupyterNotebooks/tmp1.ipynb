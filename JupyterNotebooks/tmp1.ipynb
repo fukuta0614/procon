{
 "cells": [
  {
   "cell_type": "code",
   "execution_count": 1,
   "metadata": {
    "collapsed": true
   },
   "outputs": [],
   "source": [
    "T = '52525'"
   ]
  },
  {
   "cell_type": "code",
   "execution_count": 18,
   "metadata": {
    "collapsed": true
   },
   "outputs": [],
   "source": [
    "def count_nico(s):\n",
    "    i = 0\n",
    "    count = 0\n",
    "    max_count = 0\n",
    "    flag = False\n",
    "    while i < len(s):\n",
    "        if flag and s[i] == '5' :\n",
    "            count += 1\n",
    "            flag = False\n",
    "        elif not flag and s[i] == '2':\n",
    "            flag = True\n",
    "        else:\n",
    "            max_count = max(count, max_count)\n",
    "            count = 0\n",
    "            flag = False\n",
    "        i += 1\n",
    "    return max_count"
   ]
  },
  {
   "cell_type": "code",
   "execution_count": 112,
   "metadata": {},
   "outputs": [
    {
     "data": {
      "text/plain": [
       "'52'"
      ]
     },
     "execution_count": 112,
     "metadata": {},
     "output_type": "execute_result"
    }
   ],
   "source": [
    "('25'*3)[1:3]"
   ]
  },
  {
   "cell_type": "code",
   "execution_count": 166,
   "metadata": {},
   "outputs": [],
   "source": [
    "def count_nico(s, max_count=0, i=0, count=0, flag=False):\n",
    "#     print(s, max_count, i, count, flag)\n",
    "    while i < len(s):\n",
    "        if s[i] == '?':\n",
    "            k = 1\n",
    "            hatena_count = 1\n",
    "            while True:\n",
    "                if i+k == len(s):\n",
    "                    s_2 = s[:i] + ('25'*k)[:k]\n",
    "                    s_5 = s[:i] + ('52'*k)[:k]\n",
    "                    s_2_count = count_nico(s_2, max_count=max_count, i=i, count=count, flag=flag)\n",
    "                    s_5_count = count_nico(s_5, max_count=max_count, i=i, count=count, flag=flag)\n",
    "                    return max(s_2_count, s_5_count)\n",
    "                elif s[i+k] == '?':\n",
    "                    hatena_count += 1\n",
    "                    k += 1\n",
    "                else:\n",
    "                    break\n",
    "            s_2 = s[:i] + ('25'*k)[:k] + s[i+k:]\n",
    "            s_5 = s[:i] + ('52'*k)[:k] + s[i+k:]\n",
    "            s_2_count = count_nico(s_2, max_count=max_count, i=i, count=count, flag=flag)\n",
    "            s_5_count = count_nico(s_5, max_count=max_count, i=i, count=count, flag=flag)\n",
    "            return max(s_2_count, s_5_count)\n",
    "        else:\n",
    "            if flag and s[i] == '5' :\n",
    "                count += 1\n",
    "                max_count = max(count, max_count)\n",
    "                flag = False\n",
    "            elif not flag and s[i] == '2':\n",
    "                flag = True\n",
    "            else:\n",
    "                max_count = max(count, max_count)\n",
    "                count = 0\n",
    "                flag = s[i] == '2'\n",
    "            i += 1\n",
    "#             print(flag, count , max_count)\n",
    "    return max_count*2\n",
    "\n",
    "# T = input()\n",
    "# print(count_nico(T))"
   ]
  },
  {
   "cell_type": "code",
   "execution_count": null,
   "metadata": {
    "collapsed": true
   },
   "outputs": [],
   "source": [
    "T = input()\n",
    "\n",
    "for i in range(0, len(T-1), )"
   ]
  },
  {
   "cell_type": "code",
   "execution_count": 259,
   "metadata": {},
   "outputs": [
    {
     "data": {
      "text/plain": [
       "'679??17?98306??946477501973606158962192474????????????696791?54??????40115177773290????756???0????75366380???37???05093232??????50'"
      ]
     },
     "execution_count": 259,
     "metadata": {},
     "output_type": "execute_result"
    }
   ],
   "source": []
  },
  {
   "cell_type": "code",
   "execution_count": 241,
   "metadata": {},
   "outputs": [
    {
     "data": {
      "text/plain": [
       "12"
      ]
     },
     "execution_count": 241,
     "metadata": {},
     "output_type": "execute_result"
    }
   ],
   "source": [
    "count_nico(x)"
   ]
  },
  {
   "cell_type": "code",
   "execution_count": 236,
   "metadata": {},
   "outputs": [
    {
     "data": {
      "text/plain": [
       "['0', '1', '2', '3', '4', '5', '6', '7', '8', '9', '?', '??', '???', '????']"
      ]
     },
     "execution_count": 236,
     "metadata": {},
     "output_type": "execute_result"
    }
   ],
   "source": []
  },
  {
   "cell_type": "code",
   "execution_count": 148,
   "metadata": {},
   "outputs": [
    {
     "name": "stdout",
     "output_type": "stream",
     "text": [
      "6\n",
      "3\n",
      "1\n",
      "4\n",
      "2\n",
      "2\n",
      "1\n",
      "3\n"
     ]
    }
   ],
   "source": [
    "def func(A):\n",
    "    num = 0\n",
    "    count = 0\n",
    "    while len(A) > 0:\n",
    "        tmp = A[0]\n",
    "        tmp_order = 0\n",
    "        if num + tmp == 4:\n",
    "            A.pop(tmp_order)\n",
    "            num = 0\n",
    "            count += 1\n",
    "        elif num + tmp < 4:\n",
    "            num += tmp\n",
    "            A.pop(tmp_order)\n",
    "        elif num + tmp > 4:\n",
    "            try:\n",
    "                index = A.index(4-num)\n",
    "                A.pop(index)\n",
    "                num = 0\n",
    "                count += 1\n",
    "            except:\n",
    "                if num == 3:\n",
    "                    num = 0\n",
    "                    count += 1\n",
    "                    A.pop(tmp_order)\n",
    "                elif num == 2:\n",
    "                    try:\n",
    "                        index = A.index(1)\n",
    "                        num += 1\n",
    "                        A.pop(index)\n",
    "                    except:\n",
    "                        count += 1\n",
    "                        num = 0\n",
    "                        A.pop(tmp_order)\n",
    "                elif num == 1:\n",
    "                    try:\n",
    "                        index = A.index(2)\n",
    "                        num += 2\n",
    "                        A.pop(index)\n",
    "                    except:\n",
    "                        try:\n",
    "                            index = A.index(1)\n",
    "                            num += 1\n",
    "                            A.pop(index)\n",
    "                        except:\n",
    "                            return count + 1\n",
    "    if num > 0:\n",
    "        return count\n",
    "    else:\n",
    "        return count + 1\n",
    "\n",
    "N = int(input())\n",
    "A = [int(input()) for i in range(N)]\n",
    "print(func(A))"
   ]
  },
  {
   "cell_type": "code",
   "execution_count": 267,
   "metadata": {},
   "outputs": [
    {
     "name": "stdout",
     "output_type": "stream",
     "text": [
      "7927\n"
     ]
    }
   ],
   "source": [
    "N = 100000\n",
    "a, b, c = 0, 0, 1\n",
    "for i in range(4, N+1):\n",
    "    a, b, c = b, c, a + b + c\n",
    "print(c % 10007)"
   ]
  },
  {
   "cell_type": "code",
   "execution_count": null,
   "metadata": {
    "collapsed": true
   },
   "outputs": [],
   "source": [
    "a = int(input())\n",
    "b, c = [int(x) for x in input().split()]\n",
    "s = input()\n",
    "print(a+b+c, s)"
   ]
  },
  {
   "cell_type": "code",
   "execution_count": 276,
   "metadata": {},
   "outputs": [
    {
     "data": {
      "text/plain": [
       "'100000'"
      ]
     },
     "execution_count": 276,
     "metadata": {},
     "output_type": "execute_result"
    }
   ],
   "source": [
    "n, X = [int(a) for a in input().split()]\n",
    "a = [int(a) for x in input().split()]"
   ]
  },
  {
   "cell_type": "code",
   "execution_count": 279,
   "metadata": {},
   "outputs": [
    {
     "data": {
      "text/plain": [
       "0"
      ]
     },
     "execution_count": 279,
     "metadata": {},
     "output_type": "execute_result"
    }
   ],
   "source": [
    "2 & 1"
   ]
  },
  {
   "cell_type": "code",
   "execution_count": 282,
   "metadata": {},
   "outputs": [
    {
     "data": {
      "text/plain": [
       "2"
      ]
     },
     "execution_count": 282,
     "metadata": {},
     "output_type": "execute_result"
    }
   ],
   "source": [
    "4 >> 1"
   ]
  },
  {
   "cell_type": "code",
   "execution_count": 284,
   "metadata": {},
   "outputs": [
    {
     "data": {
      "text/plain": [
       "str"
      ]
     },
     "execution_count": 284,
     "metadata": {},
     "output_type": "execute_result"
    }
   ],
   "source": [
    "type(format(16,'b'))"
   ]
  },
  {
   "cell_type": "code",
   "execution_count": 296,
   "metadata": {},
   "outputs": [
    {
     "name": "stdout",
     "output_type": "stream",
     "text": [
      "100 loops, best of 3: 7.52 ms per loop\n"
     ]
    }
   ],
   "source": [
    "%timeit a = [None] * 1000000"
   ]
  },
  {
   "cell_type": "code",
   "execution_count": 297,
   "metadata": {},
   "outputs": [
    {
     "name": "stdout",
     "output_type": "stream",
     "text": [
      "1 loop, best of 3: 667 ms per loop\n"
     ]
    }
   ],
   "source": [
    "%timeit b = a[1:]"
   ]
  },
  {
   "cell_type": "code",
   "execution_count": 298,
   "metadata": {},
   "outputs": [
    {
     "name": "stdout",
     "output_type": "stream",
     "text": [
      "10 loops, best of 3: 107 ms per loop\n"
     ]
    }
   ],
   "source": [
    "%timeit b = a.pop(0)"
   ]
  },
  {
   "cell_type": "code",
   "execution_count": 300,
   "metadata": {},
   "outputs": [
    {
     "ename": "NameError",
     "evalue": "name 'array' is not defined",
     "output_type": "error",
     "traceback": [
      "\u001b[0;31m---------------------------------------------------------------------------\u001b[0m",
      "\u001b[0;31mNameError\u001b[0m                                 Traceback (most recent call last)",
      "\u001b[0;32m<ipython-input-300-062ffca2de96>\u001b[0m in \u001b[0;36m<module>\u001b[0;34m()\u001b[0m\n\u001b[1;32m      1\u001b[0m \u001b[0mnay\u001b[0m \u001b[0;34m=\u001b[0m \u001b[0;34m[\u001b[0m\u001b[0;34m]\u001b[0m\u001b[0;34m\u001b[0m\u001b[0m\n\u001b[0;32m----> 2\u001b[0;31m \u001b[0miay\u001b[0m \u001b[0;34m=\u001b[0m \u001b[0marray\u001b[0m\u001b[0;34m(\u001b[0m\u001b[0;34m'I'\u001b[0m\u001b[0;34m,\u001b[0m \u001b[0;34m[\u001b[0m\u001b[0;34m]\u001b[0m\u001b[0;34m)\u001b[0m\u001b[0;34m\u001b[0m\u001b[0m\n\u001b[0m\u001b[1;32m      3\u001b[0m \u001b[0;34m\u001b[0m\u001b[0m\n\u001b[1;32m      4\u001b[0m \u001b[0mstart\u001b[0m \u001b[0;34m=\u001b[0m \u001b[0mtime\u001b[0m\u001b[0;34m.\u001b[0m\u001b[0mclock\u001b[0m\u001b[0;34m(\u001b[0m\u001b[0;34m)\u001b[0m\u001b[0;34m\u001b[0m\u001b[0m\n\u001b[1;32m      5\u001b[0m \u001b[0;34m\u001b[0m\u001b[0m\n",
      "\u001b[0;31mNameError\u001b[0m: name 'array' is not defined"
     ]
    }
   ],
   "source": [
    "\"\"\"\n",
    "list\n",
    "1000000 241.515497\n",
    "\"\"\"\n",
    "for i in xrange(n):\n",
    "    nay.insert(0, i)\n",
    " \n",
    "\"\"\"\n",
    "array\n",
    "1000000 86.058389\n",
    "\"\"\"\n",
    "for i in xrange(n):\n",
    "    iay.insert(0, i)\n",
    "    \n",
    "end = time.clock()\n",
    "print(end - start)"
   ]
  },
  {
   "cell_type": "code",
   "execution_count": null,
   "metadata": {
    "collapsed": true
   },
   "outputs": [],
   "source": []
  }
 ],
 "metadata": {
  "kernelspec": {
   "display_name": "Python 3",
   "language": "python",
   "name": "python3"
  },
  "language_info": {
   "codemirror_mode": {
    "name": "ipython",
    "version": 3
   },
   "file_extension": ".py",
   "mimetype": "text/x-python",
   "name": "python",
   "nbconvert_exporter": "python",
   "pygments_lexer": "ipython3",
   "version": "3.6.10"
  }
 },
 "nbformat": 4,
 "nbformat_minor": 1
}
