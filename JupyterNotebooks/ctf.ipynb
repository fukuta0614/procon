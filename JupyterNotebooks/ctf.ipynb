{
 "cells": [
  {
   "cell_type": "code",
   "execution_count": 16,
   "metadata": {},
   "outputs": [],
   "source": [
    "import requests\n",
    "from bs4 import BeautifulSoup\n",
    "import os"
   ]
  },
  {
   "cell_type": "code",
   "execution_count": 21,
   "metadata": {},
   "outputs": [],
   "source": [
    "origin = requests.get(\"http://web2.ctf.nullcon.net:8081/core?q=1\").content"
   ]
  },
  {
   "cell_type": "code",
   "execution_count": 22,
   "metadata": {
    "scrolled": true
   },
   "outputs": [],
   "source": [
    "for i in range(255):\n",
    "    x = requests.get(\"http://web2.ctf.nullcon.net:8081/core?q={}\".format(i)).content\n",
    "    if origin != x:\n",
    "        print(i, x)"
   ]
  },
  {
   "cell_type": "code",
   "execution_count": 13,
   "metadata": {},
   "outputs": [
    {
     "name": "stdout",
     "output_type": "stream",
     "text": [
      "<html><body><iframe allowfullscreen=\"\" class=\"giphy-embed\" frameborder=\"0\" height=\"480\" src=\"https://giphy.com/embed/LLHkw7UnvY3Kw\" width=\"480\"></iframe><p><a href=\"https://giphy.com/gifs/kid-dances-jumbotron-LLHkw7UnvY3Kw\">via GIPHY</a></p></body></html>\n"
     ]
    }
   ],
   "source": [
    "x = requests.get(\"http://web2.ctf.nullcon.net:8081/core?q=1&s=1\").content\n",
    "soup = BeautifulSoup(x, 'lxml')\n",
    "print(soup)"
   ]
  },
  {
   "cell_type": "code",
   "execution_count": 14,
   "metadata": {},
   "outputs": [
    {
     "name": "stdout",
     "output_type": "stream",
     "text": [
      "<html><body><iframe allowfullscreen=\"\" class=\"giphy-embed\" frameborder=\"0\" height=\"480\" src=\"https://giphy.com/embed/LLHkw7UnvY3Kw\" width=\"480\"></iframe><p><a href=\"https://giphy.com/gifs/kid-dances-jumbotron-LLHkw7UnvY3Kw\">via GIPHY</a></p></body></html>\n"
     ]
    }
   ],
   "source": [
    "x2 = requests.get(\"http://web2.ctf.nullcon.net:8081/core?q=1&s=1\").content\n",
    "soup = BeautifulSoup(x, 'lxml')\n",
    "print(soup)"
   ]
  },
  {
   "cell_type": "markdown",
   "metadata": {},
   "source": [
    "## フォルダ作成"
   ]
  },
  {
   "cell_type": "code",
   "execution_count": 4,
   "metadata": {},
   "outputs": [],
   "source": [
    "soup = BeautifulSoup(requests.get(\"http://ksnctf.sweetduet.info/#\").content, 'lxml')"
   ]
  },
  {
   "cell_type": "code",
   "execution_count": 5,
   "metadata": {},
   "outputs": [],
   "source": [
    "d = '/Users/fukuta0614/work_space/procon/CTF/ksnctf'"
   ]
  },
  {
   "cell_type": "code",
   "execution_count": 10,
   "metadata": {},
   "outputs": [],
   "source": [
    "trs = soup.find(\"table\", class_=\"table table-striped\").tbody.find_all('tr')"
   ]
  },
  {
   "cell_type": "code",
   "execution_count": 21,
   "metadata": {},
   "outputs": [
    {
     "name": "stdout",
     "output_type": "stream",
     "text": [
      "01_Test_Problem\n",
      "02_Easy_Cipher\n",
      "03_Crawling_Chaos\n",
      "04_Villager_A\n",
      "05_Onion\n",
      "06_Login\n",
      "07_Programming\n",
      "08_Basic_is_secure?\n",
      "09_Digest_is_secure!\n",
      "10_#!\n",
      "11_Riddle\n",
      "12_Hypertext_Preprocessor\n",
      "13_Proverb\n",
      "14_John\n",
      "15_Jewel\n",
      "16_Math_I\n",
      "17_Math_II\n",
      "18_USB_flash_drive\n",
      "19_ZIP_de_kure\n",
      "20_G00913\n",
      "21_Perfect_Cipher\n",
      "22_Square_Cipher\n",
      "23_Villager_B\n",
      "24_Rights_out\n",
      "25_Reserved\n",
      "26_Sherlock_Holmes\n",
      "27_Lives_out\n",
      "28_Lo-Tech_Cipher\n",
      "29_Double_Blind\n",
      "30_Alpha_Mixed_Cipher\n",
      "31_KanGacha\n",
      "32_Simple_Auth\n",
      "33_HTTPS_is_secure.\n",
      "34_Are_you_human?\n",
      "35_Simple_Auth_II\n",
      "36_Are_you_ESPer?\n"
     ]
    }
   ],
   "source": [
    "for i in range(len(trs)):\n",
    "    tr = trs[i]\n",
    "    title = tr.find_all(\"td\")[2].text.strip()\n",
    "    name =  '{:02d}_{}'.format(i+1,  title.replace(\" \", \"_\"))\n",
    "    print(name)\n",
    "    p = os.path.join(d,  name)\n",
    "    if os.path.exists(p):\n",
    "        continue\n",
    "    \n",
    "    os.mkdir(p)"
   ]
  },
  {
   "cell_type": "code",
   "execution_count": null,
   "metadata": {},
   "outputs": [],
   "source": []
  }
 ],
 "metadata": {
  "kernelspec": {
   "display_name": "Python 3",
   "language": "python",
   "name": "python3"
  },
  "language_info": {
   "codemirror_mode": {
    "name": "ipython",
    "version": 3
   },
   "file_extension": ".py",
   "mimetype": "text/x-python",
   "name": "python",
   "nbconvert_exporter": "python",
   "pygments_lexer": "ipython3",
   "version": "3.6.10"
  }
 },
 "nbformat": 4,
 "nbformat_minor": 2
}
