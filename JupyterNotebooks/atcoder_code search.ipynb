{
 "cells": [
  {
   "cell_type": "code",
   "execution_count": 25,
   "metadata": {},
   "outputs": [],
   "source": [
    "import requests\n",
    "from bs4 import BeautifulSoup\n",
    "\n",
    "from selenium import webdriver\n",
    "from selenium.webdriver.chrome.options import Options\n",
    "\n",
    "from selenium.webdriver.support.ui import WebDriverWait\n",
    "from selenium.webdriver.support import expected_conditions as EC\n",
    "from selenium.common.exceptions import TimeoutException\n",
    "from selenium.webdriver.common.by import By\n",
    "\n",
    "import urllib\n"
   ]
  },
  {
   "cell_type": "code",
   "execution_count": 42,
   "metadata": {},
   "outputs": [],
   "source": [
    "base = 'https://atcoder.jp/contests/abc133/submissions?f.User=beet'\n"
   ]
  },
  {
   "cell_type": "code",
   "execution_count": 43,
   "metadata": {},
   "outputs": [],
   "source": [
    "key = \"EulerTour\""
   ]
  },
  {
   "cell_type": "code",
   "execution_count": 44,
   "metadata": {
    "scrolled": false
   },
   "outputs": [
    {
     "name": "stdout",
     "output_type": "stream",
     "text": [
      "https://atcoder.jp/contests/abc133/submissions/6312152\n",
      "\n",
      "\n",
      "class EulerTourF\n",
      "https://atcoder.jp/contests/abc133/submissions/6312051\n",
      "RE\n",
      "class EulerTourF\n",
      "https://atcoder.jp/contests/abc133/submissions/6310455\n",
      "RE\n",
      "class EulerTourF\n",
      "https://atcoder.jp/contests/abc133/submissions/6309086\n",
      "RE\n",
      "class EulerTourF\n",
      "https://atcoder.jp/contests/abc133/submissions/6308821\n",
      "RE\n",
      "class EulerTourF\n",
      "https://atcoder.jp/contests/abc133/submissions/6308756\n",
      "RE\n",
      "class EulerTourF\n",
      "https://atcoder.jp/contests/abc133/submissions/6308723\n",
      "RE\n",
      "class EulerTourF\n",
      "https://atcoder.jp/contests/abc133/submissions/6308721\n",
      "RE\n",
      "class EulerTourF\n",
      "https://atcoder.jp/contests/abc133/submissions/6308692\n",
      "RE\n",
      "class EulerTourF\n",
      "https://atcoder.jp/contests/abc133/submissions/6308626\n",
      "RE\n",
      "class EulerTourF\n",
      "https://atcoder.jp/contests/abc133/submissions/6308601\n",
      "RE\n",
      "class EulerTourF\n"
     ]
    }
   ],
   "source": [
    "soup = BeautifulSoup(requests.get(base).content, \"lxml\")\n",
    "\n",
    "for e in soup.find_all(\"a\"):\n",
    "    link = e.get(\"href\")\n",
    "    if link is None:\n",
    "        continue\n",
    "        \n",
    "    link = urllib.parse.urljoin(base, link)\n",
    "    try:\n",
    "        tmp_soup = BeautifulSoup(requests.get(link).content, \"lxml\")\n",
    "    except Exception as e:\n",
    "        continue\n",
    "    \n",
    "    if key in tmp_soup.text:\n",
    "        idx = tmp_soup.text.find(key)\n",
    "        print(link)\n",
    "        print(tmp_soup.text[idx-10:idx+10])\n"
   ]
  },
  {
   "cell_type": "code",
   "execution_count": 3,
   "metadata": {},
   "outputs": [],
   "source": [
    "url = 'https://atcoder.jp/contests/abc133/standings'\n",
    "# url = 'https://atcoder.jp/contests/diverta2019-2/standings'\n",
    "\n",
    "options = Options()\n",
    "options.add_argument('--headless')\n",
    "driver = webdriver.Chrome(options=options)\n",
    "\n",
    "driver.get(url)"
   ]
  },
  {
   "cell_type": "code",
   "execution_count": 4,
   "metadata": {},
   "outputs": [],
   "source": [
    "atcoder_object = driver.execute_script(\"return standings;\")\n",
    "data = atcoder_object['StandingsData']\n",
    "            "
   ]
  },
  {
   "cell_type": "code",
   "execution_count": null,
   "metadata": {},
   "outputs": [],
   "source": []
  }
 ],
 "metadata": {
  "kernelspec": {
   "display_name": "Python 3",
   "language": "python",
   "name": "python3"
  },
  "language_info": {
   "codemirror_mode": {
    "name": "ipython",
    "version": 3
   },
   "file_extension": ".py",
   "mimetype": "text/x-python",
   "name": "python",
   "nbconvert_exporter": "python",
   "pygments_lexer": "ipython3",
   "version": "3.6.10"
  }
 },
 "nbformat": 4,
 "nbformat_minor": 2
}
