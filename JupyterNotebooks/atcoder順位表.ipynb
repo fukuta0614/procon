{
 "cells": [
  {
   "cell_type": "code",
   "execution_count": 4,
   "metadata": {},
   "outputs": [],
   "source": [
    "import requests\n",
    "from bs4 import BeautifulSoup\n",
    "\n",
    "from selenium import webdriver\n",
    "from selenium.webdriver.chrome.options import Options\n",
    "\n",
    "from selenium.webdriver.support.ui import WebDriverWait\n",
    "from selenium.webdriver.support import expected_conditions as EC\n",
    "from selenium.common.exceptions import TimeoutException\n",
    "from selenium.webdriver.common.by import By\n",
    "\n",
    "import time\n",
    "import re\n",
    "\n",
    "from io import BytesIO\n",
    "from PIL import Image"
   ]
  },
  {
   "cell_type": "code",
   "execution_count": 5,
   "metadata": {},
   "outputs": [],
   "source": [
    "users = [\"kfukuta\",  \"tmsausa\", \"yeye\", \"tmiya0107\", \"Niuchi\", \"suyama\", \"NN\",  \"hida\", \"Ahykw\", \"uz0512\", \"ktnyori\", \"tamurahey\", \n",
    "        \"chanchii\", \"fuppy0716\", \"parkmansor\", \"astrowidow\"]"
   ]
  },
  {
   "cell_type": "code",
   "execution_count": 6,
   "metadata": {},
   "outputs": [],
   "source": [
    "contest_name = 'arc114'\n",
    "url = 'https://atcoder.jp/contests/{}/standings'.format(contest_name)\n"
   ]
  },
  {
   "cell_type": "code",
   "execution_count": 7,
   "metadata": {},
   "outputs": [],
   "source": [
    "options = Options()\n",
    "options.add_argument('--headless')\n",
    "driver = webdriver.Chrome(options=options)\n",
    "\n",
    "driver.get(url)\n",
    "time.sleep(1)\n",
    "\n",
    "id = driver.find_element_by_id(\"username\")\n",
    "id.send_keys(\"kfukuta\")\n",
    "password = driver.find_element_by_id(\"password\")\n",
    "password.send_keys(\"qwe123qwe\")\n",
    "time.sleep(1)\n",
    "\n",
    "# ログインボタンをクリック\n",
    "login_button = driver.find_element_by_id(\"submit\")\n",
    "login_button.click()\n",
    "time.sleep(2)"
   ]
  },
  {
   "cell_type": "code",
   "execution_count": 9,
   "metadata": {},
   "outputs": [
    {
     "name": "stdout",
     "output_type": "stream",
     "text": [
      "Message: element not visible\n",
      "  (Session info: headless chrome=89.0.4389.82)\n",
      "  (Driver info: chromedriver=2.36.540469 (1881fd7f8641508feb5166b7cae561d87723cfa8),platform=Mac OS X 10.16.0 x86_64)\n",
      "\n",
      "tamurahey\n",
      "rank: 262, Score: 1300(3), Elapsed: 82:25\n",
      "https://atcoder.jp/users/tamurahey\n",
      "https://atcoder.jp/contests/arc114/submissions?f.User=tamurahey\n",
      "\n",
      "Ahykw\n",
      "rank: 880, Score: 700(2), Elapsed: 51:01\n",
      "https://atcoder.jp/users/Ahykw\n",
      "https://atcoder.jp/contests/arc114/submissions?f.User=Ahykw\n",
      "\n",
      "kfukuta\n",
      "rank: 961, Score: 700(2), Elapsed: 58:52\n",
      "https://atcoder.jp/users/kfukuta\n",
      "https://atcoder.jp/contests/arc114/submissions?f.User=kfukuta\n",
      "\n"
     ]
    }
   ],
   "source": [
    "\n",
    "def print_standings():\n",
    "    \n",
    "    driver.get(url)\n",
    "\n",
    "    already_show_own = False\n",
    "\n",
    "    cnt = 0\n",
    "    while cnt < 10:\n",
    "        try:\n",
    "            # 1000単位で表示\n",
    "            \n",
    "            driver.find_elements_by_class_name('standings-per-page')[4].click()\n",
    "            break\n",
    "        except Exception as e:\n",
    "            print(e)\n",
    "            \n",
    "        time.sleep(1)\n",
    "        cnt += 1\n",
    "\n",
    "    # 10000位まで順番に\n",
    "    for i in range(1, 10):\n",
    "\n",
    "        nums = driver.find_element_by_class_name('pagination-sm').find_elements_by_tag_name(\"li\")\n",
    "        for num in nums:\n",
    "            if num.text == str(i):\n",
    "                num.find_element_by_tag_name('a').click()\n",
    "                break\n",
    "\n",
    "        body = driver.find_element_by_tag_name(\"body\")\n",
    "        soup = BeautifulSoup(body.get_attribute(\"innerHTML\"), 'lxml')\n",
    "        trs = soup.find('tbody', id='standings-tbody').find_all(\"tr\")\n",
    "\n",
    "        for tr in trs:\n",
    "            try:\n",
    "                x = tr.text.split()\n",
    "\n",
    "                rank = x[0]\n",
    "                username = x[1]\n",
    "                if x[3].startswith(\"(\"):\n",
    "                    score = x[2] + x[3]\n",
    "                    elapsed = x[4]\n",
    "                else:\n",
    "                    score = x[2]\n",
    "                    elapsed = x[3]\n",
    "\n",
    "                if username in users:\n",
    "                    if username == 'kfukuta':\n",
    "                        if already_show_own:\n",
    "                            continue\n",
    "                        else:\n",
    "                            already_show_own = True\n",
    "                    print(username)\n",
    "                    print(\"rank: {}, Score: {}, Elapsed: {}\".format(rank, score, elapsed))\n",
    "                    print(\"https://atcoder.jp/users/{}\".format(username))\n",
    "                    print(\"https://atcoder.jp/contests/{}/submissions?f.User={}\".format(contest_name,  username))\n",
    "                    print()\n",
    "            except Exception as e:\n",
    "                pass\n",
    "                \n",
    "print_standings()"
   ]
  },
  {
   "cell_type": "code",
   "execution_count": 6,
   "metadata": {},
   "outputs": [
    {
     "name": "stdout",
     "output_type": "stream",
     "text": [
      "https://atcoder.jp/contests/agc052/standings\n"
     ]
    }
   ],
   "source": [
    "print(url)"
   ]
  },
  {
   "cell_type": "code",
   "execution_count": 7,
   "metadata": {},
   "outputs": [
    {
     "name": "stdout",
     "output_type": "stream",
     "text": [
      "https://atcoder.jp/users/kfukuta\n",
      "https://atcoder.jp/users/tmsausa\n",
      "https://atcoder.jp/users/yeye\n",
      "https://atcoder.jp/users/tmiya0107\n",
      "https://atcoder.jp/users/Niuchi\n",
      "https://atcoder.jp/users/suyama\n",
      "https://atcoder.jp/users/NN\n",
      "https://atcoder.jp/users/hida\n",
      "https://atcoder.jp/users/Ahykw\n",
      "https://atcoder.jp/users/uz0512\n",
      "https://atcoder.jp/users/ktnyori\n",
      "https://atcoder.jp/users/tamurahey\n",
      "https://atcoder.jp/users/chanchii\n",
      "https://atcoder.jp/users/fuppy0716\n",
      "https://atcoder.jp/users/parkmansor\n",
      "https://atcoder.jp/users/astrowidow\n"
     ]
    }
   ],
   "source": [
    "for username in users:\n",
    "    print(\"https://atcoder.jp/users/{}\".format(username))"
   ]
  },
  {
   "cell_type": "markdown",
   "metadata": {},
   "source": [
    "## 昔のやつ"
   ]
  },
  {
   "cell_type": "code",
   "execution_count": null,
   "metadata": {},
   "outputs": [],
   "source": [
    "# 一人ずつ検索して表示\n",
    "\n",
    "def print_user_standings_old(username):\n",
    "    \n",
    "    driver.find_element_by_id(\"input-user\").clear()\n",
    "    driver.find_element_by_id(\"input-user\").send_keys(username)\n",
    "    for tr in driver.find_elements_by_class_name('flip-table-enter-to'):\n",
    "        \n",
    "        info = tr.text.split(\"\\n\")\n",
    "#         print(info)\n",
    "\n",
    "        m = re.search(r\"\\d \\((\\d+)\\) (\\S+)\", info[0])\n",
    "        if m.group(2) != username:\n",
    "            continue\n",
    "        rank = m.group(1)\n",
    "        score = info[1]\n",
    "        elapsed = info[2]\n",
    "\n",
    "        print(username)\n",
    "        print(\"rank: {}, Score: {}, Elapsed: {}\".format(rank, score, elapsed))\n",
    "        print(\"https://atcoder.jp/users/{}\".format(username))\n",
    "        print(\"https://atcoder.jp/contests/{}/submissions?f.User={}\".format(contest_name,  username))\n",
    "        print()\n",
    "\n",
    "def print_standings_old():\n",
    "    time.sleep(5)\n",
    "    driver.find_element_by_id(\"standings-heading-div\").click()\n",
    "    for username in users:\n",
    "        try:\n",
    "            print_user_standings(username)\n",
    "        except:\n",
    "            continue\n",
    "\n",
    "print_standings_old()"
   ]
  },
  {
   "cell_type": "code",
   "execution_count": null,
   "metadata": {},
   "outputs": [],
   "source": []
  },
  {
   "cell_type": "code",
   "execution_count": 28,
   "metadata": {},
   "outputs": [
    {
     "name": "stdout",
     "output_type": "stream",
     "text": [
      "Message: unknown error: currentStandings is not defined\n",
      "  (Session info: chrome=80.0.3987.132)\n",
      "  (Driver info: chromedriver=2.36.540469 (1881fd7f8641508feb5166b7cae561d87723cfa8),platform=Mac OS X 10.14.5 x86_64)\n",
      "\n",
      "Message: unknown error: ATCODER is not defined\n",
      "  (Session info: chrome=80.0.3987.132)\n",
      "  (Driver info: chromedriver=2.36.540469 (1881fd7f8641508feb5166b7cae561d87723cfa8),platform=Mac OS X 10.14.5 x86_64)\n",
      "\n"
     ]
    }
   ],
   "source": [
    "try:\n",
    "    atcoder_object = driver.execute_script(\"return currentStandings;\")\n",
    "    data = atcoder_object['StandingsData']\n",
    "    keys = [\"UserScreenName\", \"Rank\", \"TotalResult\"]\n",
    "    user_name_keys = ['UserName', 'UserScreenName']\n",
    "\n",
    "except Exception as e:\n",
    "    print(e)\n",
    "    try:\n",
    "        atcoder_object = driver.execute_script(\"return ATCODER;\")\n",
    "        data = atcoder_object['standings']['data']\n",
    "\n",
    "        keys = [\"user_name\", \"rank\", \"score\", \"elapsed_time\"]\n",
    "        user_name_keys = ['user_name', 'user_screen_name']\n",
    "    \n",
    "    except Exception as e:\n",
    "        print(e)\n",
    "            "
   ]
  },
  {
   "cell_type": "code",
   "execution_count": 60,
   "metadata": {},
   "outputs": [],
   "source": [
    "from PIL import Image\n",
    "from io import BytesIO\n",
    "Image.open(BytesIO(driver.get_screenshot_as_png()))"
   ]
  },
  {
   "cell_type": "code",
   "execution_count": null,
   "metadata": {},
   "outputs": [],
   "source": [
    "\n",
    "def print_info(d):\n",
    "    for k in keys:\n",
    "        \n",
    "        if k == 'TotalResult':\n",
    "            v = d[k]\n",
    "            elapsed = v[\"Elapsed\"] // 1000000000\n",
    "            print(k, \"Score: {}, Elapse: {}:{:02d}\".format(v[\"Score\"], elapsed // 60, elapsed % 60))\n",
    "        else:\n",
    "            print(k, d[k])\n",
    "    \n",
    "    print(\"https://atcoder.jp/users/{}\".format(d[\"UserScreenName\"]))    \n",
    "    print(\"https://atcoder.jp/contests/{}/submissions?f.User={}\".format(contest_name,  d[\"UserScreenName\"]))\n",
    "    print()\n",
    "    \n",
    "for i in range(len(data)):\n",
    "    \n",
    "    for s in users:\n",
    "        if s.lower() in [data[i][k].lower() for k in user_name_keys]:\n",
    "            print_info(data[i])\n"
   ]
  },
  {
   "cell_type": "code",
   "execution_count": 6,
   "metadata": {},
   "outputs": [
    {
     "data": {
      "text/plain": [
       "193334812497256100891344545564"
      ]
     },
     "execution_count": 6,
     "metadata": {},
     "output_type": "execute_result"
    }
   ],
   "source": [
    "(10480701186 << 64)  + 6089931850005128988"
   ]
  },
  {
   "cell_type": "code",
   "execution_count": 7,
   "metadata": {},
   "outputs": [
    {
     "data": {
      "text/plain": [
       "'0b10011100001011001011001111000000100101010010000011110010001100000001110001111001001010011100011100'"
      ]
     },
     "execution_count": 7,
     "metadata": {},
     "output_type": "execute_result"
    }
   ],
   "source": [
    "x = 193334812497256100891344545564\n",
    "bin(x)"
   ]
  },
  {
   "cell_type": "code",
   "execution_count": 8,
   "metadata": {},
   "outputs": [
    {
     "data": {
      "text/plain": [
       "98"
      ]
     },
     "execution_count": 8,
     "metadata": {},
     "output_type": "execute_result"
    }
   ],
   "source": [
    "len(\"10011100001011001011001111000000100101010010000011110010001100000001110001111001001010011100011100\")"
   ]
  },
  {
   "cell_type": "code",
   "execution_count": 11,
   "metadata": {},
   "outputs": [],
   "source": [
    "\n",
    "def nCk(n,  k):\n",
    "    denominator = 1\n",
    "    numerator = 1\n",
    "    for i in range(k):\n",
    "        numerator *= (n - i)\n",
    "        denominator *= (i + 1)\n",
    "    ret = numerator // denominator\n",
    "    return ret"
   ]
  },
  {
   "cell_type": "code",
   "execution_count": 12,
   "metadata": {},
   "outputs": [
    {
     "data": {
      "text/plain": [
       "100891344545564193334812497256"
      ]
     },
     "execution_count": 12,
     "metadata": {},
     "output_type": "execute_result"
    }
   ],
   "source": [
    "nCk(100, 50)"
   ]
  },
  {
   "cell_type": "code",
   "execution_count": 15,
   "metadata": {},
   "outputs": [
    {
     "data": {
      "text/plain": [
       "17310309456440"
      ]
     },
     "execution_count": 15,
     "metadata": {},
     "output_type": "execute_result"
    }
   ],
   "source": [
    "nCk(100, 10)"
   ]
  },
  {
   "cell_type": "code",
   "execution_count": 16,
   "metadata": {},
   "outputs": [
    {
     "data": {
      "text/plain": [
       "38370793333817"
      ]
     },
     "execution_count": 16,
     "metadata": {},
     "output_type": "execute_result"
    }
   ],
   "source": [
    "38370793333817"
   ]
  },
  {
   "cell_type": "code",
   "execution_count": 14,
   "metadata": {},
   "outputs": [
    {
     "data": {
      "text/plain": [
       "18446744073709551616"
      ]
     },
     "execution_count": 14,
     "metadata": {},
     "output_type": "execute_result"
    }
   ],
   "source": [
    "1 << 64"
   ]
  },
  {
   "cell_type": "code",
   "execution_count": 45,
   "metadata": {},
   "outputs": [
    {
     "data": {
      "text/plain": [
       "['abc155',\n",
       " 'aribon2-3-8',\n",
       " 'abc152',\n",
       " 'abc190',\n",
       " 'abc050_arc066',\n",
       " 'abc164',\n",
       " 'aribon2-3-1',\n",
       " 'agc045',\n",
       " 'abc163',\n",
       " 'aribon2-3-6',\n",
       " 'gyoumu',\n",
       " 'aribon2-5-4',\n",
       " 'abc108',\n",
       " 'abc137',\n",
       " 'aribon2-5-3',\n",
       " 'abc130',\n",
       " 'abc139',\n",
       " 'abc106',\n",
       " 'asdf',\n",
       " 'aribon3-1-2',\n",
       " 'abc101',\n",
       " 'agc044',\n",
       " 'abc162',\n",
       " 'aribon3-6',\n",
       " 'aribon2-3-7',\n",
       " 'abc165',\n",
       " 'abc191',\n",
       " 'abc153',\n",
       " 'abc154',\n",
       " 'cmake-build-debug',\n",
       " 'aribon3-1-3',\n",
       " 'abc100',\n",
       " 'abc138',\n",
       " 'aribon3-1-4',\n",
       " 'agc021',\n",
       " 'abc107',\n",
       " 'arc042',\n",
       " 'aribon2-5-2',\n",
       " 'abc131',\n",
       " 'heuristics01',\n",
       " 'abc109',\n",
       " 'abc136',\n",
       " 'abc044',\n",
       " 'ABC以外感想.md',\n",
       " 'abc043',\n",
       " 'abc088',\n",
       " 'abc075',\n",
       " 'ddcc',\n",
       " '.DS_Store',\n",
       " 'abc086',\n",
       " 'nihonsaikyou',\n",
       " 'abc019',\n",
       " 'abc026',\n",
       " 'abc021',\n",
       " 'abc028',\n",
       " 'tokiomarine2020',\n",
       " 'abc017',\n",
       " 'abc010',\n",
       " 'abc087',\n",
       " 'abc073',\n",
       " 'test',\n",
       " 'abc080',\n",
       " 'abc042',\n",
       " 'abc089',\n",
       " 'abc045',\n",
       " 'abc011',\n",
       " 'abc029',\n",
       " 'abc016',\n",
       " 'abc020',\n",
       " 'バグ一覧.md',\n",
       " 'abc018',\n",
       " 'abc027',\n",
       " 'abc005',\n",
       " 'aribon4-8',\n",
       " 'aribon2-6-4',\n",
       " 'abc002',\n",
       " 'abc034',\n",
       " 'aribon3-2-5',\n",
       " 'abc033',\n",
       " 'abc058',\n",
       " '蟻本.md',\n",
       " 'keyence2021',\n",
       " 'abc093',\n",
       " 'abc067',\n",
       " 'abc060',\n",
       " 'abc069',\n",
       " 'abc056',\n",
       " 'arc113',\n",
       " 'abc051',\n",
       " 'abc032',\n",
       " 'aribon2-4-1',\n",
       " 'abc035',\n",
       " 'aribon4-7',\n",
       " 'abc003',\n",
       " 'abc004',\n",
       " 'aribon3-2-3_4',\n",
       " 'nomura2020',\n",
       " 'arc112',\n",
       " 'abc057',\n",
       " 'abc095',\n",
       " 'abc061',\n",
       " 'abc059',\n",
       " 'aribon2-2',\n",
       " 'keyence2020',\n",
       " '解法テクニックまとめ.md',\n",
       " 'abc066',\n",
       " 'abc092',\n",
       " 'abc114',\n",
       " 'agc032',\n",
       " 'cpp_template.cpp',\n",
       " 'agc035',\n",
       " 'abc113',\n",
       " 'abc125',\n",
       " 'abc122',\n",
       " '.ABC感想_images',\n",
       " 'abc149',\n",
       " 'abc182',\n",
       " 'Keyence',\n",
       " 'abc176',\n",
       " 'abc171',\n",
       " 'abc185',\n",
       " 'abc178',\n",
       " 'abc147',\n",
       " 'gcj2020',\n",
       " 'abc140',\n",
       " 'abc123',\n",
       " 'abc091_arc092',\n",
       " 'abc124',\n",
       " 'agc034',\n",
       " 'abc112',\n",
       " 'abc115',\n",
       " 'tdpc',\n",
       " 'abc141',\n",
       " 'abc179',\n",
       " 'abc146',\n",
       " 'abc184',\n",
       " 'abc170',\n",
       " 'abc148',\n",
       " 'abc177',\n",
       " 'abc183',\n",
       " 'abc133',\n",
       " 'abc134',\n",
       " 'aribon3-1-1',\n",
       " 'abc102',\n",
       " 'abc105',\n",
       " 'aising2020',\n",
       " 'abc151',\n",
       " 'csa_200125',\n",
       " 'abc156',\n",
       " 'arc013',\n",
       " 'abc169',\n",
       " 'agc046',\n",
       " 'abc160',\n",
       " 'ABC感想.md',\n",
       " 'aribon3-4',\n",
       " 'aribon2-3-5',\n",
       " 'abc167',\n",
       " 'aribon2-3-2',\n",
       " 'aribon3-3',\n",
       " 'abc158',\n",
       " 'abc104',\n",
       " 'abc103',\n",
       " 'diverta2019',\n",
       " 'agc013',\n",
       " 'abc135',\n",
       " 'abc132',\n",
       " 'agc014',\n",
       " 'abc166',\n",
       " 'abc192',\n",
       " 'abc159',\n",
       " 'abc161',\n",
       " 'aribon3-5',\n",
       " 'aribon2-3-4',\n",
       " 'arc012',\n",
       " 'abc157',\n",
       " 'abc168',\n",
       " 'abc150',\n",
       " 'aribon1-6',\n",
       " 'abc022',\n",
       " 'abc025',\n",
       " 'abc013',\n",
       " 'httf2020',\n",
       " 'abc014',\n",
       " 'arc105',\n",
       " 'diverta2019_2',\n",
       " 'abc040',\n",
       " 'todai',\n",
       " 'abc047',\n",
       " 'abc078',\n",
       " 'abc071',\n",
       " 'abc085',\n",
       " 'abc049',\n",
       " 'abc015',\n",
       " 'abc012',\n",
       " 'abc024',\n",
       " 'cxx-prettyprint',\n",
       " 'm-solutions2020',\n",
       " 'abc023',\n",
       " 'abc083',\n",
       " 'abc048',\n",
       " 'abc084',\n",
       " 'new_contest.py',\n",
       " 'abc046',\n",
       " 'abc079',\n",
       " 'abc041',\n",
       " 'arc104',\n",
       " 'abc063',\n",
       " 'abc097',\n",
       " 'aribon3-2-1_2',\n",
       " '.ipynb_checkpoints',\n",
       " 'abc090',\n",
       " 'abc064',\n",
       " 'abc099',\n",
       " 'abc052',\n",
       " 'abc055',\n",
       " 'arc110',\n",
       " 'abc001',\n",
       " 'tenka1_2019',\n",
       " 'aribon3-2-8',\n",
       " 'abc006',\n",
       " 'abc039',\n",
       " 'abc030',\n",
       " 'aribon2-4-3',\n",
       " 'aribon4-2',\n",
       " 'abc037',\n",
       " 'aribon4-5',\n",
       " 'abc008',\n",
       " 'past03',\n",
       " 'hhkb',\n",
       " 'arc111',\n",
       " 'abc054',\n",
       " 'abc098',\n",
       " 'abc053',\n",
       " 'panasonic2020',\n",
       " 'aribon2-1',\n",
       " 'abc065',\n",
       " 'abc096',\n",
       " 'abc062',\n",
       " 'abc036',\n",
       " 'aribon3-2-7',\n",
       " 'past02',\n",
       " 'aribon4-4',\n",
       " 'abc009',\n",
       " 'abc031',\n",
       " 'aribon4-3',\n",
       " 'abc007',\n",
       " 'abc038',\n",
       " 'edpc',\n",
       " 'aribon2-6-1',\n",
       " 'abc172',\n",
       " 'abc186',\n",
       " 'abc181',\n",
       " 'abc175',\n",
       " 'abc188',\n",
       " 'mitsui_sumitomo_2019',\n",
       " 'abc143',\n",
       " 'abc144',\n",
       " 'agc036',\n",
       " 'abc110',\n",
       " 'abc117',\n",
       " 'abc128',\n",
       " 'abc121',\n",
       " 'abc126',\n",
       " 'abc119',\n",
       " 'csa_200131',\n",
       " 'abc145',\n",
       " 'abc189',\n",
       " 'exawizards2019',\n",
       " 'abc142',\n",
       " 'abc174',\n",
       " 'abc180',\n",
       " 'arc031',\n",
       " 'code_festival_2015A',\n",
       " 'abc187',\n",
       " 'abc173',\n",
       " 'abc127',\n",
       " 'abc118',\n",
       " 'yahoo',\n",
       " 'abc120',\n",
       " 'agc039',\n",
       " 'abc116',\n",
       " 'abc129',\n",
       " '.idea',\n",
       " 'abc111']"
      ]
     },
     "execution_count": 45,
     "metadata": {},
     "output_type": "execute_result"
    }
   ],
   "source": [
    "import os\n",
    "path = \"/Users/fukuta0614/work_space/procon/Atcoder\"\n",
    "os.listdir(path)"
   ]
  },
  {
   "cell_type": "code",
   "execution_count": null,
   "metadata": {},
   "outputs": [],
   "source": []
  }
 ],
 "metadata": {
  "kernelspec": {
   "display_name": "Python 3",
   "language": "python",
   "name": "python3"
  },
  "language_info": {
   "codemirror_mode": {
    "name": "ipython",
    "version": 3
   },
   "file_extension": ".py",
   "mimetype": "text/x-python",
   "name": "python",
   "nbconvert_exporter": "python",
   "pygments_lexer": "ipython3",
   "version": "3.6.10"
  }
 },
 "nbformat": 4,
 "nbformat_minor": 2
}
