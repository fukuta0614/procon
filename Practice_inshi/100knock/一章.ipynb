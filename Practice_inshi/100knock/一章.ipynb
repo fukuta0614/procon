{
 "cells": [
  {
   "cell_type": "markdown",
   "metadata": {},
   "source": [
    "# 第1章: 準備運動"
   ]
  },
  {
   "cell_type": "markdown",
   "metadata": {},
   "source": [
    "## 00. 文字列の逆順\n",
    "文字列\"stressed\"の文字を逆に（末尾から先頭に向かって）並べた文字列を得よ．"
   ]
  },
  {
   "cell_type": "code",
   "execution_count": 1,
   "metadata": {
    "collapsed": false
   },
   "outputs": [
    {
     "data": {
      "text/plain": [
       "'desserts'"
      ]
     },
     "execution_count": 1,
     "metadata": {},
     "output_type": "execute_result"
    }
   ],
   "source": [
    "word = \"stressed\"\n",
    "word[::-1]"
   ]
  },
  {
   "cell_type": "markdown",
   "metadata": {},
   "source": [
    "## 01. 「パタトクカシーー」\n",
    "「パタトクカシーー」という文字列の1,3,5,7文字目を取り出して連結した文字列を得よ．"
   ]
  },
  {
   "cell_type": "code",
   "execution_count": 13,
   "metadata": {
    "collapsed": false
   },
   "outputs": [
    {
     "data": {
      "text/plain": [
       "'パトカー'"
      ]
     },
     "execution_count": 13,
     "metadata": {},
     "output_type": "execute_result"
    }
   ],
   "source": [
    "word = \"パタトクカシーー\"\n",
    "# \"\".join((word[1],word[3],word[5],word[7]))\n",
    "\"\".join(([word[i] for i in range(1,8,2)]))\n",
    "word[::2]"
   ]
  },
  {
   "cell_type": "code",
   "execution_count": 11,
   "metadata": {
    "collapsed": false
   },
   "outputs": [
    {
     "data": {
      "text/plain": [
       "'パタトクカシーー'"
      ]
     },
     "execution_count": 11,
     "metadata": {},
     "output_type": "execute_result"
    }
   ],
   "source": [
    "s1=\"パトカー\"\n",
    "s2=\"タクシー\"\n",
    "\"\".join([w1+w2 for w1,w2 in zip(s1,s2)])"
   ]
  },
  {
   "cell_type": "code",
   "execution_count": 22,
   "metadata": {
    "collapsed": false
   },
   "outputs": [
    {
     "data": {
      "text/plain": [
       "[3, 1, 4, 1, 5, 9, 2, 6, 5, 3, 5, 8, 9, 7, 9]"
      ]
     },
     "execution_count": 22,
     "metadata": {},
     "output_type": "execute_result"
    }
   ],
   "source": [
    "s=\"Now I need a drink, alcoholic of course, after the heavy lectures involving quantum mechanics.\"\n",
    "[len(w) for w in s.replace(',','').replace('.','').split()]"
   ]
  },
  {
   "cell_type": "code",
   "execution_count": 38,
   "metadata": {
    "collapsed": false
   },
   "outputs": [
    {
     "data": {
      "text/plain": [
       "{'A': 18,\n",
       " 'Al': 13,\n",
       " 'B': 5,\n",
       " 'C': 6,\n",
       " 'Ca': 20,\n",
       " 'Cl': 17,\n",
       " 'Fl': 9,\n",
       " 'He': 2,\n",
       " 'Hi': 1,\n",
       " 'Ki': 19,\n",
       " 'Li': 3,\n",
       " 'Mi': 12,\n",
       " 'N': 7,\n",
       " 'Na': 11,\n",
       " 'Ne': 10,\n",
       " 'O': 8,\n",
       " 'P': 15,\n",
       " 'S': 14,\n",
       " 'Se': 16}"
      ]
     },
     "execution_count": 38,
     "metadata": {},
     "output_type": "execute_result"
    }
   ],
   "source": [
    "s=\"Hi He Lied Because Boron Could Not Oxidize Fluorine. New Nations Might Also Sign Peace Security Clause. Arthur King Can.\"\n",
    "s.replace(',','').replace('.','').split()\n",
    "first=[x-1 for x in [1, 5, 6, 7, 8, 9, 15, 16, 19]]\n",
    "dict([(w[:1],i) if i in first else (w[:2],i) for i, w in enumerate(s.replace(',','').replace('.','').split(), 1)])"
   ]
  },
  {
   "cell_type": "code",
   "execution_count": 46,
   "metadata": {
    "collapsed": false
   },
   "outputs": [
    {
     "name": "stdout",
     "output_type": "stream",
     "text": [
      "['I ', ' a', 'am', 'm ', ' a', 'an', 'n ', ' N', 'NL', 'LP', 'Pe', 'er']\n",
      "[['I', 'am'], ['am', 'an'], ['an', 'NLPer']]\n"
     ]
    }
   ],
   "source": [
    "def char_ngram(s):\n",
    "    return [s[i:i+2] for i in range(len(s)-1)]\n",
    "\n",
    "def word_ngram(s):\n",
    "    words=s.replace(',','').replace('.','').split()\n",
    "    return [words[i:i+2] for i in range(len(words)-1)]\n",
    "\n",
    "print(char_ngram(s=\"I am an NLPer\"))\n",
    "print(word_ngram(s=\"I am an NLPer\"))"
   ]
  },
  {
   "cell_type": "code",
   "execution_count": 48,
   "metadata": {
    "collapsed": false
   },
   "outputs": [
    {
     "name": "stdout",
     "output_type": "stream",
     "text": [
      "{'ap', 'pa', 'ad', 'is', 'ra', 'ar', 'se', 'di'}\n",
      "{'ap', 'gr', 'pa', 'ar', 'ph', 'ra', 'ag'}\n",
      "{'ap', 'pa', 'ra', 'ar'}\n",
      "{'ap', 'gr', 'pa', 'ag', 'ad', 'is', 'ph', 'ra', 'ar', 'se', 'di'}\n",
      "{'is', 'ad', 'se', 'di'}\n"
     ]
    }
   ],
   "source": [
    "X = set(char_ngram(\"paraparaparadise\"))\n",
    "Y = set(char_ngram(\"paragraph\"))\n",
    "print(X)\n",
    "print(Y)\n",
    "print(X&Y)\n",
    "print(X|Y)\n",
    "print(X-Y)"
   ]
  },
  {
   "cell_type": "code",
   "execution_count": 50,
   "metadata": {
    "collapsed": false
   },
   "outputs": [
    {
     "name": "stdout",
     "output_type": "stream",
     "text": [
      "12時の気温は22.4\n"
     ]
    }
   ],
   "source": [
    "def tempreture(x,y,z):\n",
    "    print(\"{}時の{}は{}\".format(x,y,z))\n",
    "\n",
    "tempreture(12,\"気温\",22.4)"
   ]
  },
  {
   "cell_type": "code",
   "execution_count": 89,
   "metadata": {
    "collapsed": false
   },
   "outputs": [
    {
     "data": {
      "text/plain": [
       "'Hello, World'"
      ]
     },
     "execution_count": 89,
     "metadata": {},
     "output_type": "execute_result"
    }
   ],
   "source": [
    "def cipher(s):\n",
    "    return re.sub(r\"([a-z])\", lambda m:chr(219-ord(m.group())), s)\n",
    "\n",
    "s=\"Hello, World\"\n",
    "cipher(cipher(s))"
   ]
  },
  {
   "cell_type": "code",
   "execution_count": 108,
   "metadata": {
    "collapsed": false
   },
   "outputs": [
    {
     "data": {
      "text/plain": [
       "\"I cold'unt bieleve that I culod alucltay urnsdatned what I was rainedg : the pnemoaehnl pwoer of the hmuan mind .\""
      ]
     },
     "execution_count": 108,
     "metadata": {},
     "output_type": "execute_result"
    }
   ],
   "source": [
    "import random\n",
    "s=\"I couldn't believe that I could actually understand what I was reading : the phenomenal power of the human mind .\"\n",
    "\n",
    "\" \".join([w[0]+\"\".join(random.sample(w[1:-1], len(w[1:-1])))+w[-1] if len(w)>4 else w for w in s.split()])"
   ]
  }
 ],
 "metadata": {
  "kernelspec": {
   "display_name": "Python 3",
   "language": "python",
   "name": "python3"
  },
  "language_info": {
   "codemirror_mode": {
    "name": "ipython",
    "version": 3
   },
   "file_extension": ".py",
   "mimetype": "text/x-python",
   "name": "python",
   "nbconvert_exporter": "python",
   "pygments_lexer": "ipython3",
   "version": "3.5.1"
  }
 },
 "nbformat": 4,
 "nbformat_minor": 0
}
