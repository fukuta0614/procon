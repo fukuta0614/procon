{
 "cells": [
  {
   "cell_type": "markdown",
   "metadata": {},
   "source": [
    "# 第8章: 機械学習"
   ]
  },
  {
   "cell_type": "code",
   "execution_count": 36,
   "metadata": {
    "collapsed": false
   },
   "outputs": [],
   "source": [
    "from stop_words import get_stop_words\n",
    "from nltk.stem.porter import PorterStemmer\n",
    "import re"
   ]
  },
  {
   "cell_type": "markdown",
   "metadata": {},
   "source": [
    "## 70. データの入手・整形\n",
    "文に関する極性分析の正解データを用い，以下の要領で正解データ（sentiment.txt）を作成せよ．\n",
    "\n",
    "rt-polarity.posの各行の先頭に\"+1 \"という文字列を追加する（極性ラベル\"+1\"とスペースに続けて肯定的な文の内容が続く）\n",
    "rt-polarity.negの各行の先頭に\"-1 \"という文字列を追加する（極性ラベル\"-1\"とスペースに続けて否定的な文の内容が続く）\n",
    "上述1と2の内容を結合（concatenate）し，行をランダムに並び替える\n",
    "sentiment.txtを作成したら，正例（肯定的な文）の数と負例（否定的な文）の数を確認せよ．"
   ]
  },
  {
   "cell_type": "code",
   "execution_count": 4,
   "metadata": {
    "collapsed": false
   },
   "outputs": [
    {
     "name": "stdout",
     "output_type": "stream",
     "text": [
      "/Users/fukuta-mil/Program/python/Misc/Practice/100knock/rt-polaritydata/rt-polaritydata\n"
     ]
    }
   ],
   "source": [
    "cd rt-polaritydata/"
   ]
  },
  {
   "cell_type": "code",
   "execution_count": 193,
   "metadata": {
    "collapsed": false
   },
   "outputs": [],
   "source": [
    "import random\n",
    "with open('rt-polarity.pos', encoding='latin_1') as f1, open('rt-polarity.neg', encoding='latin_1') as f2, open('sentiment.txt', 'w') as f:\n",
    "    text = []\n",
    "    for line in f1:\n",
    "        text.append(\"+1 \"+line)\n",
    "    for line in f2:\n",
    "        text.append(\"-1 \"+line)\n",
    "    random.shuffle(text)\n",
    "    f.write(''.join(text))"
   ]
  },
  {
   "cell_type": "markdown",
   "metadata": {},
   "source": [
    "## 71. ストップワード\n",
    "英語のストップワードのリスト（ストップリスト）を適当に作成せよ．さらに，引数に与えられた単語（文字列）がストップリストに含まれている場合は真，それ以外は偽を返す関数を実装せよ．さらに，その関数に対するテストを記述せよ．"
   ]
  },
  {
   "cell_type": "code",
   "execution_count": 63,
   "metadata": {
    "collapsed": true
   },
   "outputs": [],
   "source": [
    "class Util:\n",
    "    stop_words = get_stop_words('english')\n",
    "\n",
    "    @staticmethod\n",
    "    def is_stop_word(_word):\n",
    "        return _word in Util.stop_words"
   ]
  },
  {
   "cell_type": "code",
   "execution_count": 70,
   "metadata": {
    "collapsed": false
   },
   "outputs": [
    {
     "data": {
      "text/plain": [
       "True"
      ]
     },
     "execution_count": 70,
     "metadata": {},
     "output_type": "execute_result"
    }
   ],
   "source": [
    "Util.is_stop_word('he')    "
   ]
  },
  {
   "cell_type": "markdown",
   "metadata": {},
   "source": [
    "## 72. 素性抽出\n",
    "極性分析に有用そうな素性を各自で設計し，学習データから素性を抽出せよ．素性としては，レビューからストップワードを除去し，各単語をステミング処理したものが最低限のベースラインとなるであろう．"
   ]
  },
  {
   "cell_type": "code",
   "execution_count": 215,
   "metadata": {
    "collapsed": false
   },
   "outputs": [],
   "source": [
    "with open('sentiment.txt') as f:\n",
    "    text = f.read().split('\\n')[:-1]\n",
    "\n",
    "fig = re.compile(r'[,.:;/\\'\\\"\\-\\(\\)!]+')\n",
    "space = re.compile(r'\\s+')\n",
    "stemmer = PorterStemmer()\n",
    "\n",
    "data = []\n",
    "\n",
    "for line in text:\n",
    "    feature = []\n",
    "    label = line[:3]\n",
    "    x = space.split(fig.sub(' ',line[3:]))\n",
    "    for word in x:\n",
    "        stem = stemmer.stem(word)\n",
    "        if Util.is_stop_word(stem) or word=='':\n",
    "            continue\n",
    "        feature.append(stem)\n",
    "    data.append((label,feature))\n",
    "    \n",
    "from functools import reduce\n",
    "\n",
    "vocab = set(reduce(lambda a,b: a+b, [x[1] for x in data]))\n",
    "special_words = set(['<unk>'])\n",
    "\n",
    "word2index = dict(map(lambda x: (x[1], x[0]), enumerate(vocab | special_words)))\n",
    "index2word = list(vocab | special_words)\n",
    "\n",
    "x_data = []\n",
    "y_data = []\n",
    "for label, s in data:\n",
    "    x_data.append([word2index[w] for w in s])\n",
    "    y_data.append((int(label)+1)//2)"
   ]
  },
  {
   "cell_type": "markdown",
   "metadata": {},
   "source": [
    "## 73. 学習\n",
    "72で抽出した素性を用いて，ロジスティック回帰モデルを学習せよ．"
   ]
  },
  {
   "cell_type": "code",
   "execution_count": 217,
   "metadata": {
    "collapsed": false
   },
   "outputs": [],
   "source": [
    "X_data = np.zeros((len(x_data), len(word2index)))\n",
    "for i in range(len(x_data)):\n",
    "    for j in x_data[i]:\n",
    "        X_data[i][j] = 1"
   ]
  },
  {
   "cell_type": "code",
   "execution_count": 221,
   "metadata": {
    "collapsed": false
   },
   "outputs": [
    {
     "data": {
      "text/plain": [
       "LogisticRegression(C=1.0, class_weight=None, dual=False, fit_intercept=True,\n",
       "          intercept_scaling=1, max_iter=100, multi_class='ovr', n_jobs=1,\n",
       "          penalty='l1', random_state=None, solver='liblinear', tol=0.0001,\n",
       "          verbose=0, warm_start=False)"
      ]
     },
     "execution_count": 221,
     "metadata": {},
     "output_type": "execute_result"
    }
   ],
   "source": [
    "from sklearn.linear_model import LogisticRegression\n",
    "clf_lr = LogisticRegression(penalty='l1')\n",
    "clf_lr.fit(X_data[100:], y_data[100:])"
   ]
  },
  {
   "cell_type": "code",
   "execution_count": 234,
   "metadata": {
    "collapsed": false
   },
   "outputs": [
    {
     "data": {
      "text/plain": [
       "0.76923076923076916"
      ]
     },
     "execution_count": 234,
     "metadata": {},
     "output_type": "execute_result"
    }
   ],
   "source": [
    "from sklearn.metrics import f1_score\n",
    "f1_score(clf_lr.predict(X_data[:100]), y_data[:100])"
   ]
  },
  {
   "cell_type": "code",
   "execution_count": 256,
   "metadata": {
    "collapsed": false
   },
   "outputs": [
    {
     "data": {
      "text/plain": [
       "array([12846,  7188,  2794,  1024,  6623,  5319,  3202,  5456, 11677,  9572])"
      ]
     },
     "execution_count": 256,
     "metadata": {},
     "output_type": "execute_result"
    }
   ],
   "source": []
  },
  {
   "cell_type": "code",
   "execution_count": null,
   "metadata": {
    "collapsed": false
   },
   "outputs": [],
   "source": []
  },
  {
   "cell_type": "code",
   "execution_count": 267,
   "metadata": {
    "collapsed": false
   },
   "outputs": [
    {
     "data": {
      "text/plain": [
       "[('engross', 3.1536107264284028),\n",
       " ('resist', 2.5688042846464367),\n",
       " ('refresh', 2.494846045429433),\n",
       " ('unexpect', 2.475847314158369),\n",
       " ('acknowledg', 2.4368640250080125),\n",
       " ('sli', 2.3435443264266755),\n",
       " ('gloriou', 2.3313605598270213),\n",
       " ('smarter', 2.228294159787132),\n",
       " ('son', 2.136560781418249),\n",
       " ('outlandish', 2.0846022576158787)]"
      ]
     },
     "execution_count": 267,
     "metadata": {},
     "output_type": "execute_result"
    }
   ],
   "source": [
    "list(zip(np.array(index2word)[np.argsort(clf_lr.coef_[0])[::-1][:10]], sorted(clf_lr.coef_[0])[::-1][:10]))"
   ]
  },
  {
   "cell_type": "code",
   "execution_count": null,
   "metadata": {
    "collapsed": true
   },
   "outputs": [],
   "source": []
  }
 ],
 "metadata": {
  "kernelspec": {
   "display_name": "Python 3",
   "language": "python",
   "name": "python3"
  },
  "language_info": {
   "codemirror_mode": {
    "name": "ipython",
    "version": 3
   },
   "file_extension": ".py",
   "mimetype": "text/x-python",
   "name": "python",
   "nbconvert_exporter": "python",
   "pygments_lexer": "ipython3",
   "version": "3.5.1"
  }
 },
 "nbformat": 4,
 "nbformat_minor": 0
}
